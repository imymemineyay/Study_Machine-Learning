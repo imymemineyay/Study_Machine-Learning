{
  "nbformat": 4,
  "nbformat_minor": 0,
  "metadata": {
    "colab": {
      "provenance": [],
      "toc_visible": true,
      "authorship_tag": "ABX9TyPsuNAN4hYLayb27i0HhQOh"
    },
    "kernelspec": {
      "name": "python3",
      "display_name": "Python 3"
    },
    "language_info": {
      "name": "python"
    }
  },
  "cells": [
    {
      "cell_type": "markdown",
      "source": [
        "## 5-1 분석하기 좋은 데이터\n",
        "\n",
        ": 데이터 집합을 분석하기 좋은 상태로 만들어 놓은 것\n",
        "\n",
        ": 데이터 분석 단계에서 데이터 정리는 아주 중요\n",
        "\n",
        "        \n",
        "\n",
        "        깔끔한 데이터의 조건\n",
        "\n",
        "        - 데이터 분석 목적에 맞는 데이터를 모아 새로운 표를 만들어야 함\n",
        "        - 측정한 값은 행을 구성해야 함\n",
        "        - 변수는 열로 구성해야 함\n",
        "\n",
        "\n",
        "데이터 집합은 연관성이 깉은 값끼리 모여 있기 때문에 데이터 연결을 통해 필요한 데이터를 만드는 과정이 반드시 필요 "
      ],
      "metadata": {
        "id": "4DpzkEDAGRgv"
      }
    },
    {
      "cell_type": "markdown",
      "source": [
        "## 5-2 데이터 연결 기초\n"
      ],
      "metadata": {
        "id": "6gr69KAWHFAl"
      }
    },
    {
      "cell_type": "markdown",
      "source": [
        "### concat 메서드\n",
        "\n",
        ": 연결하려는 데이터프레임을 리스트에 담아 전달하면 연결한 데이터프레임 반환\n",
        "\n",
        ": 위에서 아래로 연결\n",
        "\n",
        ": 한 번에 2개 이상의 데이터프레임을 연결할 수 있는 메서드\n",
        "\n",
        ": 만약, 연결할 데이터프레임이 1개라면 append 메서드 사용가능\n",
        "\n",
        "\n",
        "\n",
        "주의 : 데이터프레임과 시리즈를 연결하면 시리즈가 새로운 열로 추가됨 \n",
        "\n",
        "→ 시리즈에는 열 이름이 없기 때문에 새로운 열로 간주함\n",
        "\n",
        "→ 행 1개로 구성된 데이터 프레임 생성하여 연결시켜 주어야함"
      ],
      "metadata": {
        "id": "FM-a1jm0I8SK"
      }
    },
    {
      "cell_type": "code",
      "execution_count": null,
      "metadata": {
        "colab": {
          "base_uri": "https://localhost:8080/"
        },
        "id": "bywHNDYJF0IL",
        "outputId": "4b278f16-91a6-4ed8-b098-83cd1591ef61"
      },
      "outputs": [
        {
          "output_type": "stream",
          "name": "stdout",
          "text": [
            "Mounted at /content/drive\n"
          ]
        }
      ],
      "source": [
        "import pandas as pd\n",
        "\n",
        "from google.colab import drive # connect google drive\n",
        "drive.mount('/content/drive')"
      ]
    },
    {
      "cell_type": "code",
      "source": [
        "df1 = pd.read_csv('/content/drive/MyDrive/My_GitHub/Python_ML/Doit_Pandas_dataset/concat_1.csv')\n",
        "df2 = pd.read_csv('/content/drive/MyDrive/My_GitHub/Python_ML/Doit_Pandas_dataset/concat_2.csv')\n",
        "df3 = pd.read_csv('/content/drive/MyDrive/My_GitHub/Python_ML/Doit_Pandas_dataset/concat_3.csv')"
      ],
      "metadata": {
        "id": "5O5vwHU5JOm_"
      },
      "execution_count": null,
      "outputs": []
    },
    {
      "cell_type": "code",
      "source": [
        "row_concat = pd.concat([df1,df2,df3])\n",
        "print(row_concat)"
      ],
      "metadata": {
        "colab": {
          "base_uri": "https://localhost:8080/"
        },
        "id": "jbEjFnswJqcm",
        "outputId": "594b6251-0559-4408-ed7e-0c312e22e483"
      },
      "execution_count": null,
      "outputs": [
        {
          "output_type": "stream",
          "name": "stdout",
          "text": [
            "     A    B    C    D\n",
            "0   a0   b0   c0   d0\n",
            "1   a1   b1   c1   d1\n",
            "2   a2   b2   c2   d2\n",
            "3   a3   b3   c3   d3\n",
            "0   a4   b4   c4   d4\n",
            "1   a5   b5   c5   d5\n",
            "2   a6   b6   c6   d6\n",
            "3   a7   b7   c7   d7\n",
            "0   a8   b8   c8   d8\n",
            "1   a9   b9   c9   d9\n",
            "2  a10  b10  c10  d10\n",
            "3  a11  b11  c11  d11\n"
          ]
        }
      ]
    },
    {
      "cell_type": "code",
      "source": [
        "print(row_concat.iloc[3,])"
      ],
      "metadata": {
        "colab": {
          "base_uri": "https://localhost:8080/"
        },
        "id": "grNlk8CxJw4G",
        "outputId": "813fb59f-25ca-4c28-d42f-df6d899f7ec1"
      },
      "execution_count": null,
      "outputs": [
        {
          "output_type": "stream",
          "name": "stdout",
          "text": [
            "A    a3\n",
            "B    b3\n",
            "C    c3\n",
            "D    d3\n",
            "Name: 3, dtype: object\n"
          ]
        }
      ]
    },
    {
      "cell_type": "code",
      "source": [
        "new_row_series = pd.Series(['n1','n2','n3','n4'])"
      ],
      "metadata": {
        "id": "K6G9dFSvJ8GW"
      },
      "execution_count": null,
      "outputs": []
    },
    {
      "cell_type": "code",
      "source": [
        "print(pd.concat([df1,new_row_series]))"
      ],
      "metadata": {
        "colab": {
          "base_uri": "https://localhost:8080/"
        },
        "id": "Q3ftR3HyKIQq",
        "outputId": "59ccedb9-deed-4538-a056-b2b172766753"
      },
      "execution_count": null,
      "outputs": [
        {
          "output_type": "stream",
          "name": "stdout",
          "text": [
            "     A    B    C    D    0\n",
            "0   a0   b0   c0   d0  NaN\n",
            "1   a1   b1   c1   d1  NaN\n",
            "2   a2   b2   c2   d2  NaN\n",
            "3   a3   b3   c3   d3  NaN\n",
            "0  NaN  NaN  NaN  NaN   n1\n",
            "1  NaN  NaN  NaN  NaN   n2\n",
            "2  NaN  NaN  NaN  NaN   n3\n",
            "3  NaN  NaN  NaN  NaN   n4\n"
          ]
        }
      ]
    },
    {
      "cell_type": "markdown",
      "source": [
        "#### 행 1개로 구성된 데이터프레임 연결"
      ],
      "metadata": {
        "id": "mDjas4OsMBk4"
      }
    },
    {
      "cell_type": "code",
      "source": [
        "new_row_df = pd.DataFrame([['n1','n2','n3','n4']], columns=['A','B','C','D'])\n",
        "print(new_row_df)"
      ],
      "metadata": {
        "colab": {
          "base_uri": "https://localhost:8080/"
        },
        "id": "pR7WLTkPKN5W",
        "outputId": "7aed2f23-c7a3-43e6-e105-3679b7d2887d"
      },
      "execution_count": null,
      "outputs": [
        {
          "output_type": "stream",
          "name": "stdout",
          "text": [
            "    A   B   C   D\n",
            "0  n1  n2  n3  n4\n"
          ]
        }
      ]
    },
    {
      "cell_type": "code",
      "source": [
        "print(pd.concat([df1,new_row_df]))"
      ],
      "metadata": {
        "colab": {
          "base_uri": "https://localhost:8080/"
        },
        "id": "Z6wXPgs6Lhd_",
        "outputId": "7e322f7a-ff26-4b15-b1f8-495d4c07bc3e"
      },
      "execution_count": null,
      "outputs": [
        {
          "output_type": "stream",
          "name": "stdout",
          "text": [
            "    A   B   C   D\n",
            "0  a0  b0  c0  d0\n",
            "1  a1  b1  c1  d1\n",
            "2  a2  b2  c2  d2\n",
            "3  a3  b3  c3  d3\n",
            "0  n1  n2  n3  n4\n"
          ]
        }
      ]
    },
    {
      "cell_type": "code",
      "source": [
        "print(df1.append(new_row_df))"
      ],
      "metadata": {
        "colab": {
          "base_uri": "https://localhost:8080/"
        },
        "id": "vWCS8fWnLl5J",
        "outputId": "01feec0d-e136-4dd7-f665-c7f0b259ec95"
      },
      "execution_count": null,
      "outputs": [
        {
          "output_type": "stream",
          "name": "stdout",
          "text": [
            "    A   B   C   D\n",
            "0  a0  b0  c0  d0\n",
            "1  a1  b1  c1  d1\n",
            "2  a2  b2  c2  d2\n",
            "3  a3  b3  c3  d3\n",
            "0  n1  n2  n3  n4\n"
          ]
        }
      ]
    },
    {
      "cell_type": "markdown",
      "source": [
        "append 메서드와 딕셔너리를 사용하면 더욱 간편하게 행 연결 가능\n",
        "\n",
        "ignore_index = True 로 설정하면 데이터를 연결한 다음 데이터프레임의 인덱스를 다시 지정함"
      ],
      "metadata": {
        "id": "cIRJz_gmL95b"
      }
    },
    {
      "cell_type": "code",
      "source": [
        "data_dict = {'A':'n1', 'B':'n2', 'C':'n3','D':'n4'}\n",
        "print(df1.append(data_dict, ignore_index=True))"
      ],
      "metadata": {
        "colab": {
          "base_uri": "https://localhost:8080/"
        },
        "id": "xVud33BqL6Ng",
        "outputId": "e66769f0-b80f-4c46-d90e-1db7dc859354"
      },
      "execution_count": null,
      "outputs": [
        {
          "output_type": "stream",
          "name": "stdout",
          "text": [
            "    A   B   C   D\n",
            "0  a0  b0  c0  d0\n",
            "1  a1  b1  c1  d1\n",
            "2  a2  b2  c2  d2\n",
            "3  a3  b3  c3  d3\n",
            "4  n1  n2  n3  n4\n"
          ]
        }
      ]
    },
    {
      "cell_type": "markdown",
      "source": [
        "### 다양한 방법으로 데이터 연결"
      ],
      "metadata": {
        "id": "ZUheTifKMlzm"
      }
    },
    {
      "cell_type": "markdown",
      "source": [
        "#### 인덱스 순서 재설정"
      ],
      "metadata": {
        "id": "Pu3MF0sWMy2f"
      }
    },
    {
      "cell_type": "code",
      "source": [
        "row_concat_i = pd.concat([df1,df2,df3], ignore_index=True)\n",
        "print(row_concat_i)"
      ],
      "metadata": {
        "colab": {
          "base_uri": "https://localhost:8080/"
        },
        "id": "VRzrbdrcMfjJ",
        "outputId": "cf4e3301-ddc5-46df-efde-76210740de1f"
      },
      "execution_count": null,
      "outputs": [
        {
          "output_type": "stream",
          "name": "stdout",
          "text": [
            "      A    B    C    D\n",
            "0    a0   b0   c0   d0\n",
            "1    a1   b1   c1   d1\n",
            "2    a2   b2   c2   d2\n",
            "3    a3   b3   c3   d3\n",
            "4    a4   b4   c4   d4\n",
            "5    a5   b5   c5   d5\n",
            "6    a6   b6   c6   d6\n",
            "7    a7   b7   c7   d7\n",
            "8    a8   b8   c8   d8\n",
            "9    a9   b9   c9   d9\n",
            "10  a10  b10  c10  d10\n",
            "11  a11  b11  c11  d11\n"
          ]
        }
      ]
    },
    {
      "cell_type": "markdown",
      "source": [
        "#### 열 방향으로 데이터 연결\n",
        "\n",
        "axis =1 로 지정"
      ],
      "metadata": {
        "id": "S6ZIfz33M3gq"
      }
    },
    {
      "cell_type": "code",
      "source": [
        "col_concat = pd.concat([df1,df2,df3],axis=1)\n",
        "print(col_concat)"
      ],
      "metadata": {
        "colab": {
          "base_uri": "https://localhost:8080/"
        },
        "id": "nZaVu3VJMvkZ",
        "outputId": "baa717ce-0799-4448-90e7-4a3e24fad16b"
      },
      "execution_count": null,
      "outputs": [
        {
          "output_type": "stream",
          "name": "stdout",
          "text": [
            "    A   B   C   D   A   B   C   D    A    B    C    D\n",
            "0  a0  b0  c0  d0  a4  b4  c4  d4   a8   b8   c8   d8\n",
            "1  a1  b1  c1  d1  a5  b5  c5  d5   a9   b9   c9   d9\n",
            "2  a2  b2  c2  d2  a6  b6  c6  d6  a10  b10  c10  d10\n",
            "3  a3  b3  c3  d3  a7  b7  c7  d7  a11  b11  c11  d11\n"
          ]
        }
      ]
    },
    {
      "cell_type": "code",
      "source": [
        "print(col_concat['A']) # 해당 열 이름의 데이터 모두 추출"
      ],
      "metadata": {
        "colab": {
          "base_uri": "https://localhost:8080/"
        },
        "id": "itwG70LINA2D",
        "outputId": "a524812a-1d09-4e51-f1de-9f9599cf8409"
      },
      "execution_count": null,
      "outputs": [
        {
          "output_type": "stream",
          "name": "stdout",
          "text": [
            "    A   A    A\n",
            "0  a0  a4   a8\n",
            "1  a1  a5   a9\n",
            "2  a2  a6  a10\n",
            "3  a3  a7  a11\n"
          ]
        }
      ]
    },
    {
      "cell_type": "code",
      "source": [
        "col_concat['new_col_list'] = ['n1','n2','n3','n4']\n",
        "print(col_concat)"
      ],
      "metadata": {
        "colab": {
          "base_uri": "https://localhost:8080/"
        },
        "id": "nBV6CaZSNHnC",
        "outputId": "c5af988b-7fe7-4300-9e31-ff4d3723b05c"
      },
      "execution_count": null,
      "outputs": [
        {
          "output_type": "stream",
          "name": "stdout",
          "text": [
            "    A   B   C   D   A   B   C   D    A    B    C    D new_col_list\n",
            "0  a0  b0  c0  d0  a4  b4  c4  d4   a8   b8   c8   d8           n1\n",
            "1  a1  b1  c1  d1  a5  b5  c5  d5   a9   b9   c9   d9           n2\n",
            "2  a2  b2  c2  d2  a6  b6  c6  d6  a10  b10  c10  d10           n3\n",
            "3  a3  b3  c3  d3  a7  b7  c7  d7  a11  b11  c11  d11           n4\n"
          ]
        }
      ]
    },
    {
      "cell_type": "markdown",
      "source": [
        "#### 열 이름 재지정\n",
        "\n",
        "ignore_index=True"
      ],
      "metadata": {
        "id": "4r8fcmvcNjJn"
      }
    },
    {
      "cell_type": "code",
      "source": [
        "print(pd.concat([df1,df2,df3], axis=1, ignore_index=True))"
      ],
      "metadata": {
        "colab": {
          "base_uri": "https://localhost:8080/"
        },
        "id": "8vZDlyg7NUlB",
        "outputId": "f9283b0a-ece9-4c93-93dd-c11b65f1f5e1"
      },
      "execution_count": null,
      "outputs": [
        {
          "output_type": "stream",
          "name": "stdout",
          "text": [
            "   0   1   2   3   4   5   6   7    8    9    10   11\n",
            "0  a0  b0  c0  d0  a4  b4  c4  d4   a8   b8   c8   d8\n",
            "1  a1  b1  c1  d1  a5  b5  c5  d5   a9   b9   c9   d9\n",
            "2  a2  b2  c2  d2  a6  b6  c6  d6  a10  b10  c10  d10\n",
            "3  a3  b3  c3  d3  a7  b7  c7  d7  a11  b11  c11  d11\n"
          ]
        }
      ]
    },
    {
      "cell_type": "markdown",
      "source": [
        "#### 공통 열과 공통 인덱스만 연결\n",
        "\n",
        "\n",
        "join = 'inner'"
      ],
      "metadata": {
        "id": "EU99tSJGNvqp"
      }
    },
    {
      "cell_type": "code",
      "source": [
        "df1.columns=['A','B','C','D']\n",
        "df2.columns=['E','F','G','H']\n",
        "df3.columns=['A','C','F','H']\n",
        "\n",
        "print(df1)\n",
        "print('-'*60)\n",
        "print(type(df1))\n",
        "\n",
        "print('-'*60)\n",
        "print(df2)\n",
        "print('-'*60)\n",
        "print(type(df2))\n",
        "\n",
        "print('-'*60)\n",
        "print(df3)\n",
        "print('-'*60)\n",
        "print(type(df3))"
      ],
      "metadata": {
        "colab": {
          "base_uri": "https://localhost:8080/"
        },
        "id": "3s7mz3HfNr3d",
        "outputId": "3d90d4db-32f4-4835-eff9-d807e4172c0b"
      },
      "execution_count": null,
      "outputs": [
        {
          "output_type": "stream",
          "name": "stdout",
          "text": [
            "    A   B   C   D\n",
            "0  a0  b0  c0  d0\n",
            "1  a1  b1  c1  d1\n",
            "2  a2  b2  c2  d2\n",
            "3  a3  b3  c3  d3\n",
            "------------------------------------------------------------\n",
            "<class 'pandas.core.frame.DataFrame'>\n",
            "------------------------------------------------------------\n",
            "    E   F   G   H\n",
            "0  a4  b4  c4  d4\n",
            "1  a5  b5  c5  d5\n",
            "2  a6  b6  c6  d6\n",
            "3  a7  b7  c7  d7\n",
            "------------------------------------------------------------\n",
            "<class 'pandas.core.frame.DataFrame'>\n",
            "------------------------------------------------------------\n",
            "     A    C    F    H\n",
            "0   a8   b8   c8   d8\n",
            "1   a9   b9   c9   d9\n",
            "2  a10  b10  c10  d10\n",
            "3  a11  b11  c11  d11\n",
            "------------------------------------------------------------\n",
            "<class 'pandas.core.frame.DataFrame'>\n"
          ]
        }
      ]
    },
    {
      "cell_type": "code",
      "source": [
        "row_concat = pd.concat([df1,df2,df3])\n",
        "print(row_concat)"
      ],
      "metadata": {
        "colab": {
          "base_uri": "https://localhost:8080/"
        },
        "id": "LSDeZYgGOPaF",
        "outputId": "20afa0ba-4f97-4b01-b5e2-2102c3b3a338"
      },
      "execution_count": null,
      "outputs": [
        {
          "output_type": "stream",
          "name": "stdout",
          "text": [
            "     A    B    C    D    E    F    G    H\n",
            "0   a0   b0   c0   d0  NaN  NaN  NaN  NaN\n",
            "1   a1   b1   c1   d1  NaN  NaN  NaN  NaN\n",
            "2   a2   b2   c2   d2  NaN  NaN  NaN  NaN\n",
            "3   a3   b3   c3   d3  NaN  NaN  NaN  NaN\n",
            "0  NaN  NaN  NaN  NaN   a4   b4   c4   d4\n",
            "1  NaN  NaN  NaN  NaN   a5   b5   c5   d5\n",
            "2  NaN  NaN  NaN  NaN   a6   b6   c6   d6\n",
            "3  NaN  NaN  NaN  NaN   a7   b7   c7   d7\n",
            "0   a8  NaN   b8  NaN  NaN   c8  NaN   d8\n",
            "1   a9  NaN   b9  NaN  NaN   c9  NaN   d9\n",
            "2  a10  NaN  b10  NaN  NaN  c10  NaN  d10\n",
            "3  a11  NaN  b11  NaN  NaN  c11  NaN  d11\n"
          ]
        }
      ]
    },
    {
      "cell_type": "code",
      "source": [
        "print(pd.concat([df1,df2,df3],join='inner')) # 공통된 열이 없기 때문에 결과값으로 Empty Dataframe 이 나옴\n"
      ],
      "metadata": {
        "colab": {
          "base_uri": "https://localhost:8080/"
        },
        "id": "NyJyVanUOaJN",
        "outputId": "8966c9c7-dadf-4d1d-a5ea-9dfe6c7b0269"
      },
      "execution_count": null,
      "outputs": [
        {
          "output_type": "stream",
          "name": "stdout",
          "text": [
            "Empty DataFrame\n",
            "Columns: []\n",
            "Index: [0, 1, 2, 3, 0, 1, 2, 3, 0, 1, 2, 3]\n"
          ]
        }
      ]
    },
    {
      "cell_type": "code",
      "source": [
        "print(pd.concat([df1,df3], ignore_index=True, join='inner'))"
      ],
      "metadata": {
        "colab": {
          "base_uri": "https://localhost:8080/"
        },
        "id": "_ig33AidOoTt",
        "outputId": "026854a7-e201-40c8-e5cd-bffdb19a4d7a"
      },
      "execution_count": null,
      "outputs": [
        {
          "output_type": "stream",
          "name": "stdout",
          "text": [
            "     A    C\n",
            "0   a0   c0\n",
            "1   a1   c1\n",
            "2   a2   c2\n",
            "3   a3   c3\n",
            "4   a8   b8\n",
            "5   a9   b9\n",
            "6  a10  b10\n",
            "7  a11  b11\n"
          ]
        }
      ]
    },
    {
      "cell_type": "code",
      "source": [
        "df1.index = [0,1,2,3]\n",
        "df2.index = [4,5,6,7]\n",
        "df3.index = [0,2,5,7]\n",
        "\n",
        "\n",
        "print(df1)\n",
        "\n",
        "print('-'*30)\n",
        "\n",
        "print(df2)\n",
        "\n",
        "print('-'*30)\n",
        "\n",
        "print(df3)"
      ],
      "metadata": {
        "colab": {
          "base_uri": "https://localhost:8080/"
        },
        "id": "8xpr_mqiPBC2",
        "outputId": "0d382bf5-d483-49a9-b6fc-9a0f1723a1fb"
      },
      "execution_count": null,
      "outputs": [
        {
          "output_type": "stream",
          "name": "stdout",
          "text": [
            "    A   B   C   D\n",
            "0  a0  b0  c0  d0\n",
            "1  a1  b1  c1  d1\n",
            "2  a2  b2  c2  d2\n",
            "3  a3  b3  c3  d3\n",
            "------------------------------\n",
            "    E   F   G   H\n",
            "4  a4  b4  c4  d4\n",
            "5  a5  b5  c5  d5\n",
            "6  a6  b6  c6  d6\n",
            "7  a7  b7  c7  d7\n",
            "------------------------------\n",
            "     A    C    F    H\n",
            "0   a8   b8   c8   d8\n",
            "2   a9   b9   c9   d9\n",
            "5  a10  b10  c10  d10\n",
            "7  a11  b11  c11  d11\n"
          ]
        }
      ]
    },
    {
      "cell_type": "code",
      "source": [
        "col_concat = pd.concat([df1,df2,df3], axis=1)\n",
        "print(col_concat)"
      ],
      "metadata": {
        "colab": {
          "base_uri": "https://localhost:8080/"
        },
        "id": "uo46Ad1wPTX2",
        "outputId": "75610d4e-2298-4946-edbf-fa62d779c0c9"
      },
      "execution_count": null,
      "outputs": [
        {
          "output_type": "stream",
          "name": "stdout",
          "text": [
            "     A    B    C    D    E    F    G    H    A    C    F    H\n",
            "0   a0   b0   c0   d0  NaN  NaN  NaN  NaN   a8   b8   c8   d8\n",
            "1   a1   b1   c1   d1  NaN  NaN  NaN  NaN  NaN  NaN  NaN  NaN\n",
            "2   a2   b2   c2   d2  NaN  NaN  NaN  NaN   a9   b9   c9   d9\n",
            "3   a3   b3   c3   d3  NaN  NaN  NaN  NaN  NaN  NaN  NaN  NaN\n",
            "4  NaN  NaN  NaN  NaN   a4   b4   c4   d4  NaN  NaN  NaN  NaN\n",
            "5  NaN  NaN  NaN  NaN   a5   b5   c5   d5  a10  b10  c10  d10\n",
            "6  NaN  NaN  NaN  NaN   a6   b6   c6   d6  NaN  NaN  NaN  NaN\n",
            "7  NaN  NaN  NaN  NaN   a7   b7   c7   d7  a11  b11  c11  d11\n"
          ]
        }
      ]
    },
    {
      "cell_type": "code",
      "source": [
        "print(pd.concat([df1,df3],axis=1,join='inner'))"
      ],
      "metadata": {
        "colab": {
          "base_uri": "https://localhost:8080/"
        },
        "id": "Uu-dned-PcnH",
        "outputId": "302bc231-5b61-478a-cf59-5476247272fb"
      },
      "execution_count": null,
      "outputs": [
        {
          "output_type": "stream",
          "name": "stdout",
          "text": [
            "    A   B   C   D   A   C   F   H\n",
            "0  a0  b0  c0  d0  a8  b8  c8  d8\n",
            "2  a2  b2  c2  d2  a9  b9  c9  d9\n"
          ]
        }
      ]
    },
    {
      "cell_type": "markdown",
      "source": [
        "### 외부 조인과 내부 조인\n",
        "\n",
        "      내부 조인\n",
        "      - 둘 이상의 데이터 프레임에서 조건에 맞는 행을 연결하는 것\n",
        "\n",
        "\n",
        "      외부 조인\n",
        "      - 두 데이터프레임 중 어떤 데이터프레임을 기준으로 할 것인지에 따라 왼쪽 외부 조인과 오른쪽 외부 조인, 완전 외부 조인으로 나눌 수 있음.\n",
        "      - 왼쪽 외부 조인 : 데이터프레임을 연결할 때 왼쪽 데이터프레임을 모두 포함하여 연결\n",
        "      - 오른쪽 외부 조인 : 데이터프레임을 연결할 때 오른쪽 데이터프레임을 모두 포함하여 연결\n",
        "      - 완전 외부 조인 : 왼쪽과 오른쪽 데이터프레임을 모두 포함하여 연결"
      ],
      "metadata": {
        "id": "Att__MGFPpUz"
      }
    },
    {
      "cell_type": "markdown",
      "source": [
        "## 5-3 데이터 연결 마무리\n",
        "\n",
        "merge 메서드 : 데이터 연결 전용 메서드 "
      ],
      "metadata": {
        "id": "w0pfq6-aQQxh"
      }
    },
    {
      "cell_type": "code",
      "source": [
        "person = pd.read_csv('/content/drive/MyDrive/My_GitHub/Python_ML/Doit_Pandas_dataset/survey_person.csv')\n",
        "site = pd.read_csv('/content/drive/MyDrive/My_GitHub/Python_ML/Doit_Pandas_dataset/survey_site.csv')\n",
        "survey = pd.read_csv('/content/drive/MyDrive/My_GitHub/Python_ML/Doit_Pandas_dataset/survey_survey.csv')\n",
        "visited = pd.read_csv('/content/drive/MyDrive/My_GitHub/Python_ML/Doit_Pandas_dataset/survey_visited.csv')\n",
        "\n",
        "print(person)\n",
        "print('-'*40)\n",
        "\n",
        "print(site)\n",
        "print('-'*40)\n",
        "\n",
        "print(survey)\n",
        "print('-'*40)\n",
        "\n",
        "print(visited)\n"
      ],
      "metadata": {
        "colab": {
          "base_uri": "https://localhost:8080/"
        },
        "id": "14t0F0oZPk2R",
        "outputId": "4f82778a-624f-4c58-b013-78b835127a41"
      },
      "execution_count": null,
      "outputs": [
        {
          "output_type": "stream",
          "name": "stdout",
          "text": [
            "      ident   personal    family\n",
            "0      dyer    William      Dyer\n",
            "1        pb      Frank   Pabodie\n",
            "2      lake   Anderson      Lake\n",
            "3       roe  Valentina   Roerich\n",
            "4  danforth      Frank  Danforth\n",
            "----------------------------------------\n",
            "    name    lat    long\n",
            "0   DR-1 -49.85 -128.57\n",
            "1   DR-3 -47.15 -126.72\n",
            "2  MSK-4 -48.87 -123.40\n",
            "----------------------------------------\n",
            "    taken person quant  reading\n",
            "0     619   dyer   rad     9.82\n",
            "1     619   dyer   sal     0.13\n",
            "2     622   dyer   rad     7.80\n",
            "3     622   dyer   sal     0.09\n",
            "4     734     pb   rad     8.41\n",
            "5     734   lake   sal     0.05\n",
            "6     734     pb  temp   -21.50\n",
            "7     735     pb   rad     7.22\n",
            "8     735    NaN   sal     0.06\n",
            "9     735    NaN  temp   -26.00\n",
            "10    751     pb   rad     4.35\n",
            "11    751     pb  temp   -18.50\n",
            "12    751   lake   sal     0.10\n",
            "13    752   lake   rad     2.19\n",
            "14    752   lake   sal     0.09\n",
            "15    752   lake  temp   -16.00\n",
            "16    752    roe   sal    41.60\n",
            "17    837   lake   rad     1.46\n",
            "18    837   lake   sal     0.21\n",
            "19    837    roe   sal    22.50\n",
            "20    844    roe   rad    11.25\n",
            "----------------------------------------\n",
            "   ident   site       dated\n",
            "0    619   DR-1  1927-02-08\n",
            "1    622   DR-1  1927-02-10\n",
            "2    734   DR-3  1939-01-07\n",
            "3    735   DR-3  1930-01-12\n",
            "4    751   DR-3  1930-02-26\n",
            "5    752   DR-3         NaN\n",
            "6    837  MSK-4  1932-01-14\n",
            "7    844   DR-1  1932-03-22\n"
          ]
        }
      ]
    },
    {
      "cell_type": "code",
      "source": [
        "visited_subset = visited.loc[[0,2,6],]"
      ],
      "metadata": {
        "id": "KTdg3oTmQ3Mb"
      },
      "execution_count": null,
      "outputs": []
    },
    {
      "cell_type": "markdown",
      "source": [
        "merge메서드는 기본적으로 내부 조인을 실행하며 메서드를 사용한 데이터프레임을 왼쪽으로 지정하고 첫 번째 인잣값으로 지정한 데이터프레임을 오른쪽으로 지정함\n",
        "\n",
        "left_on, right_on 인자는 값이 일치해야 할 왼쪽과 오른쪽 데이터프레임의 열을 지정함\n",
        "\n",
        "즉, 왼쪽 데이터프레임의 열과 오른쪽 데이터프레임의 열의 값이 일치하면 왼쪽 데이터프레임을 기준으로 연결함 "
      ],
      "metadata": {
        "id": "bFIwKuuNRMg8"
      }
    },
    {
      "cell_type": "markdown",
      "source": [
        "추가 체크 ) left_on 과 right_on 에 전달하는 값은 여러 개라도 상관 없음\n"
      ],
      "metadata": {
        "id": "2K_BERRMnAei"
      }
    },
    {
      "cell_type": "code",
      "source": [
        "print(site)\n",
        "\n",
        "print('-'*30)\n",
        "\n",
        "print(visited_subset)"
      ],
      "metadata": {
        "colab": {
          "base_uri": "https://localhost:8080/"
        },
        "id": "KR06G8lyl32t",
        "outputId": "ca605143-afbd-43c9-d2cc-e1ef34a095bb"
      },
      "execution_count": null,
      "outputs": [
        {
          "output_type": "stream",
          "name": "stdout",
          "text": [
            "    name    lat    long\n",
            "0   DR-1 -49.85 -128.57\n",
            "1   DR-3 -47.15 -126.72\n",
            "2  MSK-4 -48.87 -123.40\n",
            "------------------------------\n",
            "   ident   site       dated\n",
            "0    619   DR-1  1927-02-08\n",
            "2    734   DR-3  1939-01-07\n",
            "6    837  MSK-4  1932-01-14\n"
          ]
        }
      ]
    },
    {
      "cell_type": "code",
      "source": [
        "o2o_merge = site.merge(visited_subset, left_on='name', right_on='site')\n",
        "print(o2o_merge)"
      ],
      "metadata": {
        "colab": {
          "base_uri": "https://localhost:8080/"
        },
        "id": "oNH8sH2fljVA",
        "outputId": "bae6d9e7-9590-4266-ee7a-c3110c237af9"
      },
      "execution_count": null,
      "outputs": [
        {
          "output_type": "stream",
          "name": "stdout",
          "text": [
            "    name    lat    long  ident   site       dated\n",
            "0   DR-1 -49.85 -128.57    619   DR-1  1927-02-08\n",
            "1   DR-3 -47.15 -126.72    734   DR-3  1939-01-07\n",
            "2  MSK-4 -48.87 -123.40    837  MSK-4  1932-01-14\n"
          ]
        }
      ]
    },
    {
      "cell_type": "code",
      "source": [
        "m2o_merge = site.merge(visited, left_on='name', right_on='site')\n",
        "print(m2o_merge)"
      ],
      "metadata": {
        "colab": {
          "base_uri": "https://localhost:8080/"
        },
        "id": "k-xme3Otme8v",
        "outputId": "d2459ff0-12ac-486f-dc84-06bc6de647cf"
      },
      "execution_count": null,
      "outputs": [
        {
          "output_type": "stream",
          "name": "stdout",
          "text": [
            "    name    lat    long  ident   site       dated\n",
            "0   DR-1 -49.85 -128.57    619   DR-1  1927-02-08\n",
            "1   DR-1 -49.85 -128.57    622   DR-1  1927-02-10\n",
            "2   DR-1 -49.85 -128.57    844   DR-1  1932-03-22\n",
            "3   DR-3 -47.15 -126.72    734   DR-3  1939-01-07\n",
            "4   DR-3 -47.15 -126.72    735   DR-3  1930-01-12\n",
            "5   DR-3 -47.15 -126.72    751   DR-3  1930-02-26\n",
            "6   DR-3 -47.15 -126.72    752   DR-3         NaN\n",
            "7  MSK-4 -48.87 -123.40    837  MSK-4  1932-01-14\n"
          ]
        }
      ]
    },
    {
      "cell_type": "code",
      "source": [
        "ps = person.merge(survey, left_on='ident', right_on='person')\n",
        "vs = visited.merge(survey, left_on='ident', right_on='taken')\n",
        "\n",
        "print(ps)\n",
        "\n",
        "print('-'*60)\n",
        "\n",
        "print(vs)"
      ],
      "metadata": {
        "colab": {
          "base_uri": "https://localhost:8080/"
        },
        "id": "GhIX9IbCmn5f",
        "outputId": "a34209cc-9830-4272-a967-f8caba285594"
      },
      "execution_count": null,
      "outputs": [
        {
          "output_type": "stream",
          "name": "stdout",
          "text": [
            "   ident   personal   family  taken person quant  reading\n",
            "0   dyer    William     Dyer    619   dyer   rad     9.82\n",
            "1   dyer    William     Dyer    619   dyer   sal     0.13\n",
            "2   dyer    William     Dyer    622   dyer   rad     7.80\n",
            "3   dyer    William     Dyer    622   dyer   sal     0.09\n",
            "4     pb      Frank  Pabodie    734     pb   rad     8.41\n",
            "5     pb      Frank  Pabodie    734     pb  temp   -21.50\n",
            "6     pb      Frank  Pabodie    735     pb   rad     7.22\n",
            "7     pb      Frank  Pabodie    751     pb   rad     4.35\n",
            "8     pb      Frank  Pabodie    751     pb  temp   -18.50\n",
            "9   lake   Anderson     Lake    734   lake   sal     0.05\n",
            "10  lake   Anderson     Lake    751   lake   sal     0.10\n",
            "11  lake   Anderson     Lake    752   lake   rad     2.19\n",
            "12  lake   Anderson     Lake    752   lake   sal     0.09\n",
            "13  lake   Anderson     Lake    752   lake  temp   -16.00\n",
            "14  lake   Anderson     Lake    837   lake   rad     1.46\n",
            "15  lake   Anderson     Lake    837   lake   sal     0.21\n",
            "16   roe  Valentina  Roerich    752    roe   sal    41.60\n",
            "17   roe  Valentina  Roerich    837    roe   sal    22.50\n",
            "18   roe  Valentina  Roerich    844    roe   rad    11.25\n",
            "------------------------------------------------------------\n",
            "    ident   site       dated  taken person quant  reading\n",
            "0     619   DR-1  1927-02-08    619   dyer   rad     9.82\n",
            "1     619   DR-1  1927-02-08    619   dyer   sal     0.13\n",
            "2     622   DR-1  1927-02-10    622   dyer   rad     7.80\n",
            "3     622   DR-1  1927-02-10    622   dyer   sal     0.09\n",
            "4     734   DR-3  1939-01-07    734     pb   rad     8.41\n",
            "5     734   DR-3  1939-01-07    734   lake   sal     0.05\n",
            "6     734   DR-3  1939-01-07    734     pb  temp   -21.50\n",
            "7     735   DR-3  1930-01-12    735     pb   rad     7.22\n",
            "8     735   DR-3  1930-01-12    735    NaN   sal     0.06\n",
            "9     735   DR-3  1930-01-12    735    NaN  temp   -26.00\n",
            "10    751   DR-3  1930-02-26    751     pb   rad     4.35\n",
            "11    751   DR-3  1930-02-26    751     pb  temp   -18.50\n",
            "12    751   DR-3  1930-02-26    751   lake   sal     0.10\n",
            "13    752   DR-3         NaN    752   lake   rad     2.19\n",
            "14    752   DR-3         NaN    752   lake   sal     0.09\n",
            "15    752   DR-3         NaN    752   lake  temp   -16.00\n",
            "16    752   DR-3         NaN    752    roe   sal    41.60\n",
            "17    837  MSK-4  1932-01-14    837   lake   rad     1.46\n",
            "18    837  MSK-4  1932-01-14    837   lake   sal     0.21\n",
            "19    837  MSK-4  1932-01-14    837    roe   sal    22.50\n",
            "20    844   DR-1  1932-03-22    844    roe   rad    11.25\n"
          ]
        }
      ]
    },
    {
      "cell_type": "code",
      "source": [
        "ps_vs = ps.merge(vs, left_on = ['ident','taken','quant','reading'],right_on=['person','ident','quant','reading'])"
      ],
      "metadata": {
        "id": "b4PdqWcKm56W"
      },
      "execution_count": null,
      "outputs": []
    },
    {
      "cell_type": "code",
      "source": [
        "print(ps_vs)"
      ],
      "metadata": {
        "colab": {
          "base_uri": "https://localhost:8080/"
        },
        "id": "u7sYtA8JnVQt",
        "outputId": "255f2c1e-5562-4b65-f957-fdc61bb8a9d1"
      },
      "execution_count": null,
      "outputs": [
        {
          "output_type": "stream",
          "name": "stdout",
          "text": [
            "   ident_x   personal   family  taken_x person_x quant  reading  ident_y  \\\n",
            "0     dyer    William     Dyer      619     dyer   rad     9.82      619   \n",
            "1     dyer    William     Dyer      619     dyer   sal     0.13      619   \n",
            "2     dyer    William     Dyer      622     dyer   rad     7.80      622   \n",
            "3     dyer    William     Dyer      622     dyer   sal     0.09      622   \n",
            "4       pb      Frank  Pabodie      734       pb   rad     8.41      734   \n",
            "5       pb      Frank  Pabodie      734       pb  temp   -21.50      734   \n",
            "6       pb      Frank  Pabodie      735       pb   rad     7.22      735   \n",
            "7       pb      Frank  Pabodie      751       pb   rad     4.35      751   \n",
            "8       pb      Frank  Pabodie      751       pb  temp   -18.50      751   \n",
            "9     lake   Anderson     Lake      734     lake   sal     0.05      734   \n",
            "10    lake   Anderson     Lake      751     lake   sal     0.10      751   \n",
            "11    lake   Anderson     Lake      752     lake   rad     2.19      752   \n",
            "12    lake   Anderson     Lake      752     lake   sal     0.09      752   \n",
            "13    lake   Anderson     Lake      752     lake  temp   -16.00      752   \n",
            "14    lake   Anderson     Lake      837     lake   rad     1.46      837   \n",
            "15    lake   Anderson     Lake      837     lake   sal     0.21      837   \n",
            "16     roe  Valentina  Roerich      752      roe   sal    41.60      752   \n",
            "17     roe  Valentina  Roerich      837      roe   sal    22.50      837   \n",
            "18     roe  Valentina  Roerich      844      roe   rad    11.25      844   \n",
            "\n",
            "     site       dated  taken_y person_y  \n",
            "0    DR-1  1927-02-08      619     dyer  \n",
            "1    DR-1  1927-02-08      619     dyer  \n",
            "2    DR-1  1927-02-10      622     dyer  \n",
            "3    DR-1  1927-02-10      622     dyer  \n",
            "4    DR-3  1939-01-07      734       pb  \n",
            "5    DR-3  1939-01-07      734       pb  \n",
            "6    DR-3  1930-01-12      735       pb  \n",
            "7    DR-3  1930-02-26      751       pb  \n",
            "8    DR-3  1930-02-26      751       pb  \n",
            "9    DR-3  1939-01-07      734     lake  \n",
            "10   DR-3  1930-02-26      751     lake  \n",
            "11   DR-3         NaN      752     lake  \n",
            "12   DR-3         NaN      752     lake  \n",
            "13   DR-3         NaN      752     lake  \n",
            "14  MSK-4  1932-01-14      837     lake  \n",
            "15  MSK-4  1932-01-14      837     lake  \n",
            "16   DR-3         NaN      752      roe  \n",
            "17  MSK-4  1932-01-14      837      roe  \n",
            "18   DR-1  1932-03-22      844      roe  \n"
          ]
        }
      ]
    },
    {
      "cell_type": "markdown",
      "source": [
        "## 6-1 누락값이란?\n",
        "\n",
        "누락값(NaN)\n",
        "\n",
        ": 0, ' '와 같은 값과 다른 개념\n",
        "\n",
        ": 말 그대로 '데이터 자체가 없다'는 개념\n",
        "\n",
        ": 데이터 자체가 없기 때문에 자기 자신과 비교하더라고 False가 출력됨\n",
        "\n",
        "누락값을 파이썬에서 사용하려면 numpy라이브러리가 필요\n",
        "\n",
        "\n",
        "누락값 확인하는 법\n",
        "\n",
        ": isnull 메서드 이용"
      ],
      "metadata": {
        "id": "_NHt3aJzngmC"
      }
    },
    {
      "cell_type": "code",
      "source": [
        "from numpy import NaN,NAN,nan"
      ],
      "metadata": {
        "id": "Fz3ApqxfnXGC"
      },
      "execution_count": null,
      "outputs": []
    },
    {
      "cell_type": "code",
      "source": [
        "print(NaN==True, '-'*7, sep='\\n')\n",
        "\n",
        "\n",
        "print(NaN==False, '-'*7, sep='\\n')\n",
        "\n",
        "\n",
        "print(NaN==0,'-'*7, sep='\\n')\n",
        "\n",
        "\n",
        "print(NaN=='')"
      ],
      "metadata": {
        "colab": {
          "base_uri": "https://localhost:8080/"
        },
        "id": "7aQ-5zaZnvQD",
        "outputId": "0cce4762-4549-4394-a012-8a55afbbef71"
      },
      "execution_count": null,
      "outputs": [
        {
          "output_type": "stream",
          "name": "stdout",
          "text": [
            "False\n",
            "-------\n",
            "False\n",
            "-------\n",
            "False\n",
            "-------\n",
            "False\n"
          ]
        }
      ]
    },
    {
      "cell_type": "code",
      "source": [
        "print(NAN ==NAN,'-'*7, sep='\\n')\n",
        "\n",
        "print(NAN ==nan,'-'*7, sep='\\n')\n",
        "\n",
        "print(NaN ==NAN,'-'*7, sep='\\n')\n",
        "\n",
        "print(nan ==NAN)\n"
      ],
      "metadata": {
        "colab": {
          "base_uri": "https://localhost:8080/"
        },
        "id": "9HH6Jsb8oKB9",
        "outputId": "79d90e50-28bc-4476-e5f6-1ed08d3f1504"
      },
      "execution_count": null,
      "outputs": [
        {
          "output_type": "stream",
          "name": "stdout",
          "text": [
            "False\n",
            "-------\n",
            "False\n",
            "-------\n",
            "False\n",
            "-------\n",
            "False\n"
          ]
        }
      ]
    },
    {
      "cell_type": "code",
      "source": [
        "import pandas as pd\n",
        "\n",
        "print(pd.isnull(NaN),'-'*7,sep='\\n')\n",
        "\n",
        "print(pd.isnull(NAN),'-'*7,sep='\\n')\n",
        "\n",
        "print(pd.isnull(nan))"
      ],
      "metadata": {
        "colab": {
          "base_uri": "https://localhost:8080/"
        },
        "id": "_ohpiArdouK_",
        "outputId": "49551e42-73b0-4338-976a-5f15372f6c11"
      },
      "execution_count": null,
      "outputs": [
        {
          "output_type": "stream",
          "name": "stdout",
          "text": [
            "True\n",
            "-------\n",
            "True\n",
            "-------\n",
            "True\n"
          ]
        }
      ]
    },
    {
      "cell_type": "code",
      "source": [
        "print(pd.notnull(NaN),'-'*7,sep='\\n')\n",
        "\n",
        "print(pd.notnull(42),'-'*7,sep='\\n')\n",
        "\n",
        "print(pd.notnull('missing'))"
      ],
      "metadata": {
        "colab": {
          "base_uri": "https://localhost:8080/"
        },
        "id": "JLzyOaUkp_EB",
        "outputId": "bfed696e-c060-46fc-8580-374a01f106fc"
      },
      "execution_count": null,
      "outputs": [
        {
          "output_type": "stream",
          "name": "stdout",
          "text": [
            "False\n",
            "-------\n",
            "True\n",
            "-------\n",
            "True\n"
          ]
        }
      ]
    },
    {
      "cell_type": "markdown",
      "source": [
        "### 누락값이 생기는 이유\n",
        "\n",
        "누락값은 처음부터 누락값이 있는 데이터를 불러오거나 데이터를 연결 입력하는 등의 과정에서 생길 수 있음\n",
        "\n",
        "\n",
        "      1. 누락값이 있는 데이터 집합을 연결할 때 누락값이 생기는 경우\n",
        "      → 누락값이 포함되어 있는 데이터 집합을 연결하면 더 많은 누락값이 생김\n",
        "\n",
        "      2. 데이터를 입력할 때 누락값이 생기는 경우\n",
        "      → 데이터를 잘못 입력하여 생길 수 있음\n",
        "      \n",
        "      3. 범위를 지정하여 데이터를 추출할 때 누락값이 생기는 경우\n",
        "      → 데이터프레임에 존재하지 않는 데이터를 추출하면 누락값이 생김"
      ],
      "metadata": {
        "id": "7RP43neGqJPO"
      }
    },
    {
      "cell_type": "markdown",
      "source": [
        "1. 누락값이 있는 데이터 집합을 연결할 때 누락값이 생기는 경우"
      ],
      "metadata": {
        "id": "JLKCLxIorCjM"
      }
    },
    {
      "cell_type": "code",
      "source": [
        "print(visited,'-'*40,sep='\\n')\n",
        "\n",
        "print(survey)"
      ],
      "metadata": {
        "colab": {
          "base_uri": "https://localhost:8080/"
        },
        "id": "FSmr6nRUqHhi",
        "outputId": "aec8d9f7-4b80-4f10-d1a7-9d7d24978d8b"
      },
      "execution_count": null,
      "outputs": [
        {
          "output_type": "stream",
          "name": "stdout",
          "text": [
            "   ident   site       dated\n",
            "0    619   DR-1  1927-02-08\n",
            "1    622   DR-1  1927-02-10\n",
            "2    734   DR-3  1939-01-07\n",
            "3    735   DR-3  1930-01-12\n",
            "4    751   DR-3  1930-02-26\n",
            "5    752   DR-3         NaN\n",
            "6    837  MSK-4  1932-01-14\n",
            "7    844   DR-1  1932-03-22\n",
            "----------------------------------------\n",
            "    taken person quant  reading\n",
            "0     619   dyer   rad     9.82\n",
            "1     619   dyer   sal     0.13\n",
            "2     622   dyer   rad     7.80\n",
            "3     622   dyer   sal     0.09\n",
            "4     734     pb   rad     8.41\n",
            "5     734   lake   sal     0.05\n",
            "6     734     pb  temp   -21.50\n",
            "7     735     pb   rad     7.22\n",
            "8     735    NaN   sal     0.06\n",
            "9     735    NaN  temp   -26.00\n",
            "10    751     pb   rad     4.35\n",
            "11    751     pb  temp   -18.50\n",
            "12    751   lake   sal     0.10\n",
            "13    752   lake   rad     2.19\n",
            "14    752   lake   sal     0.09\n",
            "15    752   lake  temp   -16.00\n",
            "16    752    roe   sal    41.60\n",
            "17    837   lake   rad     1.46\n",
            "18    837   lake   sal     0.21\n",
            "19    837    roe   sal    22.50\n",
            "20    844    roe   rad    11.25\n"
          ]
        }
      ]
    },
    {
      "cell_type": "code",
      "source": [
        "vs = visited.merge(survey, left_on='ident',right_on='taken')\n",
        "print(vs)"
      ],
      "metadata": {
        "colab": {
          "base_uri": "https://localhost:8080/"
        },
        "id": "BphUZ5pYrXwe",
        "outputId": "6a456877-8e8f-4e4f-c72b-c0014f4aadaa"
      },
      "execution_count": null,
      "outputs": [
        {
          "output_type": "stream",
          "name": "stdout",
          "text": [
            "    ident   site       dated  taken person quant  reading\n",
            "0     619   DR-1  1927-02-08    619   dyer   rad     9.82\n",
            "1     619   DR-1  1927-02-08    619   dyer   sal     0.13\n",
            "2     622   DR-1  1927-02-10    622   dyer   rad     7.80\n",
            "3     622   DR-1  1927-02-10    622   dyer   sal     0.09\n",
            "4     734   DR-3  1939-01-07    734     pb   rad     8.41\n",
            "5     734   DR-3  1939-01-07    734   lake   sal     0.05\n",
            "6     734   DR-3  1939-01-07    734     pb  temp   -21.50\n",
            "7     735   DR-3  1930-01-12    735     pb   rad     7.22\n",
            "8     735   DR-3  1930-01-12    735    NaN   sal     0.06\n",
            "9     735   DR-3  1930-01-12    735    NaN  temp   -26.00\n",
            "10    751   DR-3  1930-02-26    751     pb   rad     4.35\n",
            "11    751   DR-3  1930-02-26    751     pb  temp   -18.50\n",
            "12    751   DR-3  1930-02-26    751   lake   sal     0.10\n",
            "13    752   DR-3         NaN    752   lake   rad     2.19\n",
            "14    752   DR-3         NaN    752   lake   sal     0.09\n",
            "15    752   DR-3         NaN    752   lake  temp   -16.00\n",
            "16    752   DR-3         NaN    752    roe   sal    41.60\n",
            "17    837  MSK-4  1932-01-14    837   lake   rad     1.46\n",
            "18    837  MSK-4  1932-01-14    837   lake   sal     0.21\n",
            "19    837  MSK-4  1932-01-14    837    roe   sal    22.50\n",
            "20    844   DR-1  1932-03-22    844    roe   rad    11.25\n"
          ]
        }
      ]
    },
    {
      "cell_type": "markdown",
      "source": [
        "2. 데이터를 입력할 때 누락값이 생기는 경우"
      ],
      "metadata": {
        "id": "C4ro7OSCrrSw"
      }
    },
    {
      "cell_type": "code",
      "source": [
        "num_legs = pd.Series({'goat':4,'amoeba':nan})\n",
        "print(num_legs)\n",
        "print(type(num_legs))"
      ],
      "metadata": {
        "colab": {
          "base_uri": "https://localhost:8080/"
        },
        "id": "WWb3feVbrlu-",
        "outputId": "76f0b8be-c7e3-42e9-ae5c-4f22bc103c91"
      },
      "execution_count": null,
      "outputs": [
        {
          "output_type": "stream",
          "name": "stdout",
          "text": [
            "goat      4.0\n",
            "amoeba    NaN\n",
            "dtype: float64\n",
            "<class 'pandas.core.series.Series'>\n"
          ]
        }
      ]
    },
    {
      "cell_type": "code",
      "source": [
        "scientists = pd.DataFrame({\n",
        "    'Name' : ['Rosaline Franklin','William Gosset'],\n",
        "    'Occupation' : ['Chemist','Statistician'],\n",
        "    'Born' : ['1920-07-25','1876-06-13'],\n",
        "    'Died' : ['1958-04-16','1937-10-16'],\n",
        "    'Missing' : [NaN,nan]\n",
        "})\n",
        "\n",
        "print(scientists)\n",
        "print(type(scientists))"
      ],
      "metadata": {
        "colab": {
          "base_uri": "https://localhost:8080/"
        },
        "id": "hYjZC97kr4z1",
        "outputId": "9813740d-16b5-49fc-f907-e9417ee85fd9"
      },
      "execution_count": null,
      "outputs": [
        {
          "output_type": "stream",
          "name": "stdout",
          "text": [
            "                Name    Occupation        Born        Died  Missing\n",
            "0  Rosaline Franklin       Chemist  1920-07-25  1958-04-16      NaN\n",
            "1     William Gosset  Statistician  1876-06-13  1937-10-16      NaN\n",
            "<class 'pandas.core.frame.DataFrame'>\n"
          ]
        }
      ]
    },
    {
      "cell_type": "markdown",
      "source": [
        "3. 범위를 지정하여 데이터를 추출할 때 누락값이 생기는 경우"
      ],
      "metadata": {
        "id": "OF3EeZrtspBy"
      }
    },
    {
      "cell_type": "code",
      "source": [
        "gapminder = pd.read_csv('/content/drive/MyDrive/My_GitHub/Python_ML/Doit_Pandas_dataset/gapminder.tsv', sep='\\t')"
      ],
      "metadata": {
        "id": "HhiMl3Cxsnd3"
      },
      "execution_count": null,
      "outputs": []
    },
    {
      "cell_type": "code",
      "source": [
        "life_exp = gapminder.groupby(['year'])['lifeExp'].mean()\n",
        "print(life_exp)"
      ],
      "metadata": {
        "colab": {
          "base_uri": "https://localhost:8080/"
        },
        "id": "4lCQr9YotGuf",
        "outputId": "a4680ab6-e2a0-4a21-9239-91c5c45da695"
      },
      "execution_count": null,
      "outputs": [
        {
          "output_type": "stream",
          "name": "stdout",
          "text": [
            "year\n",
            "1952    49.057620\n",
            "1957    51.507401\n",
            "1962    53.609249\n",
            "1967    55.678290\n",
            "1972    57.647386\n",
            "1977    59.570157\n",
            "1982    61.533197\n",
            "1987    63.212613\n",
            "1992    64.160338\n",
            "1997    65.014676\n",
            "2002    65.694923\n",
            "2007    67.007423\n",
            "Name: lifeExp, dtype: float64\n"
          ]
        }
      ]
    },
    {
      "cell_type": "code",
      "source": [
        "print(life_exp.loc[range(2000,2010),]) # 책에선 열에 없던 연도를 입력하면 NaN으로 나왔음 이젠 바뀐둣"
      ],
      "metadata": {
        "colab": {
          "base_uri": "https://localhost:8080/",
          "height": 319
        },
        "id": "Dq6Bn9bEtP3W",
        "outputId": "6b93e15b-8f9d-4af7-ebe4-f55e3948fd87"
      },
      "execution_count": null,
      "outputs": [
        {
          "output_type": "error",
          "ename": "KeyError",
          "evalue": "ignored",
          "traceback": [
            "\u001b[0;31m---------------------------------------------------------------------------\u001b[0m",
            "\u001b[0;31mKeyError\u001b[0m                                  Traceback (most recent call last)",
            "\u001b[0;32m<ipython-input-66-2a1bc0d4f410>\u001b[0m in \u001b[0;36m<module>\u001b[0;34m\u001b[0m\n\u001b[0;32m----> 1\u001b[0;31m \u001b[0mprint\u001b[0m\u001b[0;34m(\u001b[0m\u001b[0mlife_exp\u001b[0m\u001b[0;34m.\u001b[0m\u001b[0mloc\u001b[0m\u001b[0;34m[\u001b[0m\u001b[0mrange\u001b[0m\u001b[0;34m(\u001b[0m\u001b[0;36m2000\u001b[0m\u001b[0;34m,\u001b[0m\u001b[0;36m2010\u001b[0m\u001b[0;34m)\u001b[0m\u001b[0;34m,\u001b[0m\u001b[0;34m]\u001b[0m\u001b[0;34m)\u001b[0m\u001b[0;34m\u001b[0m\u001b[0;34m\u001b[0m\u001b[0m\n\u001b[0m",
            "\u001b[0;32m/usr/local/lib/python3.8/dist-packages/pandas/core/indexing.py\u001b[0m in \u001b[0;36m__getitem__\u001b[0;34m(self, key)\u001b[0m\n\u001b[1;32m    923\u001b[0m                 \u001b[0;32mwith\u001b[0m \u001b[0msuppress\u001b[0m\u001b[0;34m(\u001b[0m\u001b[0mKeyError\u001b[0m\u001b[0;34m,\u001b[0m \u001b[0mIndexError\u001b[0m\u001b[0;34m)\u001b[0m\u001b[0;34m:\u001b[0m\u001b[0;34m\u001b[0m\u001b[0;34m\u001b[0m\u001b[0m\n\u001b[1;32m    924\u001b[0m                     \u001b[0;32mreturn\u001b[0m \u001b[0mself\u001b[0m\u001b[0;34m.\u001b[0m\u001b[0mobj\u001b[0m\u001b[0;34m.\u001b[0m\u001b[0m_get_value\u001b[0m\u001b[0;34m(\u001b[0m\u001b[0;34m*\u001b[0m\u001b[0mkey\u001b[0m\u001b[0;34m,\u001b[0m \u001b[0mtakeable\u001b[0m\u001b[0;34m=\u001b[0m\u001b[0mself\u001b[0m\u001b[0;34m.\u001b[0m\u001b[0m_takeable\u001b[0m\u001b[0;34m)\u001b[0m\u001b[0;34m\u001b[0m\u001b[0;34m\u001b[0m\u001b[0m\n\u001b[0;32m--> 925\u001b[0;31m             \u001b[0;32mreturn\u001b[0m \u001b[0mself\u001b[0m\u001b[0;34m.\u001b[0m\u001b[0m_getitem_tuple\u001b[0m\u001b[0;34m(\u001b[0m\u001b[0mkey\u001b[0m\u001b[0;34m)\u001b[0m\u001b[0;34m\u001b[0m\u001b[0;34m\u001b[0m\u001b[0m\n\u001b[0m\u001b[1;32m    926\u001b[0m         \u001b[0;32melse\u001b[0m\u001b[0;34m:\u001b[0m\u001b[0;34m\u001b[0m\u001b[0;34m\u001b[0m\u001b[0m\n\u001b[1;32m    927\u001b[0m             \u001b[0;31m# we by definition only have the 0th axis\u001b[0m\u001b[0;34m\u001b[0m\u001b[0;34m\u001b[0m\u001b[0;34m\u001b[0m\u001b[0m\n",
            "\u001b[0;32m/usr/local/lib/python3.8/dist-packages/pandas/core/indexing.py\u001b[0m in \u001b[0;36m_getitem_tuple\u001b[0;34m(self, tup)\u001b[0m\n\u001b[1;32m   1105\u001b[0m         \u001b[0;31m# ugly hack for GH #836\u001b[0m\u001b[0;34m\u001b[0m\u001b[0;34m\u001b[0m\u001b[0;34m\u001b[0m\u001b[0m\n\u001b[1;32m   1106\u001b[0m         \u001b[0;32mif\u001b[0m \u001b[0mself\u001b[0m\u001b[0;34m.\u001b[0m\u001b[0m_multi_take_opportunity\u001b[0m\u001b[0;34m(\u001b[0m\u001b[0mtup\u001b[0m\u001b[0;34m)\u001b[0m\u001b[0;34m:\u001b[0m\u001b[0;34m\u001b[0m\u001b[0;34m\u001b[0m\u001b[0m\n\u001b[0;32m-> 1107\u001b[0;31m             \u001b[0;32mreturn\u001b[0m \u001b[0mself\u001b[0m\u001b[0;34m.\u001b[0m\u001b[0m_multi_take\u001b[0m\u001b[0;34m(\u001b[0m\u001b[0mtup\u001b[0m\u001b[0;34m)\u001b[0m\u001b[0;34m\u001b[0m\u001b[0;34m\u001b[0m\u001b[0m\n\u001b[0m\u001b[1;32m   1108\u001b[0m \u001b[0;34m\u001b[0m\u001b[0m\n\u001b[1;32m   1109\u001b[0m         \u001b[0;32mreturn\u001b[0m \u001b[0mself\u001b[0m\u001b[0;34m.\u001b[0m\u001b[0m_getitem_tuple_same_dim\u001b[0m\u001b[0;34m(\u001b[0m\u001b[0mtup\u001b[0m\u001b[0;34m)\u001b[0m\u001b[0;34m\u001b[0m\u001b[0;34m\u001b[0m\u001b[0m\n",
            "\u001b[0;32m/usr/local/lib/python3.8/dist-packages/pandas/core/indexing.py\u001b[0m in \u001b[0;36m_multi_take\u001b[0;34m(self, tup)\u001b[0m\n\u001b[1;32m   1057\u001b[0m         \"\"\"\n\u001b[1;32m   1058\u001b[0m         \u001b[0;31m# GH 836\u001b[0m\u001b[0;34m\u001b[0m\u001b[0;34m\u001b[0m\u001b[0;34m\u001b[0m\u001b[0m\n\u001b[0;32m-> 1059\u001b[0;31m         d = {\n\u001b[0m\u001b[1;32m   1060\u001b[0m             \u001b[0maxis\u001b[0m\u001b[0;34m:\u001b[0m \u001b[0mself\u001b[0m\u001b[0;34m.\u001b[0m\u001b[0m_get_listlike_indexer\u001b[0m\u001b[0;34m(\u001b[0m\u001b[0mkey\u001b[0m\u001b[0;34m,\u001b[0m \u001b[0maxis\u001b[0m\u001b[0;34m)\u001b[0m\u001b[0;34m\u001b[0m\u001b[0;34m\u001b[0m\u001b[0m\n\u001b[1;32m   1061\u001b[0m             \u001b[0;32mfor\u001b[0m \u001b[0;34m(\u001b[0m\u001b[0mkey\u001b[0m\u001b[0;34m,\u001b[0m \u001b[0maxis\u001b[0m\u001b[0;34m)\u001b[0m \u001b[0;32min\u001b[0m \u001b[0mzip\u001b[0m\u001b[0;34m(\u001b[0m\u001b[0mtup\u001b[0m\u001b[0;34m,\u001b[0m \u001b[0mself\u001b[0m\u001b[0;34m.\u001b[0m\u001b[0mobj\u001b[0m\u001b[0;34m.\u001b[0m\u001b[0m_AXIS_ORDERS\u001b[0m\u001b[0;34m)\u001b[0m\u001b[0;34m\u001b[0m\u001b[0;34m\u001b[0m\u001b[0m\n",
            "\u001b[0;32m/usr/local/lib/python3.8/dist-packages/pandas/core/indexing.py\u001b[0m in \u001b[0;36m<dictcomp>\u001b[0;34m(.0)\u001b[0m\n\u001b[1;32m   1058\u001b[0m         \u001b[0;31m# GH 836\u001b[0m\u001b[0;34m\u001b[0m\u001b[0;34m\u001b[0m\u001b[0;34m\u001b[0m\u001b[0m\n\u001b[1;32m   1059\u001b[0m         d = {\n\u001b[0;32m-> 1060\u001b[0;31m             \u001b[0maxis\u001b[0m\u001b[0;34m:\u001b[0m \u001b[0mself\u001b[0m\u001b[0;34m.\u001b[0m\u001b[0m_get_listlike_indexer\u001b[0m\u001b[0;34m(\u001b[0m\u001b[0mkey\u001b[0m\u001b[0;34m,\u001b[0m \u001b[0maxis\u001b[0m\u001b[0;34m)\u001b[0m\u001b[0;34m\u001b[0m\u001b[0;34m\u001b[0m\u001b[0m\n\u001b[0m\u001b[1;32m   1061\u001b[0m             \u001b[0;32mfor\u001b[0m \u001b[0;34m(\u001b[0m\u001b[0mkey\u001b[0m\u001b[0;34m,\u001b[0m \u001b[0maxis\u001b[0m\u001b[0;34m)\u001b[0m \u001b[0;32min\u001b[0m \u001b[0mzip\u001b[0m\u001b[0;34m(\u001b[0m\u001b[0mtup\u001b[0m\u001b[0;34m,\u001b[0m \u001b[0mself\u001b[0m\u001b[0;34m.\u001b[0m\u001b[0mobj\u001b[0m\u001b[0;34m.\u001b[0m\u001b[0m_AXIS_ORDERS\u001b[0m\u001b[0;34m)\u001b[0m\u001b[0;34m\u001b[0m\u001b[0;34m\u001b[0m\u001b[0m\n\u001b[1;32m   1062\u001b[0m         }\n",
            "\u001b[0;32m/usr/local/lib/python3.8/dist-packages/pandas/core/indexing.py\u001b[0m in \u001b[0;36m_get_listlike_indexer\u001b[0;34m(self, key, axis)\u001b[0m\n\u001b[1;32m   1312\u001b[0m             \u001b[0mkeyarr\u001b[0m\u001b[0;34m,\u001b[0m \u001b[0mindexer\u001b[0m\u001b[0;34m,\u001b[0m \u001b[0mnew_indexer\u001b[0m \u001b[0;34m=\u001b[0m \u001b[0max\u001b[0m\u001b[0;34m.\u001b[0m\u001b[0m_reindex_non_unique\u001b[0m\u001b[0;34m(\u001b[0m\u001b[0mkeyarr\u001b[0m\u001b[0;34m)\u001b[0m\u001b[0;34m\u001b[0m\u001b[0;34m\u001b[0m\u001b[0m\n\u001b[1;32m   1313\u001b[0m \u001b[0;34m\u001b[0m\u001b[0m\n\u001b[0;32m-> 1314\u001b[0;31m         \u001b[0mself\u001b[0m\u001b[0;34m.\u001b[0m\u001b[0m_validate_read_indexer\u001b[0m\u001b[0;34m(\u001b[0m\u001b[0mkeyarr\u001b[0m\u001b[0;34m,\u001b[0m \u001b[0mindexer\u001b[0m\u001b[0;34m,\u001b[0m \u001b[0maxis\u001b[0m\u001b[0;34m)\u001b[0m\u001b[0;34m\u001b[0m\u001b[0;34m\u001b[0m\u001b[0m\n\u001b[0m\u001b[1;32m   1315\u001b[0m \u001b[0;34m\u001b[0m\u001b[0m\n\u001b[1;32m   1316\u001b[0m         if needs_i8_conversion(ax.dtype) or isinstance(\n",
            "\u001b[0;32m/usr/local/lib/python3.8/dist-packages/pandas/core/indexing.py\u001b[0m in \u001b[0;36m_validate_read_indexer\u001b[0;34m(self, key, indexer, axis)\u001b[0m\n\u001b[1;32m   1375\u001b[0m \u001b[0;34m\u001b[0m\u001b[0m\n\u001b[1;32m   1376\u001b[0m             \u001b[0mnot_found\u001b[0m \u001b[0;34m=\u001b[0m \u001b[0mlist\u001b[0m\u001b[0;34m(\u001b[0m\u001b[0mensure_index\u001b[0m\u001b[0;34m(\u001b[0m\u001b[0mkey\u001b[0m\u001b[0;34m)\u001b[0m\u001b[0;34m[\u001b[0m\u001b[0mmissing_mask\u001b[0m\u001b[0;34m.\u001b[0m\u001b[0mnonzero\u001b[0m\u001b[0;34m(\u001b[0m\u001b[0;34m)\u001b[0m\u001b[0;34m[\u001b[0m\u001b[0;36m0\u001b[0m\u001b[0;34m]\u001b[0m\u001b[0;34m]\u001b[0m\u001b[0;34m.\u001b[0m\u001b[0munique\u001b[0m\u001b[0;34m(\u001b[0m\u001b[0;34m)\u001b[0m\u001b[0;34m)\u001b[0m\u001b[0;34m\u001b[0m\u001b[0;34m\u001b[0m\u001b[0m\n\u001b[0;32m-> 1377\u001b[0;31m             \u001b[0;32mraise\u001b[0m \u001b[0mKeyError\u001b[0m\u001b[0;34m(\u001b[0m\u001b[0;34mf\"{not_found} not in index\"\u001b[0m\u001b[0;34m)\u001b[0m\u001b[0;34m\u001b[0m\u001b[0;34m\u001b[0m\u001b[0m\n\u001b[0m\u001b[1;32m   1378\u001b[0m \u001b[0;34m\u001b[0m\u001b[0m\n\u001b[1;32m   1379\u001b[0m \u001b[0;34m\u001b[0m\u001b[0m\n",
            "\u001b[0;31mKeyError\u001b[0m: '[2000, 2001, 2003, 2004, 2005, 2006, 2008, 2009] not in index'"
          ]
        }
      ]
    },
    {
      "cell_type": "code",
      "source": [
        "y2000 = life_exp[life_exp.index>2000]\n",
        "print(y2000)"
      ],
      "metadata": {
        "colab": {
          "base_uri": "https://localhost:8080/"
        },
        "id": "kJ3FkwWZtZcB",
        "outputId": "60b43e42-8a0c-4b0f-95c7-5ca00284accc"
      },
      "execution_count": null,
      "outputs": [
        {
          "output_type": "stream",
          "name": "stdout",
          "text": [
            "year\n",
            "2002    65.694923\n",
            "2007    67.007423\n",
            "Name: lifeExp, dtype: float64\n"
          ]
        }
      ]
    },
    {
      "cell_type": "markdown",
      "source": [
        "### 누락값의 개수"
      ],
      "metadata": {
        "id": "APmsTrP8tzl4"
      }
    },
    {
      "cell_type": "code",
      "source": [
        "ebola = pd.read_csv('/content/drive/MyDrive/My_GitHub/Python_ML/Doit_Pandas_dataset/country_timeseries.csv')"
      ],
      "metadata": {
        "id": "FMZ4LjrBtxnT"
      },
      "execution_count": null,
      "outputs": []
    },
    {
      "cell_type": "code",
      "source": [
        "print(ebola.count())"
      ],
      "metadata": {
        "colab": {
          "base_uri": "https://localhost:8080/"
        },
        "id": "yx2Zki9pt-iu",
        "outputId": "76b3c5b5-5807-4bfa-ff2f-5f28b6b987ce"
      },
      "execution_count": null,
      "outputs": [
        {
          "output_type": "stream",
          "name": "stdout",
          "text": [
            "Date                   122\n",
            "Day                    122\n",
            "Cases_Guinea            93\n",
            "Cases_Liberia           83\n",
            "Cases_SierraLeone       87\n",
            "Cases_Nigeria           38\n",
            "Cases_Senegal           25\n",
            "Cases_UnitedStates      18\n",
            "Cases_Spain             16\n",
            "Cases_Mali              12\n",
            "Deaths_Guinea           92\n",
            "Deaths_Liberia          81\n",
            "Deaths_SierraLeone      87\n",
            "Deaths_Nigeria          38\n",
            "Deaths_Senegal          22\n",
            "Deaths_UnitedStates     18\n",
            "Deaths_Spain            16\n",
            "Deaths_Mali             12\n",
            "dtype: int64\n"
          ]
        }
      ]
    },
    {
      "cell_type": "code",
      "source": [
        "num_rows = ebola.shape[0]\n",
        "num_missing = num_rows - ebola.count()\n",
        "print(num_missing)"
      ],
      "metadata": {
        "colab": {
          "base_uri": "https://localhost:8080/"
        },
        "id": "Vzv6A0BouBQv",
        "outputId": "2a1dd36e-9a25-4048-acd9-4c9a714fcf05"
      },
      "execution_count": null,
      "outputs": [
        {
          "output_type": "stream",
          "name": "stdout",
          "text": [
            "Date                     0\n",
            "Day                      0\n",
            "Cases_Guinea            29\n",
            "Cases_Liberia           39\n",
            "Cases_SierraLeone       35\n",
            "Cases_Nigeria           84\n",
            "Cases_Senegal           97\n",
            "Cases_UnitedStates     104\n",
            "Cases_Spain            106\n",
            "Cases_Mali             110\n",
            "Deaths_Guinea           30\n",
            "Deaths_Liberia          41\n",
            "Deaths_SierraLeone      35\n",
            "Deaths_Nigeria          84\n",
            "Deaths_Senegal         100\n",
            "Deaths_UnitedStates    104\n",
            "Deaths_Spain           106\n",
            "Deaths_Mali            110\n",
            "dtype: int64\n"
          ]
        }
      ]
    },
    {
      "cell_type": "code",
      "source": [
        "import numpy as np\n",
        "\n",
        "print(np.count_nonzero(ebola.isnull()), '-'*10, sep='\\n')\n",
        "\n",
        "print(np.count_nonzero(ebola['Cases_Guinea'].isnull()))"
      ],
      "metadata": {
        "colab": {
          "base_uri": "https://localhost:8080/"
        },
        "id": "_8T763qIuMFh",
        "outputId": "7e9f57d4-0cad-40f2-bb22-aa87ad43fb1f"
      },
      "execution_count": null,
      "outputs": [
        {
          "output_type": "stream",
          "name": "stdout",
          "text": [
            "1214\n",
            "----------\n",
            "29\n"
          ]
        }
      ]
    },
    {
      "cell_type": "code",
      "source": [
        "print(ebola.Cases_Guinea.value_counts(dropna=False).head())"
      ],
      "metadata": {
        "colab": {
          "base_uri": "https://localhost:8080/"
        },
        "id": "lhH1mrqCueHX",
        "outputId": "43b399d4-6182-4371-eadb-d537580a191b"
      },
      "execution_count": null,
      "outputs": [
        {
          "output_type": "stream",
          "name": "stdout",
          "text": [
            "NaN      29\n",
            "86.0      3\n",
            "495.0     2\n",
            "112.0     2\n",
            "390.0     2\n",
            "Name: Cases_Guinea, dtype: int64\n"
          ]
        }
      ]
    },
    {
      "cell_type": "markdown",
      "source": [
        "### 누락값 처리하기\n",
        "\n",
        "임의의 값으로 변경, 이미 있는 값으로 대체 등으로 처리 가능"
      ],
      "metadata": {
        "id": "EVoHJtkausTy"
      }
    },
    {
      "cell_type": "markdown",
      "source": [
        "1. 누락값 변경하기 \n",
        "\n",
        "        (1) fillna 메서드 : 인자값으로 변경\n",
        "\n",
        "          - fillna(method='ffill') 을 통해 누락값이 나타나기 전의 값으로 누락값이 변경됨\n",
        "\n",
        "          - fillna(method='bfill') 을 통해 누락값이 나타난 이후의 첫번째 값으로 앞쪽의 누락값이 모두 변경됨\n",
        "\n",
        "        (2) interpolate 메서드 : 누락값 양쪽에 있는 값을 이용하여 중간값을 구한 다음 누락값을 처리, 일정한 간격을 유지하고 있는 것처럼 수정 가능\n",
        "\n",
        "        \n"
      ],
      "metadata": {
        "id": "XrZ3-edOu0W6"
      }
    },
    {
      "cell_type": "code",
      "source": [
        "print(ebola.fillna(0).iloc[0:10, 0:5])"
      ],
      "metadata": {
        "colab": {
          "base_uri": "https://localhost:8080/"
        },
        "id": "elPFc2hIumsf",
        "outputId": "8666bdfe-bd16-4965-d48e-f4e81cb63205"
      },
      "execution_count": null,
      "outputs": [
        {
          "output_type": "stream",
          "name": "stdout",
          "text": [
            "         Date  Day  Cases_Guinea  Cases_Liberia  Cases_SierraLeone\n",
            "0    1/5/2015  289        2776.0            0.0            10030.0\n",
            "1    1/4/2015  288        2775.0            0.0             9780.0\n",
            "2    1/3/2015  287        2769.0         8166.0             9722.0\n",
            "3    1/2/2015  286           0.0         8157.0                0.0\n",
            "4  12/31/2014  284        2730.0         8115.0             9633.0\n",
            "5  12/28/2014  281        2706.0         8018.0             9446.0\n",
            "6  12/27/2014  280        2695.0            0.0             9409.0\n",
            "7  12/24/2014  277        2630.0         7977.0             9203.0\n",
            "8  12/21/2014  273        2597.0            0.0             9004.0\n",
            "9  12/20/2014  272        2571.0         7862.0             8939.0\n"
          ]
        }
      ]
    },
    {
      "cell_type": "code",
      "source": [
        "print(ebola.fillna(method='ffill').iloc[0:10,0:5])"
      ],
      "metadata": {
        "colab": {
          "base_uri": "https://localhost:8080/"
        },
        "id": "9Co9Bd9Mu_no",
        "outputId": "0fcae097-85b7-4692-bcdb-5c16c9792269"
      },
      "execution_count": null,
      "outputs": [
        {
          "output_type": "stream",
          "name": "stdout",
          "text": [
            "         Date  Day  Cases_Guinea  Cases_Liberia  Cases_SierraLeone\n",
            "0    1/5/2015  289        2776.0            NaN            10030.0\n",
            "1    1/4/2015  288        2775.0            NaN             9780.0\n",
            "2    1/3/2015  287        2769.0         8166.0             9722.0\n",
            "3    1/2/2015  286        2769.0         8157.0             9722.0\n",
            "4  12/31/2014  284        2730.0         8115.0             9633.0\n",
            "5  12/28/2014  281        2706.0         8018.0             9446.0\n",
            "6  12/27/2014  280        2695.0         8018.0             9409.0\n",
            "7  12/24/2014  277        2630.0         7977.0             9203.0\n",
            "8  12/21/2014  273        2597.0         7977.0             9004.0\n",
            "9  12/20/2014  272        2571.0         7862.0             8939.0\n"
          ]
        }
      ]
    },
    {
      "cell_type": "code",
      "source": [
        "print(ebola.fillna(method='bfill').iloc[0:10,0:5])"
      ],
      "metadata": {
        "colab": {
          "base_uri": "https://localhost:8080/"
        },
        "id": "StPE9PVlvR2Q",
        "outputId": "80ed2c8a-7ba5-48ee-9599-f5e72c97d20e"
      },
      "execution_count": null,
      "outputs": [
        {
          "output_type": "stream",
          "name": "stdout",
          "text": [
            "         Date  Day  Cases_Guinea  Cases_Liberia  Cases_SierraLeone\n",
            "0    1/5/2015  289        2776.0         8166.0            10030.0\n",
            "1    1/4/2015  288        2775.0         8166.0             9780.0\n",
            "2    1/3/2015  287        2769.0         8166.0             9722.0\n",
            "3    1/2/2015  286        2730.0         8157.0             9633.0\n",
            "4  12/31/2014  284        2730.0         8115.0             9633.0\n",
            "5  12/28/2014  281        2706.0         8018.0             9446.0\n",
            "6  12/27/2014  280        2695.0         7977.0             9409.0\n",
            "7  12/24/2014  277        2630.0         7977.0             9203.0\n",
            "8  12/21/2014  273        2597.0         7862.0             9004.0\n",
            "9  12/20/2014  272        2571.0         7862.0             8939.0\n"
          ]
        }
      ]
    },
    {
      "cell_type": "markdown",
      "source": [
        "2. 누락값 삭제하기\n",
        "\n",
        "dropna 메서드 이용\n",
        "\n",
        "주의 : 누락값을 무작정 삭제하면 데이터가 너무 편행되거나 데이터의 개수가 너무 적어질 수 있음 \n",
        "\n"
      ],
      "metadata": {
        "id": "oKrmmXOYweAF"
      }
    },
    {
      "cell_type": "code",
      "source": [
        "print(ebola.shape)"
      ],
      "metadata": {
        "colab": {
          "base_uri": "https://localhost:8080/"
        },
        "id": "v6MClopDvmuQ",
        "outputId": "394600b6-6459-4385-db31-bc83c6ef9fc8"
      },
      "execution_count": null,
      "outputs": [
        {
          "output_type": "stream",
          "name": "stdout",
          "text": [
            "(122, 18)\n"
          ]
        }
      ]
    },
    {
      "cell_type": "code",
      "source": [
        "ebola_dropna = ebola.dropna()\n",
        "print(ebola_dropna.shape,'-'*80,sep='\\n')\n",
        "\n",
        "print(ebola_dropna)"
      ],
      "metadata": {
        "colab": {
          "base_uri": "https://localhost:8080/"
        },
        "id": "PVFBgaQpwraF",
        "outputId": "9b9244e5-cda4-434d-f39a-84f43ed551aa"
      },
      "execution_count": null,
      "outputs": [
        {
          "output_type": "stream",
          "name": "stdout",
          "text": [
            "(1, 18)\n",
            "--------------------------------------------------------------------------------\n",
            "          Date  Day  Cases_Guinea  Cases_Liberia  Cases_SierraLeone  \\\n",
            "19  11/18/2014  241        2047.0         7082.0             6190.0   \n",
            "\n",
            "    Cases_Nigeria  Cases_Senegal  Cases_UnitedStates  Cases_Spain  Cases_Mali  \\\n",
            "19           20.0            1.0                 4.0          1.0         6.0   \n",
            "\n",
            "    Deaths_Guinea  Deaths_Liberia  Deaths_SierraLeone  Deaths_Nigeria  \\\n",
            "19         1214.0          2963.0              1267.0             8.0   \n",
            "\n",
            "    Deaths_Senegal  Deaths_UnitedStates  Deaths_Spain  Deaths_Mali  \n",
            "19             0.0                  1.0           0.0          6.0  \n"
          ]
        }
      ]
    },
    {
      "cell_type": "markdown",
      "source": [
        "### 누락값 포함 데이터 계산 예시"
      ],
      "metadata": {
        "id": "UZ9Y04TexRcL"
      }
    },
    {
      "cell_type": "markdown",
      "source": [
        "sum메서드의 인잣값을 skipna = True 로 설정하면 누락값을 무시한 채 계산 가능"
      ],
      "metadata": {
        "id": "otoSzgEf7YGz"
      }
    },
    {
      "cell_type": "code",
      "source": [
        "ebola['Cases_multople'] = ebola['Cases_Guinea'] + ebola['Cases_Liberia'] + ebola['Cases_SierraLeone']"
      ],
      "metadata": {
        "id": "XaWC2skkw96m"
      },
      "execution_count": null,
      "outputs": []
    },
    {
      "cell_type": "code",
      "source": [
        "ebola_subset = ebola.loc[:,['Cases_Guinea', 'Cases_Liberia','Cases_SierraLeone','Cases_multople']]\n",
        "print(ebola_subset.head(n=10))"
      ],
      "metadata": {
        "colab": {
          "base_uri": "https://localhost:8080/"
        },
        "id": "9MHEFLCC6wCu",
        "outputId": "15267f39-f461-4660-8fc8-8f296b20ed65"
      },
      "execution_count": null,
      "outputs": [
        {
          "output_type": "stream",
          "name": "stdout",
          "text": [
            "   Cases_Guinea  Cases_Liberia  Cases_SierraLeone  Cases_multople\n",
            "0        2776.0            NaN            10030.0             NaN\n",
            "1        2775.0            NaN             9780.0             NaN\n",
            "2        2769.0         8166.0             9722.0         20657.0\n",
            "3           NaN         8157.0                NaN             NaN\n",
            "4        2730.0         8115.0             9633.0         20478.0\n",
            "5        2706.0         8018.0             9446.0         20170.0\n",
            "6        2695.0            NaN             9409.0             NaN\n",
            "7        2630.0         7977.0             9203.0         19810.0\n",
            "8        2597.0            NaN             9004.0             NaN\n",
            "9        2571.0         7862.0             8939.0         19372.0\n"
          ]
        }
      ]
    },
    {
      "cell_type": "code",
      "source": [
        "print(ebola.Cases_Guinea.sum(skipna=True),'-'*10, sep='\\n')\n",
        "print(ebola.Cases_Guinea.sum(skipna=False))"
      ],
      "metadata": {
        "colab": {
          "base_uri": "https://localhost:8080/"
        },
        "id": "LiCqmftd7H3q",
        "outputId": "bb352984-ce17-4ab6-907a-a265fd00312c"
      },
      "execution_count": null,
      "outputs": [
        {
          "output_type": "stream",
          "name": "stdout",
          "text": [
            "84729.0\n",
            "----------\n",
            "nan\n"
          ]
        }
      ]
    },
    {
      "cell_type": "markdown",
      "source": [
        "## 7-1 열과 피벗"
      ],
      "metadata": {
        "id": "XHEiW-ib7zYH"
      }
    },
    {
      "cell_type": "markdown",
      "source": [
        "넓은 데이터 : 데이터프레임의 열이 옆으로 길게 늘어선 형태\n",
        "\n",
        "melt 메서드 : 지정한 열의 데이터를 모두 행으로 정리해줌 \n",
        "\n",
        "        melt 메서드의 인자\n",
        "\n",
        "        id_vars : 위치를 그대로 유지할 열의 이름을 지정함\n",
        "\n",
        "        value_vars : 행으로 위치를 변경할 열의 이름을 지정함\n",
        "\n",
        "        var_name : value_vars로 위치를 변경한 열의 이름을 지정함\n",
        "\n",
        "        value_name : var_name으로 위치를 변경한 열의 데이터를 저장한 열의 이름을 지정함 "
      ],
      "metadata": {
        "id": "kyveqCQn78Gs"
      }
    },
    {
      "cell_type": "markdown",
      "source": [
        "1. 1 개의 열만 고정하고 나머지 열의 행으로 바꾸기 "
      ],
      "metadata": {
        "id": "aleSuP2W8chc"
      }
    },
    {
      "cell_type": "code",
      "source": [
        "import pandas as pd\n",
        "pew = pd.read_csv('/content/drive/MyDrive/My_GitHub/Python_ML/Doit_Pandas_dataset/pew.csv')\n",
        "print(pew.head())"
      ],
      "metadata": {
        "colab": {
          "base_uri": "https://localhost:8080/"
        },
        "id": "POw5uSS97wKU",
        "outputId": "09d31358-19ba-422d-96b4-3ef8a9c25658"
      },
      "execution_count": null,
      "outputs": [
        {
          "output_type": "stream",
          "name": "stdout",
          "text": [
            "             religion  <$10k  $10-20k  $20-30k  $30-40k  $40-50k  $50-75k  \\\n",
            "0            Agnostic     27       34       60       81       76      137   \n",
            "1             Atheist     12       27       37       52       35       70   \n",
            "2            Buddhist     27       21       30       34       33       58   \n",
            "3            Catholic    418      617      732      670      638     1116   \n",
            "4  Don’t know/refused     15       14       15       11       10       35   \n",
            "\n",
            "   $75-100k  $100-150k  >150k  Don't know/refused  \n",
            "0       122        109     84                  96  \n",
            "1        73         59     74                  76  \n",
            "2        62         39     53                  54  \n",
            "3       949        792    633                1489  \n",
            "4        21         17     18                 116  \n"
          ]
        }
      ]
    },
    {
      "cell_type": "code",
      "source": [
        "print(pew.iloc[:, 0:6])"
      ],
      "metadata": {
        "colab": {
          "base_uri": "https://localhost:8080/"
        },
        "id": "TtIKssLl8jjc",
        "outputId": "1d1d6739-09d9-4fc5-f45e-de14cc0e7725"
      },
      "execution_count": null,
      "outputs": [
        {
          "output_type": "stream",
          "name": "stdout",
          "text": [
            "                   religion  <$10k  $10-20k  $20-30k  $30-40k  $40-50k\n",
            "0                  Agnostic     27       34       60       81       76\n",
            "1                   Atheist     12       27       37       52       35\n",
            "2                  Buddhist     27       21       30       34       33\n",
            "3                  Catholic    418      617      732      670      638\n",
            "4        Don’t know/refused     15       14       15       11       10\n",
            "5          Evangelical Prot    575      869     1064      982      881\n",
            "6                     Hindu      1        9        7        9       11\n",
            "7   Historically Black Prot    228      244      236      238      197\n",
            "8         Jehovah's Witness     20       27       24       24       21\n",
            "9                    Jewish     19       19       25       25       30\n",
            "10            Mainline Prot    289      495      619      655      651\n",
            "11                   Mormon     29       40       48       51       56\n",
            "12                   Muslim      6        7        9       10        9\n",
            "13                 Orthodox     13       17       23       32       32\n",
            "14          Other Christian      9        7       11       13       13\n",
            "15             Other Faiths     20       33       40       46       49\n",
            "16    Other World Religions      5        2        3        4        2\n",
            "17             Unaffiliated    217      299      374      365      341\n"
          ]
        }
      ]
    },
    {
      "cell_type": "code",
      "source": [
        "pew_long = pd.melt(pew, id_vars='religion')\n",
        "print(pew_long.head())"
      ],
      "metadata": {
        "colab": {
          "base_uri": "https://localhost:8080/"
        },
        "id": "xy1IsV5R81Nr",
        "outputId": "d3bf42c5-0451-448c-eb88-fe67df7d6c5e"
      },
      "execution_count": null,
      "outputs": [
        {
          "output_type": "stream",
          "name": "stdout",
          "text": [
            "             religion variable  value\n",
            "0            Agnostic    <$10k     27\n",
            "1             Atheist    <$10k     12\n",
            "2            Buddhist    <$10k     27\n",
            "3            Catholic    <$10k    418\n",
            "4  Don’t know/refused    <$10k     15\n"
          ]
        }
      ]
    },
    {
      "cell_type": "code",
      "source": [
        "pew_long = pd.melt(pew, id_vars='religion', var_name = 'income', value_name='count')\n",
        "print(pew_long.head())"
      ],
      "metadata": {
        "colab": {
          "base_uri": "https://localhost:8080/"
        },
        "id": "M6Sc1edL9jCy",
        "outputId": "6c5ff068-e051-4b38-e0ac-21d6d3d54105"
      },
      "execution_count": null,
      "outputs": [
        {
          "output_type": "stream",
          "name": "stdout",
          "text": [
            "             religion income  count\n",
            "0            Agnostic  <$10k     27\n",
            "1             Atheist  <$10k     12\n",
            "2            Buddhist  <$10k     27\n",
            "3            Catholic  <$10k    418\n",
            "4  Don’t know/refused  <$10k     15\n"
          ]
        }
      ]
    },
    {
      "cell_type": "markdown",
      "source": [
        "2. 2개 이상의 열을 고정하고 나머지 열을 행으로 바꾸기"
      ],
      "metadata": {
        "id": "zEXhxUdI97IX"
      }
    },
    {
      "cell_type": "code",
      "source": [
        "billboard = pd.read_csv('/content/drive/MyDrive/My_GitHub/Python_ML/Doit_Pandas_dataset/billboard.csv')\n",
        "print(billboard.head())"
      ],
      "metadata": {
        "colab": {
          "base_uri": "https://localhost:8080/"
        },
        "id": "4QoMlcBa965i",
        "outputId": "33e72ea5-6905-4233-a788-fbdbd76eca66"
      },
      "execution_count": null,
      "outputs": [
        {
          "output_type": "stream",
          "name": "stdout",
          "text": [
            "   year        artist                    track  time date.entered  wk1   wk2  \\\n",
            "0  2000         2 Pac  Baby Don't Cry (Keep...  4:22   2000-02-26   87  82.0   \n",
            "1  2000       2Ge+her  The Hardest Part Of ...  3:15   2000-09-02   91  87.0   \n",
            "2  2000  3 Doors Down               Kryptonite  3:53   2000-04-08   81  70.0   \n",
            "3  2000  3 Doors Down                    Loser  4:24   2000-10-21   76  76.0   \n",
            "4  2000      504 Boyz            Wobble Wobble  3:35   2000-04-15   57  34.0   \n",
            "\n",
            "    wk3   wk4   wk5  ...  wk67  wk68  wk69  wk70  wk71  wk72  wk73  wk74  \\\n",
            "0  72.0  77.0  87.0  ...   NaN   NaN   NaN   NaN   NaN   NaN   NaN   NaN   \n",
            "1  92.0   NaN   NaN  ...   NaN   NaN   NaN   NaN   NaN   NaN   NaN   NaN   \n",
            "2  68.0  67.0  66.0  ...   NaN   NaN   NaN   NaN   NaN   NaN   NaN   NaN   \n",
            "3  72.0  69.0  67.0  ...   NaN   NaN   NaN   NaN   NaN   NaN   NaN   NaN   \n",
            "4  25.0  17.0  17.0  ...   NaN   NaN   NaN   NaN   NaN   NaN   NaN   NaN   \n",
            "\n",
            "   wk75  wk76  \n",
            "0   NaN   NaN  \n",
            "1   NaN   NaN  \n",
            "2   NaN   NaN  \n",
            "3   NaN   NaN  \n",
            "4   NaN   NaN  \n",
            "\n",
            "[5 rows x 81 columns]\n"
          ]
        }
      ]
    },
    {
      "cell_type": "code",
      "source": [
        "billboard_long = pd.melt(billboard, id_vars = ['year','artist','track','time','date.entered'], \n",
        "                         var_name='week',value_name='rating')\n",
        "print(billboard_long)"
      ],
      "metadata": {
        "colab": {
          "base_uri": "https://localhost:8080/"
        },
        "id": "wPABCs0c94gt",
        "outputId": "0128ec2b-ba7b-43c6-d3fa-fd1b5455853a"
      },
      "execution_count": null,
      "outputs": [
        {
          "output_type": "stream",
          "name": "stdout",
          "text": [
            "       year            artist                    track  time date.entered  \\\n",
            "0      2000             2 Pac  Baby Don't Cry (Keep...  4:22   2000-02-26   \n",
            "1      2000           2Ge+her  The Hardest Part Of ...  3:15   2000-09-02   \n",
            "2      2000      3 Doors Down               Kryptonite  3:53   2000-04-08   \n",
            "3      2000      3 Doors Down                    Loser  4:24   2000-10-21   \n",
            "4      2000          504 Boyz            Wobble Wobble  3:35   2000-04-15   \n",
            "...     ...               ...                      ...   ...          ...   \n",
            "24087  2000       Yankee Grey     Another Nine Minutes  3:10   2000-04-29   \n",
            "24088  2000  Yearwood, Trisha          Real Live Woman  3:55   2000-04-01   \n",
            "24089  2000   Ying Yang Twins  Whistle While You Tw...  4:19   2000-03-18   \n",
            "24090  2000     Zombie Nation            Kernkraft 400  3:30   2000-09-02   \n",
            "24091  2000   matchbox twenty                     Bent  4:12   2000-04-29   \n",
            "\n",
            "       week  rating  \n",
            "0       wk1    87.0  \n",
            "1       wk1    91.0  \n",
            "2       wk1    81.0  \n",
            "3       wk1    76.0  \n",
            "4       wk1    57.0  \n",
            "...     ...     ...  \n",
            "24087  wk76     NaN  \n",
            "24088  wk76     NaN  \n",
            "24089  wk76     NaN  \n",
            "24090  wk76     NaN  \n",
            "24091  wk76     NaN  \n",
            "\n",
            "[24092 rows x 7 columns]\n"
          ]
        }
      ]
    },
    {
      "cell_type": "markdown",
      "source": [
        "## 7-2 열 이름 관리하기\n",
        "\n",
        "하나의 열이 여러 의미를 가지고 있는 경우\n",
        "\n",
        "split 메서드 \n",
        "\n",
        ": 기본적으로 공백을 기준으로 문자열을 자름"
      ],
      "metadata": {
        "id": "GSUWKlq_-6qP"
      }
    },
    {
      "cell_type": "code",
      "source": [
        "print(ebola.columns, '-'*90, sep='\\n')\n",
        "\n",
        "print(ebola.iloc[:5, [0,1,2,3,10,11]])"
      ],
      "metadata": {
        "colab": {
          "base_uri": "https://localhost:8080/"
        },
        "id": "-XX6jAQl-dgE",
        "outputId": "bc59f973-912f-47f7-a750-666f1cbcdbb3"
      },
      "execution_count": null,
      "outputs": [
        {
          "output_type": "stream",
          "name": "stdout",
          "text": [
            "Index(['Date', 'Day', 'Cases_Guinea', 'Cases_Liberia', 'Cases_SierraLeone',\n",
            "       'Cases_Nigeria', 'Cases_Senegal', 'Cases_UnitedStates', 'Cases_Spain',\n",
            "       'Cases_Mali', 'Deaths_Guinea', 'Deaths_Liberia', 'Deaths_SierraLeone',\n",
            "       'Deaths_Nigeria', 'Deaths_Senegal', 'Deaths_UnitedStates',\n",
            "       'Deaths_Spain', 'Deaths_Mali', 'Cases_multople'],\n",
            "      dtype='object')\n",
            "------------------------------------------------------------------------------------------\n",
            "         Date  Day  Cases_Guinea  Cases_Liberia  Deaths_Guinea  Deaths_Liberia\n",
            "0    1/5/2015  289        2776.0            NaN         1786.0             NaN\n",
            "1    1/4/2015  288        2775.0            NaN         1781.0             NaN\n",
            "2    1/3/2015  287        2769.0         8166.0         1767.0          3496.0\n",
            "3    1/2/2015  286           NaN         8157.0            NaN          3496.0\n",
            "4  12/31/2014  284        2730.0         8115.0         1739.0          3471.0\n"
          ]
        }
      ]
    },
    {
      "cell_type": "code",
      "source": [
        "ebola_long = pd.melt(ebola, id_vars=['Date','Day'])\n",
        "\n",
        "print(ebola_long)\n"
      ],
      "metadata": {
        "colab": {
          "base_uri": "https://localhost:8080/"
        },
        "id": "67txVeOX_O8T",
        "outputId": "395a2ed9-db25-4224-ef1e-6b6344f77b27"
      },
      "execution_count": null,
      "outputs": [
        {
          "output_type": "stream",
          "name": "stdout",
          "text": [
            "            Date  Day        variable   value\n",
            "0       1/5/2015  289    Cases_Guinea  2776.0\n",
            "1       1/4/2015  288    Cases_Guinea  2775.0\n",
            "2       1/3/2015  287    Cases_Guinea  2769.0\n",
            "3       1/2/2015  286    Cases_Guinea     NaN\n",
            "4     12/31/2014  284    Cases_Guinea  2730.0\n",
            "...          ...  ...             ...     ...\n",
            "2069   3/27/2014    5  Cases_multople   117.0\n",
            "2070   3/26/2014    4  Cases_multople     NaN\n",
            "2071   3/25/2014    3  Cases_multople     NaN\n",
            "2072   3/24/2014    2  Cases_multople     NaN\n",
            "2073   3/22/2014    0  Cases_multople     NaN\n",
            "\n",
            "[2074 rows x 4 columns]\n"
          ]
        }
      ]
    },
    {
      "cell_type": "code",
      "source": [
        "variable_split = ebola_long.variable.str.split('_')\n",
        "\n",
        "print(variable_split) # 발병(죽음과 같은 상태) + 나라 이름"
      ],
      "metadata": {
        "colab": {
          "base_uri": "https://localhost:8080/"
        },
        "id": "SFLge_PU_j8P",
        "outputId": "710a14b7-8420-4a42-825a-5ef13063f052"
      },
      "execution_count": null,
      "outputs": [
        {
          "output_type": "stream",
          "name": "stdout",
          "text": [
            "0         [Cases, Guinea]\n",
            "1         [Cases, Guinea]\n",
            "2         [Cases, Guinea]\n",
            "3         [Cases, Guinea]\n",
            "4         [Cases, Guinea]\n",
            "              ...        \n",
            "2069    [Cases, multople]\n",
            "2070    [Cases, multople]\n",
            "2071    [Cases, multople]\n",
            "2072    [Cases, multople]\n",
            "2073    [Cases, multople]\n",
            "Name: variable, Length: 2074, dtype: object\n"
          ]
        }
      ]
    },
    {
      "cell_type": "code",
      "source": [
        "print(type(variable_split),'-'*40 , sep='\\n')\n",
        "\n",
        "print(type(variable_split[0]))"
      ],
      "metadata": {
        "colab": {
          "base_uri": "https://localhost:8080/"
        },
        "id": "Vtv4PA0b_-IU",
        "outputId": "1268b7d4-a3fc-4708-f1cf-708520a089d9"
      },
      "execution_count": null,
      "outputs": [
        {
          "output_type": "stream",
          "name": "stdout",
          "text": [
            "<class 'pandas.core.series.Series'>\n",
            "----------------------------------------\n",
            "<class 'list'>\n"
          ]
        }
      ]
    },
    {
      "cell_type": "markdown",
      "source": [
        "get 메서드 \n",
        "\n",
        ": 인덱스의 데이터를 한 번에 추출"
      ],
      "metadata": {
        "id": "BPD_57qwArxC"
      }
    },
    {
      "cell_type": "code",
      "source": [
        "status_values = variable_split.str.get(0)\n",
        "country_values = variable_split.str.get(1)\n",
        "\n",
        "print(status_values[:5],'-'*40, sep='\\n')\n",
        "\n",
        "print(status_values[-5: ],'-'*40, sep='\\n')\n",
        "\n",
        "print(country_values[:5],'-'*40, sep='\\n')\n",
        "\n",
        "print(country_values[-5:],'-'*40, sep='\\n')"
      ],
      "metadata": {
        "colab": {
          "base_uri": "https://localhost:8080/"
        },
        "id": "5VnirrxoANHw",
        "outputId": "97214b7a-c852-4e2a-cd40-48d99a0637fb"
      },
      "execution_count": null,
      "outputs": [
        {
          "output_type": "stream",
          "name": "stdout",
          "text": [
            "0    Cases\n",
            "1    Cases\n",
            "2    Cases\n",
            "3    Cases\n",
            "4    Cases\n",
            "Name: variable, dtype: object\n",
            "----------------------------------------\n",
            "2069    Cases\n",
            "2070    Cases\n",
            "2071    Cases\n",
            "2072    Cases\n",
            "2073    Cases\n",
            "Name: variable, dtype: object\n",
            "----------------------------------------\n",
            "0    Guinea\n",
            "1    Guinea\n",
            "2    Guinea\n",
            "3    Guinea\n",
            "4    Guinea\n",
            "Name: variable, dtype: object\n",
            "----------------------------------------\n",
            "2069    multople\n",
            "2070    multople\n",
            "2071    multople\n",
            "2072    multople\n",
            "2073    multople\n",
            "Name: variable, dtype: object\n",
            "----------------------------------------\n"
          ]
        }
      ]
    },
    {
      "cell_type": "code",
      "source": [
        "ebola_long['status'] = status_values\n",
        "ebola_long['country'] = country_values\n",
        "\n",
        "print(ebola_long.head())"
      ],
      "metadata": {
        "colab": {
          "base_uri": "https://localhost:8080/"
        },
        "id": "kLcjuwzDBQn9",
        "outputId": "018482d7-c393-4dfd-e610-6ae46dc60588"
      },
      "execution_count": null,
      "outputs": [
        {
          "output_type": "stream",
          "name": "stdout",
          "text": [
            "         Date  Day      variable   value status country\n",
            "0    1/5/2015  289  Cases_Guinea  2776.0  Cases  Guinea\n",
            "1    1/4/2015  288  Cases_Guinea  2775.0  Cases  Guinea\n",
            "2    1/3/2015  287  Cases_Guinea  2769.0  Cases  Guinea\n",
            "3    1/2/2015  286  Cases_Guinea     NaN  Cases  Guinea\n",
            "4  12/31/2014  284  Cases_Guinea  2730.0  Cases  Guinea\n"
          ]
        }
      ]
    },
    {
      "cell_type": "markdown",
      "source": [
        "### concat 메서드로 데이터프레임에 열 추가\n",
        "\n",
        "concat 메서드를 활용하면 split 메서드로 분리한 데이터를 바로 데이터프레임에 추가 가능"
      ],
      "metadata": {
        "id": "A6Xv_PlhBgXL"
      }
    },
    {
      "cell_type": "code",
      "source": [
        "variable_split = ebola_long.variable.str.split('_', expand=True)\n",
        "variable_split.columns = ['status','country']\n",
        "ebola_parsed = pd.concat([ebola_long, variable_split], axis =1 )\n",
        "print(ebola_parsed.head())"
      ],
      "metadata": {
        "colab": {
          "base_uri": "https://localhost:8080/"
        },
        "id": "yGPKHYvlBdkF",
        "outputId": "879cbf70-530c-45dc-d1d7-c3550a199657"
      },
      "execution_count": null,
      "outputs": [
        {
          "output_type": "stream",
          "name": "stdout",
          "text": [
            "         Date  Day      variable   value status country status country\n",
            "0    1/5/2015  289  Cases_Guinea  2776.0  Cases  Guinea  Cases  Guinea\n",
            "1    1/4/2015  288  Cases_Guinea  2775.0  Cases  Guinea  Cases  Guinea\n",
            "2    1/3/2015  287  Cases_Guinea  2769.0  Cases  Guinea  Cases  Guinea\n",
            "3    1/2/2015  286  Cases_Guinea     NaN  Cases  Guinea  Cases  Guinea\n",
            "4  12/31/2014  284  Cases_Guinea  2730.0  Cases  Guinea  Cases  Guinea\n"
          ]
        }
      ]
    },
    {
      "cell_type": "markdown",
      "source": [
        "## 여러 열을 하나로 정리하기"
      ],
      "metadata": {
        "id": "09f_Nim3CTEe"
      }
    },
    {
      "cell_type": "markdown",
      "source": [
        "### melt 메서드 "
      ],
      "metadata": {
        "id": "4OWR-nPbC8Q7"
      }
    },
    {
      "cell_type": "code",
      "source": [
        "weather = pd.read_csv('/content/drive/MyDrive/My_GitHub/Python_ML/Doit_Pandas_dataset/weather.csv')\n",
        "print(weather.iloc[:5,:])"
      ],
      "metadata": {
        "colab": {
          "base_uri": "https://localhost:8080/"
        },
        "id": "8VAtZakUCLBM",
        "outputId": "6d7c7f34-6a42-425b-c85b-949f2cdfbbc7"
      },
      "execution_count": null,
      "outputs": [
        {
          "output_type": "stream",
          "name": "stdout",
          "text": [
            "        id  year  month element  d1    d2    d3  d4    d5  d6  ...  d22   d23  \\\n",
            "0  MX17004  2010      1    tmax NaN   NaN   NaN NaN   NaN NaN  ...  NaN   NaN   \n",
            "1  MX17004  2010      1    tmin NaN   NaN   NaN NaN   NaN NaN  ...  NaN   NaN   \n",
            "2  MX17004  2010      2    tmax NaN  27.3  24.1 NaN   NaN NaN  ...  NaN  29.9   \n",
            "3  MX17004  2010      2    tmin NaN  14.4  14.4 NaN   NaN NaN  ...  NaN  10.7   \n",
            "4  MX17004  2010      3    tmax NaN   NaN   NaN NaN  32.1 NaN  ...  NaN   NaN   \n",
            "\n",
            "   d24  d25  d26  d27  d28  d29   d30  d31  \n",
            "0  NaN  NaN  NaN  NaN  NaN  NaN  27.8  NaN  \n",
            "1  NaN  NaN  NaN  NaN  NaN  NaN  14.5  NaN  \n",
            "2  NaN  NaN  NaN  NaN  NaN  NaN   NaN  NaN  \n",
            "3  NaN  NaN  NaN  NaN  NaN  NaN   NaN  NaN  \n",
            "4  NaN  NaN  NaN  NaN  NaN  NaN   NaN  NaN  \n",
            "\n",
            "[5 rows x 35 columns]\n"
          ]
        }
      ]
    },
    {
      "cell_type": "code",
      "source": [
        "weather_melt = pd.melt(weather, id_vars =['id','year','month','element'], var_name='day', value_name ='temp')\n",
        "print(weather_melt.head())"
      ],
      "metadata": {
        "colab": {
          "base_uri": "https://localhost:8080/"
        },
        "id": "p6Zsoa74Cm6B",
        "outputId": "e7d141d4-aeeb-44e9-a304-4edd642873b6"
      },
      "execution_count": null,
      "outputs": [
        {
          "output_type": "stream",
          "name": "stdout",
          "text": [
            "        id  year  month element day  temp\n",
            "0  MX17004  2010      1    tmax  d1   NaN\n",
            "1  MX17004  2010      1    tmin  d1   NaN\n",
            "2  MX17004  2010      2    tmax  d1   NaN\n",
            "3  MX17004  2010      2    tmin  d1   NaN\n",
            "4  MX17004  2010      3    tmax  d1   NaN\n"
          ]
        }
      ]
    },
    {
      "cell_type": "markdown",
      "source": [
        "### pivot_table 메서드 \n",
        "\n",
        ": 행과 열의 위치를 다시 바꿔 정리\n",
        "\n",
        "    index 인자에는 위치를 그대로 유지할 열 이름 지정, \n",
        "\n",
        "    columns 인자에는 피벗할 열 이름을 지정, \n",
        "\n",
        "    values 인자에는 새로운 열의 데이터가 될 열 이름 지정"
      ],
      "metadata": {
        "id": "r6UMt5j7DAV1"
      }
    },
    {
      "cell_type": "code",
      "source": [
        "weather_tidy = weather_melt.pivot_table(\n",
        "    index = ['id','year','month','day'],\n",
        "    columns = 'element',\n",
        "    values = 'temp',\n",
        "    dropna=False\n",
        ")\n",
        "\n",
        "print(weather_tidy.head())"
      ],
      "metadata": {
        "colab": {
          "base_uri": "https://localhost:8080/"
        },
        "id": "Vzb_DgjcC5oz",
        "outputId": "0cf8f023-5003-43da-e9e4-106cddf33f18"
      },
      "execution_count": null,
      "outputs": [
        {
          "output_type": "stream",
          "name": "stdout",
          "text": [
            "element                 tmax  tmin\n",
            "id      year month day            \n",
            "MX17004 2010 1     d1    NaN   NaN\n",
            "                   d10   NaN   NaN\n",
            "                   d11   NaN   NaN\n",
            "                   d12   NaN   NaN\n",
            "                   d13   NaN   NaN\n"
          ]
        }
      ]
    },
    {
      "cell_type": "markdown",
      "source": [
        "### reset_index 메서드\n",
        "\n",
        ": 데이터프레임의 인덱스를 새로 지정"
      ],
      "metadata": {
        "id": "cm_8nX3aEO5d"
      }
    },
    {
      "cell_type": "code",
      "source": [
        "weather_tidy_flat = weather_tidy.reset_index()\n",
        "\n",
        "print(weather_tidy_flat.head())\n"
      ],
      "metadata": {
        "colab": {
          "base_uri": "https://localhost:8080/"
        },
        "id": "N0UbY8HpDttD",
        "outputId": "45c7b6b1-f638-4c2a-811d-9406049d3b79"
      },
      "execution_count": null,
      "outputs": [
        {
          "output_type": "stream",
          "name": "stdout",
          "text": [
            "element       id  year  month  day  tmax  tmin\n",
            "0        MX17004  2010      1   d1   NaN   NaN\n",
            "1        MX17004  2010      1  d10   NaN   NaN\n",
            "2        MX17004  2010      1  d11   NaN   NaN\n",
            "3        MX17004  2010      1  d12   NaN   NaN\n",
            "4        MX17004  2010      1  d13   NaN   NaN\n"
          ]
        }
      ]
    },
    {
      "cell_type": "markdown",
      "source": [
        "## 7-4 중복 데이터 처리하기"
      ],
      "metadata": {
        "id": "P9dvDKXfEqri"
      }
    },
    {
      "cell_type": "code",
      "source": [
        "print(billboard_long.shape)"
      ],
      "metadata": {
        "colab": {
          "base_uri": "https://localhost:8080/"
        },
        "id": "ZWoSFJtYEd3W",
        "outputId": "8fee83f1-3fb8-4173-bf9a-88fd3487eb1f"
      },
      "execution_count": null,
      "outputs": [
        {
          "output_type": "stream",
          "name": "stdout",
          "text": [
            "(24092, 7)\n"
          ]
        }
      ]
    },
    {
      "cell_type": "code",
      "source": [
        "print(billboard_long.head())"
      ],
      "metadata": {
        "colab": {
          "base_uri": "https://localhost:8080/"
        },
        "id": "NdWLqpbEE2JM",
        "outputId": "6f28aceb-fa3c-43b4-a228-cb0bb435e604"
      },
      "execution_count": null,
      "outputs": [
        {
          "output_type": "stream",
          "name": "stdout",
          "text": [
            "   year        artist                    track  time date.entered week  rating\n",
            "0  2000         2 Pac  Baby Don't Cry (Keep...  4:22   2000-02-26  wk1    87.0\n",
            "1  2000       2Ge+her  The Hardest Part Of ...  3:15   2000-09-02  wk1    91.0\n",
            "2  2000  3 Doors Down               Kryptonite  3:53   2000-04-08  wk1    81.0\n",
            "3  2000  3 Doors Down                    Loser  4:24   2000-10-21  wk1    76.0\n",
            "4  2000      504 Boyz            Wobble Wobble  3:35   2000-04-15  wk1    57.0\n"
          ]
        }
      ]
    },
    {
      "cell_type": "code",
      "source": [
        "print(billboard_long[billboard_long['track']=='Loser'].head())"
      ],
      "metadata": {
        "colab": {
          "base_uri": "https://localhost:8080/"
        },
        "id": "JHE3KQo8E67z",
        "outputId": "7722581d-6b13-4cfe-8f54-a30826d9106a"
      },
      "execution_count": null,
      "outputs": [
        {
          "output_type": "stream",
          "name": "stdout",
          "text": [
            "      year        artist  track  time date.entered week  rating\n",
            "3     2000  3 Doors Down  Loser  4:24   2000-10-21  wk1    76.0\n",
            "320   2000  3 Doors Down  Loser  4:24   2000-10-21  wk2    76.0\n",
            "637   2000  3 Doors Down  Loser  4:24   2000-10-21  wk3    72.0\n",
            "954   2000  3 Doors Down  Loser  4:24   2000-10-21  wk4    69.0\n",
            "1271  2000  3 Doors Down  Loser  4:24   2000-10-21  wk5    67.0\n"
          ]
        }
      ]
    },
    {
      "cell_type": "markdown",
      "source": [
        "가수는 고유한 값이기 때문에 따로 관리하는 것이 데이터의 일관성을 유지하는 데 더 도움이 됨"
      ],
      "metadata": {
        "id": "zRspWb9eFJYJ"
      }
    },
    {
      "cell_type": "code",
      "source": [
        "billboard_songs = billboard_long[['year','artist','track','time']]\n",
        "\n",
        "print(billboard_songs.shape)"
      ],
      "metadata": {
        "colab": {
          "base_uri": "https://localhost:8080/"
        },
        "id": "U1Ki3xMWFFuH",
        "outputId": "31aff085-f506-4aab-e1f2-46385d83a5a4"
      },
      "execution_count": null,
      "outputs": [
        {
          "output_type": "stream",
          "name": "stdout",
          "text": [
            "(24092, 4)\n"
          ]
        }
      ]
    },
    {
      "cell_type": "code",
      "source": [
        "billboard_songs = billboard_songs.drop_duplicates()\n",
        "print(billboard_songs.shape)"
      ],
      "metadata": {
        "colab": {
          "base_uri": "https://localhost:8080/"
        },
        "id": "y_j1B6e9FWlJ",
        "outputId": "5d43dd19-a561-436c-91de-dc74f22621f6"
      },
      "execution_count": null,
      "outputs": [
        {
          "output_type": "stream",
          "name": "stdout",
          "text": [
            "(317, 4)\n"
          ]
        }
      ]
    },
    {
      "cell_type": "code",
      "source": [
        "billboard_songs['id'] = range(len(billboard_songs))\n",
        "print(billboard_songs.head())"
      ],
      "metadata": {
        "colab": {
          "base_uri": "https://localhost:8080/"
        },
        "id": "MGCJZ0a1Fgd9",
        "outputId": "28e579d6-f5fc-4ac5-8a22-8e50a2521c27"
      },
      "execution_count": null,
      "outputs": [
        {
          "output_type": "stream",
          "name": "stdout",
          "text": [
            "   year        artist                    track  time  id\n",
            "0  2000         2 Pac  Baby Don't Cry (Keep...  4:22   0\n",
            "1  2000       2Ge+her  The Hardest Part Of ...  3:15   1\n",
            "2  2000  3 Doors Down               Kryptonite  3:53   2\n",
            "3  2000  3 Doors Down                    Loser  4:24   3\n",
            "4  2000      504 Boyz            Wobble Wobble  3:35   4\n"
          ]
        }
      ]
    },
    {
      "cell_type": "code",
      "source": [
        "billboard_ratings = billboard_long.merge(billboard_songs, on = ['year','artist','track','time'])\n",
        "print(billboard_ratings.shape)\n",
        "print(billboard_ratings.head())"
      ],
      "metadata": {
        "colab": {
          "base_uri": "https://localhost:8080/"
        },
        "id": "eE52XKCIFry9",
        "outputId": "35e71387-baf0-4038-dada-18168b4f0c23"
      },
      "execution_count": null,
      "outputs": [
        {
          "output_type": "stream",
          "name": "stdout",
          "text": [
            "(24092, 8)\n",
            "   year artist                    track  time date.entered week  rating  id\n",
            "0  2000  2 Pac  Baby Don't Cry (Keep...  4:22   2000-02-26  wk1    87.0   0\n",
            "1  2000  2 Pac  Baby Don't Cry (Keep...  4:22   2000-02-26  wk2    82.0   0\n",
            "2  2000  2 Pac  Baby Don't Cry (Keep...  4:22   2000-02-26  wk3    72.0   0\n",
            "3  2000  2 Pac  Baby Don't Cry (Keep...  4:22   2000-02-26  wk4    77.0   0\n",
            "4  2000  2 Pac  Baby Don't Cry (Keep...  4:22   2000-02-26  wk5    87.0   0\n"
          ]
        }
      ]
    },
    {
      "cell_type": "markdown",
      "source": [
        "## 7-5 대용량 데이터 처리하기\n",
        "\n",
        "데이터를 나누어 처리하면 용량이 작아져 데이터를 저장하거나 다른 사람에게 공유할때 유용함"
      ],
      "metadata": {
        "id": "caOPVJ_fGLHs"
      }
    },
    {
      "cell_type": "code",
      "source": [
        "import os \n",
        "import urllib.request\n",
        "\n",
        "with open('/content/drive/MyDrive/My_GitHub/Python_ML/Doit_Pandas_dataset/raw_data_urls.txt', 'r') as data_urls:\n",
        "    for line, url in enumerate(data_urls):\n",
        "        if line==5:\n",
        "            break\n",
        "        fn = url.split('/')[-1].strip()\n",
        "        fp = os.path.join('','/content/drive/MyDrive/My_GitHub/Python_ML/Doit_Pandas_dataset',fn)\n",
        "        print(url)\n",
        "        print(fp)\n",
        "        urllib.request.urlretrieve(url,fp)"
      ],
      "metadata": {
        "id": "wcaok46AHtmo"
      },
      "execution_count": null,
      "outputs": []
    },
    {
      "cell_type": "code",
      "source": [
        "import glob\n",
        "nyc_taxi_data = glob.glob('/Doit_Pandas_dataset/fhv_*')\n",
        "print(nyc_taxi_data)"
      ],
      "metadata": {
        "id": "h9jChjmZLXsg"
      },
      "execution_count": null,
      "outputs": []
    },
    {
      "cell_type": "code",
      "source": [
        "taxi1 = pd.read_csv(nyc_taxi_data[0])\n",
        "taxi2 = pd.read_csv(nyc_taxi_data[1])\n",
        "taxi3 = pd.read_csv(nyc_taxi_data[2])\n",
        "taxi4 = pd.read_csv(nyc_taxi_data[3])\n",
        "taxi5 = pd.read_csv(nyc_taxi_data[4])"
      ],
      "metadata": {
        "id": "FloQkHb3Llg4"
      },
      "execution_count": null,
      "outputs": []
    },
    {
      "cell_type": "code",
      "source": [
        "print(taxi1.head(2))\n",
        "print(taxi2.head(2))\n",
        "print(taxi3.head(2))\n",
        "print(taxi4.head(2))\n",
        "print(taxi5.head(2))"
      ],
      "metadata": {
        "id": "PQg0u-6mLxyB"
      },
      "execution_count": null,
      "outputs": []
    },
    {
      "cell_type": "code",
      "source": [
        "print(taxi1.shape)\n",
        "print(taxi2.shape)\n",
        "print(taxi3.shape)\n",
        "print(taxi4.shape)\n",
        "print(taxi5.shape)"
      ],
      "metadata": {
        "id": "h5J7nRQ2L5nl"
      },
      "execution_count": null,
      "outputs": []
    },
    {
      "cell_type": "code",
      "source": [
        "taxi = pd.concat([taxi1,taxi2,taxi3,taxi4,taxi5])\n",
        "print(taxi.shape)"
      ],
      "metadata": {
        "id": "pYmZDOgEMCex"
      },
      "execution_count": null,
      "outputs": []
    },
    {
      "cell_type": "markdown",
      "source": [
        "### 반복문으로 데이터 준비하기"
      ],
      "metadata": {
        "id": "Fn8RdT6QMThY"
      }
    },
    {
      "cell_type": "code",
      "source": [
        "list_taxi_df=[]\n",
        "for csv_filename in nyc_taxi_data:\n",
        "    df = pd.read_csv(csv_filename)\n",
        "    list_taxi_df.append(df)\n",
        "\n",
        "print(len(list_taxi_df))\n",
        "\n",
        "print(type(list_taxi_df[0]))\n",
        "\n",
        "print(list_taxi_df[0].head())\n",
        "\n",
        "taxi_loop_concat = pd.concat(list_taxi_df)\n",
        "print(taxi_loop_concat.shape)\n",
        "print(taxi.equals(taxi_loop_concat))"
      ],
      "metadata": {
        "id": "QCJp7aMjMMzK"
      },
      "execution_count": null,
      "outputs": []
    },
    {
      "cell_type": "markdown",
      "source": [
        "## 8-1 자료형 다루기 "
      ],
      "metadata": {
        "id": "Rz-fmi8LM0xP"
      }
    },
    {
      "cell_type": "markdown",
      "source": [
        "### 자료형 변환하기 \n",
        "\n",
        "자료형 변환 \n",
        "\n",
        ": 데이터 분석 과정에서 반드시 알아야 하는 요소 중 하나"
      ],
      "metadata": {
        "id": "gWncQDTLM5fF"
      }
    },
    {
      "cell_type": "markdown",
      "source": [
        "#### astype 메서드"
      ],
      "metadata": {
        "id": "kRLx9DnROJNq"
      }
    },
    {
      "cell_type": "code",
      "source": [
        "import pandas as pd\n",
        "import seaborn as sns\n",
        "\n",
        "tips = sns.load_dataset('tips')"
      ],
      "metadata": {
        "id": "NekuurmiM4f0"
      },
      "execution_count": null,
      "outputs": []
    },
    {
      "cell_type": "code",
      "source": [
        "tips['sex_str'] = tips['sex'].astype(str)"
      ],
      "metadata": {
        "id": "9AhcFO5jOYvi"
      },
      "execution_count": null,
      "outputs": []
    },
    {
      "cell_type": "code",
      "source": [
        "print(tips.dtypes)"
      ],
      "metadata": {
        "colab": {
          "base_uri": "https://localhost:8080/"
        },
        "id": "UAsoxqvROo3W",
        "outputId": "5df7df08-2dc5-40fa-f00a-0d27065c6cfb"
      },
      "execution_count": null,
      "outputs": [
        {
          "output_type": "stream",
          "name": "stdout",
          "text": [
            "total_bill     float64\n",
            "tip            float64\n",
            "sex           category\n",
            "smoker        category\n",
            "day           category\n",
            "time          category\n",
            "size             int64\n",
            "sex_str         object\n",
            "dtype: object\n"
          ]
        }
      ]
    },
    {
      "cell_type": "markdown",
      "source": [
        "#### to_numeric 메서드\n",
        "\n",
        "to_numeric 메서드의 \n",
        "\n",
        "errors 인자를 통해서 오류를 어느 정도 제어 가능\n",
        "\n",
        "downcast인자를 통해서 정수, 실수와 같은 자료형을 더 작은 형태로 만들 때 사용 \n",
        "\n",
        "\n",
        "    (1) errors 인자에 설정할 수 있는 값\n",
        "    - raise : 숫자로 변환할 수 없는 값이 있으면 오류 발생\n",
        "    - coerce : 숫자로 변환할 수 없는 값을 누락값으로 지정\n",
        "    - ignore : 아무 작업도 하지 않음\n",
        "\n",
        "    (2) downcast인자\n",
        "    - 사용할 수 있는 값 : integer, signed, unsigned, float등"
      ],
      "metadata": {
        "id": "iL2v1W1IPkv_"
      }
    },
    {
      "cell_type": "code",
      "source": [
        "tips_sub_miss = tips.head(10)\n",
        "tips_sub_miss.loc[[1,3,5,7],'total_bill'] = 'missing'\n",
        "print(tips_sub_miss)"
      ],
      "metadata": {
        "colab": {
          "base_uri": "https://localhost:8080/"
        },
        "id": "1nGIuM7QPalo",
        "outputId": "a853caa0-5b34-4ad7-c8ac-f06d7e26eb92"
      },
      "execution_count": null,
      "outputs": [
        {
          "output_type": "stream",
          "name": "stdout",
          "text": [
            "  total_bill   tip     sex smoker  day    time  size sex_str\n",
            "0      16.99  1.01  Female     No  Sun  Dinner     2  Female\n",
            "1    missing  1.66    Male     No  Sun  Dinner     3    Male\n",
            "2      21.01  3.50    Male     No  Sun  Dinner     3    Male\n",
            "3    missing  3.31    Male     No  Sun  Dinner     2    Male\n",
            "4      24.59  3.61  Female     No  Sun  Dinner     4  Female\n",
            "5    missing  4.71    Male     No  Sun  Dinner     4    Male\n",
            "6       8.77  2.00    Male     No  Sun  Dinner     2    Male\n",
            "7    missing  3.12    Male     No  Sun  Dinner     4    Male\n",
            "8      15.04  1.96    Male     No  Sun  Dinner     2    Male\n",
            "9      14.78  3.23    Male     No  Sun  Dinner     2    Male\n"
          ]
        },
        {
          "output_type": "stream",
          "name": "stderr",
          "text": [
            "/usr/local/lib/python3.8/dist-packages/pandas/core/indexing.py:1817: SettingWithCopyWarning: \n",
            "A value is trying to be set on a copy of a slice from a DataFrame.\n",
            "Try using .loc[row_indexer,col_indexer] = value instead\n",
            "\n",
            "See the caveats in the documentation: https://pandas.pydata.org/pandas-docs/stable/user_guide/indexing.html#returning-a-view-versus-a-copy\n",
            "  self._setitem_single_column(loc, value, pi)\n"
          ]
        }
      ]
    },
    {
      "cell_type": "code",
      "source": [
        "print(tips_sub_miss.dtypes)"
      ],
      "metadata": {
        "colab": {
          "base_uri": "https://localhost:8080/"
        },
        "id": "YdEXuYF2QIZV",
        "outputId": "34f5d189-fa61-49c7-db4d-65b49b623a8a"
      },
      "execution_count": null,
      "outputs": [
        {
          "output_type": "stream",
          "name": "stdout",
          "text": [
            "total_bill      object\n",
            "tip            float64\n",
            "sex           category\n",
            "smoker        category\n",
            "day           category\n",
            "time          category\n",
            "size             int64\n",
            "sex_str         object\n",
            "dtype: object\n"
          ]
        }
      ]
    },
    {
      "cell_type": "code",
      "source": [
        "tips_sub_miss['total_bill'].astype(float) # 문자열을 실수로 변환 불가라 에러 발생\n"
      ],
      "metadata": {
        "colab": {
          "base_uri": "https://localhost:8080/",
          "height": 319
        },
        "id": "696CBqz3QP-D",
        "outputId": "5754a158-b456-4296-96ad-aadcf0f6e92d"
      },
      "execution_count": null,
      "outputs": [
        {
          "output_type": "error",
          "ename": "ValueError",
          "evalue": "ignored",
          "traceback": [
            "\u001b[0;31m---------------------------------------------------------------------------\u001b[0m",
            "\u001b[0;31mValueError\u001b[0m                                Traceback (most recent call last)",
            "\u001b[0;32m<ipython-input-128-461b8f8e2a64>\u001b[0m in \u001b[0;36m<module>\u001b[0;34m\u001b[0m\n\u001b[0;32m----> 1\u001b[0;31m \u001b[0mtips_sub_miss\u001b[0m\u001b[0;34m[\u001b[0m\u001b[0;34m'total_bill'\u001b[0m\u001b[0;34m]\u001b[0m\u001b[0;34m.\u001b[0m\u001b[0mastype\u001b[0m\u001b[0;34m(\u001b[0m\u001b[0mfloat\u001b[0m\u001b[0;34m)\u001b[0m \u001b[0;31m# 문자열을 실수로 변환 불가라 에러 발생\u001b[0m\u001b[0;34m\u001b[0m\u001b[0;34m\u001b[0m\u001b[0m\n\u001b[0m",
            "\u001b[0;32m/usr/local/lib/python3.8/dist-packages/pandas/core/generic.py\u001b[0m in \u001b[0;36mastype\u001b[0;34m(self, dtype, copy, errors)\u001b[0m\n\u001b[1;32m   5813\u001b[0m         \u001b[0;32melse\u001b[0m\u001b[0;34m:\u001b[0m\u001b[0;34m\u001b[0m\u001b[0;34m\u001b[0m\u001b[0m\n\u001b[1;32m   5814\u001b[0m             \u001b[0;31m# else, only a single dtype is given\u001b[0m\u001b[0;34m\u001b[0m\u001b[0;34m\u001b[0m\u001b[0;34m\u001b[0m\u001b[0m\n\u001b[0;32m-> 5815\u001b[0;31m             \u001b[0mnew_data\u001b[0m \u001b[0;34m=\u001b[0m \u001b[0mself\u001b[0m\u001b[0;34m.\u001b[0m\u001b[0m_mgr\u001b[0m\u001b[0;34m.\u001b[0m\u001b[0mastype\u001b[0m\u001b[0;34m(\u001b[0m\u001b[0mdtype\u001b[0m\u001b[0;34m=\u001b[0m\u001b[0mdtype\u001b[0m\u001b[0;34m,\u001b[0m \u001b[0mcopy\u001b[0m\u001b[0;34m=\u001b[0m\u001b[0mcopy\u001b[0m\u001b[0;34m,\u001b[0m \u001b[0merrors\u001b[0m\u001b[0;34m=\u001b[0m\u001b[0merrors\u001b[0m\u001b[0;34m)\u001b[0m\u001b[0;34m\u001b[0m\u001b[0;34m\u001b[0m\u001b[0m\n\u001b[0m\u001b[1;32m   5816\u001b[0m             \u001b[0;32mreturn\u001b[0m \u001b[0mself\u001b[0m\u001b[0;34m.\u001b[0m\u001b[0m_constructor\u001b[0m\u001b[0;34m(\u001b[0m\u001b[0mnew_data\u001b[0m\u001b[0;34m)\u001b[0m\u001b[0;34m.\u001b[0m\u001b[0m__finalize__\u001b[0m\u001b[0;34m(\u001b[0m\u001b[0mself\u001b[0m\u001b[0;34m,\u001b[0m \u001b[0mmethod\u001b[0m\u001b[0;34m=\u001b[0m\u001b[0;34m\"astype\"\u001b[0m\u001b[0;34m)\u001b[0m\u001b[0;34m\u001b[0m\u001b[0;34m\u001b[0m\u001b[0m\n\u001b[1;32m   5817\u001b[0m \u001b[0;34m\u001b[0m\u001b[0m\n",
            "\u001b[0;32m/usr/local/lib/python3.8/dist-packages/pandas/core/internals/managers.py\u001b[0m in \u001b[0;36mastype\u001b[0;34m(self, dtype, copy, errors)\u001b[0m\n\u001b[1;32m    416\u001b[0m \u001b[0;34m\u001b[0m\u001b[0m\n\u001b[1;32m    417\u001b[0m     \u001b[0;32mdef\u001b[0m \u001b[0mastype\u001b[0m\u001b[0;34m(\u001b[0m\u001b[0mself\u001b[0m\u001b[0;34m:\u001b[0m \u001b[0mT\u001b[0m\u001b[0;34m,\u001b[0m \u001b[0mdtype\u001b[0m\u001b[0;34m,\u001b[0m \u001b[0mcopy\u001b[0m\u001b[0;34m:\u001b[0m \u001b[0mbool\u001b[0m \u001b[0;34m=\u001b[0m \u001b[0;32mFalse\u001b[0m\u001b[0;34m,\u001b[0m \u001b[0merrors\u001b[0m\u001b[0;34m:\u001b[0m \u001b[0mstr\u001b[0m \u001b[0;34m=\u001b[0m \u001b[0;34m\"raise\"\u001b[0m\u001b[0;34m)\u001b[0m \u001b[0;34m->\u001b[0m \u001b[0mT\u001b[0m\u001b[0;34m:\u001b[0m\u001b[0;34m\u001b[0m\u001b[0;34m\u001b[0m\u001b[0m\n\u001b[0;32m--> 418\u001b[0;31m         \u001b[0;32mreturn\u001b[0m \u001b[0mself\u001b[0m\u001b[0;34m.\u001b[0m\u001b[0mapply\u001b[0m\u001b[0;34m(\u001b[0m\u001b[0;34m\"astype\"\u001b[0m\u001b[0;34m,\u001b[0m \u001b[0mdtype\u001b[0m\u001b[0;34m=\u001b[0m\u001b[0mdtype\u001b[0m\u001b[0;34m,\u001b[0m \u001b[0mcopy\u001b[0m\u001b[0;34m=\u001b[0m\u001b[0mcopy\u001b[0m\u001b[0;34m,\u001b[0m \u001b[0merrors\u001b[0m\u001b[0;34m=\u001b[0m\u001b[0merrors\u001b[0m\u001b[0;34m)\u001b[0m\u001b[0;34m\u001b[0m\u001b[0;34m\u001b[0m\u001b[0m\n\u001b[0m\u001b[1;32m    419\u001b[0m \u001b[0;34m\u001b[0m\u001b[0m\n\u001b[1;32m    420\u001b[0m     def convert(\n",
            "\u001b[0;32m/usr/local/lib/python3.8/dist-packages/pandas/core/internals/managers.py\u001b[0m in \u001b[0;36mapply\u001b[0;34m(self, f, align_keys, ignore_failures, **kwargs)\u001b[0m\n\u001b[1;32m    325\u001b[0m                     \u001b[0mapplied\u001b[0m \u001b[0;34m=\u001b[0m \u001b[0mb\u001b[0m\u001b[0;34m.\u001b[0m\u001b[0mapply\u001b[0m\u001b[0;34m(\u001b[0m\u001b[0mf\u001b[0m\u001b[0;34m,\u001b[0m \u001b[0;34m**\u001b[0m\u001b[0mkwargs\u001b[0m\u001b[0;34m)\u001b[0m\u001b[0;34m\u001b[0m\u001b[0;34m\u001b[0m\u001b[0m\n\u001b[1;32m    326\u001b[0m                 \u001b[0;32melse\u001b[0m\u001b[0;34m:\u001b[0m\u001b[0;34m\u001b[0m\u001b[0;34m\u001b[0m\u001b[0m\n\u001b[0;32m--> 327\u001b[0;31m                     \u001b[0mapplied\u001b[0m \u001b[0;34m=\u001b[0m \u001b[0mgetattr\u001b[0m\u001b[0;34m(\u001b[0m\u001b[0mb\u001b[0m\u001b[0;34m,\u001b[0m \u001b[0mf\u001b[0m\u001b[0;34m)\u001b[0m\u001b[0;34m(\u001b[0m\u001b[0;34m**\u001b[0m\u001b[0mkwargs\u001b[0m\u001b[0;34m)\u001b[0m\u001b[0;34m\u001b[0m\u001b[0;34m\u001b[0m\u001b[0m\n\u001b[0m\u001b[1;32m    328\u001b[0m             \u001b[0;32mexcept\u001b[0m \u001b[0;34m(\u001b[0m\u001b[0mTypeError\u001b[0m\u001b[0;34m,\u001b[0m \u001b[0mNotImplementedError\u001b[0m\u001b[0;34m)\u001b[0m\u001b[0;34m:\u001b[0m\u001b[0;34m\u001b[0m\u001b[0;34m\u001b[0m\u001b[0m\n\u001b[1;32m    329\u001b[0m                 \u001b[0;32mif\u001b[0m \u001b[0;32mnot\u001b[0m \u001b[0mignore_failures\u001b[0m\u001b[0;34m:\u001b[0m\u001b[0;34m\u001b[0m\u001b[0;34m\u001b[0m\u001b[0m\n",
            "\u001b[0;32m/usr/local/lib/python3.8/dist-packages/pandas/core/internals/blocks.py\u001b[0m in \u001b[0;36mastype\u001b[0;34m(self, dtype, copy, errors)\u001b[0m\n\u001b[1;32m    589\u001b[0m         \u001b[0mvalues\u001b[0m \u001b[0;34m=\u001b[0m \u001b[0mself\u001b[0m\u001b[0;34m.\u001b[0m\u001b[0mvalues\u001b[0m\u001b[0;34m\u001b[0m\u001b[0;34m\u001b[0m\u001b[0m\n\u001b[1;32m    590\u001b[0m \u001b[0;34m\u001b[0m\u001b[0m\n\u001b[0;32m--> 591\u001b[0;31m         \u001b[0mnew_values\u001b[0m \u001b[0;34m=\u001b[0m \u001b[0mastype_array_safe\u001b[0m\u001b[0;34m(\u001b[0m\u001b[0mvalues\u001b[0m\u001b[0;34m,\u001b[0m \u001b[0mdtype\u001b[0m\u001b[0;34m,\u001b[0m \u001b[0mcopy\u001b[0m\u001b[0;34m=\u001b[0m\u001b[0mcopy\u001b[0m\u001b[0;34m,\u001b[0m \u001b[0merrors\u001b[0m\u001b[0;34m=\u001b[0m\u001b[0merrors\u001b[0m\u001b[0;34m)\u001b[0m\u001b[0;34m\u001b[0m\u001b[0;34m\u001b[0m\u001b[0m\n\u001b[0m\u001b[1;32m    592\u001b[0m \u001b[0;34m\u001b[0m\u001b[0m\n\u001b[1;32m    593\u001b[0m         \u001b[0mnew_values\u001b[0m \u001b[0;34m=\u001b[0m \u001b[0mmaybe_coerce_values\u001b[0m\u001b[0;34m(\u001b[0m\u001b[0mnew_values\u001b[0m\u001b[0;34m)\u001b[0m\u001b[0;34m\u001b[0m\u001b[0;34m\u001b[0m\u001b[0m\n",
            "\u001b[0;32m/usr/local/lib/python3.8/dist-packages/pandas/core/dtypes/cast.py\u001b[0m in \u001b[0;36mastype_array_safe\u001b[0;34m(values, dtype, copy, errors)\u001b[0m\n\u001b[1;32m   1307\u001b[0m \u001b[0;34m\u001b[0m\u001b[0m\n\u001b[1;32m   1308\u001b[0m     \u001b[0;32mtry\u001b[0m\u001b[0;34m:\u001b[0m\u001b[0;34m\u001b[0m\u001b[0;34m\u001b[0m\u001b[0m\n\u001b[0;32m-> 1309\u001b[0;31m         \u001b[0mnew_values\u001b[0m \u001b[0;34m=\u001b[0m \u001b[0mastype_array\u001b[0m\u001b[0;34m(\u001b[0m\u001b[0mvalues\u001b[0m\u001b[0;34m,\u001b[0m \u001b[0mdtype\u001b[0m\u001b[0;34m,\u001b[0m \u001b[0mcopy\u001b[0m\u001b[0;34m=\u001b[0m\u001b[0mcopy\u001b[0m\u001b[0;34m)\u001b[0m\u001b[0;34m\u001b[0m\u001b[0;34m\u001b[0m\u001b[0m\n\u001b[0m\u001b[1;32m   1310\u001b[0m     \u001b[0;32mexcept\u001b[0m \u001b[0;34m(\u001b[0m\u001b[0mValueError\u001b[0m\u001b[0;34m,\u001b[0m \u001b[0mTypeError\u001b[0m\u001b[0;34m)\u001b[0m\u001b[0;34m:\u001b[0m\u001b[0;34m\u001b[0m\u001b[0;34m\u001b[0m\u001b[0m\n\u001b[1;32m   1311\u001b[0m         \u001b[0;31m# e.g. astype_nansafe can fail on object-dtype of strings\u001b[0m\u001b[0;34m\u001b[0m\u001b[0;34m\u001b[0m\u001b[0;34m\u001b[0m\u001b[0m\n",
            "\u001b[0;32m/usr/local/lib/python3.8/dist-packages/pandas/core/dtypes/cast.py\u001b[0m in \u001b[0;36mastype_array\u001b[0;34m(values, dtype, copy)\u001b[0m\n\u001b[1;32m   1255\u001b[0m \u001b[0;34m\u001b[0m\u001b[0m\n\u001b[1;32m   1256\u001b[0m     \u001b[0;32melse\u001b[0m\u001b[0;34m:\u001b[0m\u001b[0;34m\u001b[0m\u001b[0;34m\u001b[0m\u001b[0m\n\u001b[0;32m-> 1257\u001b[0;31m         \u001b[0mvalues\u001b[0m \u001b[0;34m=\u001b[0m \u001b[0mastype_nansafe\u001b[0m\u001b[0;34m(\u001b[0m\u001b[0mvalues\u001b[0m\u001b[0;34m,\u001b[0m \u001b[0mdtype\u001b[0m\u001b[0;34m,\u001b[0m \u001b[0mcopy\u001b[0m\u001b[0;34m=\u001b[0m\u001b[0mcopy\u001b[0m\u001b[0;34m)\u001b[0m\u001b[0;34m\u001b[0m\u001b[0;34m\u001b[0m\u001b[0m\n\u001b[0m\u001b[1;32m   1258\u001b[0m \u001b[0;34m\u001b[0m\u001b[0m\n\u001b[1;32m   1259\u001b[0m     \u001b[0;31m# in pandas we don't store numpy str dtypes, so convert to object\u001b[0m\u001b[0;34m\u001b[0m\u001b[0;34m\u001b[0m\u001b[0;34m\u001b[0m\u001b[0m\n",
            "\u001b[0;32m/usr/local/lib/python3.8/dist-packages/pandas/core/dtypes/cast.py\u001b[0m in \u001b[0;36mastype_nansafe\u001b[0;34m(arr, dtype, copy, skipna)\u001b[0m\n\u001b[1;32m   1199\u001b[0m     \u001b[0;32mif\u001b[0m \u001b[0mcopy\u001b[0m \u001b[0;32mor\u001b[0m \u001b[0mis_object_dtype\u001b[0m\u001b[0;34m(\u001b[0m\u001b[0marr\u001b[0m\u001b[0;34m.\u001b[0m\u001b[0mdtype\u001b[0m\u001b[0;34m)\u001b[0m \u001b[0;32mor\u001b[0m \u001b[0mis_object_dtype\u001b[0m\u001b[0;34m(\u001b[0m\u001b[0mdtype\u001b[0m\u001b[0;34m)\u001b[0m\u001b[0;34m:\u001b[0m\u001b[0;34m\u001b[0m\u001b[0;34m\u001b[0m\u001b[0m\n\u001b[1;32m   1200\u001b[0m         \u001b[0;31m# Explicit copy, or required since NumPy can't view from / to object.\u001b[0m\u001b[0;34m\u001b[0m\u001b[0;34m\u001b[0m\u001b[0;34m\u001b[0m\u001b[0m\n\u001b[0;32m-> 1201\u001b[0;31m         \u001b[0;32mreturn\u001b[0m \u001b[0marr\u001b[0m\u001b[0;34m.\u001b[0m\u001b[0mastype\u001b[0m\u001b[0;34m(\u001b[0m\u001b[0mdtype\u001b[0m\u001b[0;34m,\u001b[0m \u001b[0mcopy\u001b[0m\u001b[0;34m=\u001b[0m\u001b[0;32mTrue\u001b[0m\u001b[0;34m)\u001b[0m\u001b[0;34m\u001b[0m\u001b[0;34m\u001b[0m\u001b[0m\n\u001b[0m\u001b[1;32m   1202\u001b[0m \u001b[0;34m\u001b[0m\u001b[0m\n\u001b[1;32m   1203\u001b[0m     \u001b[0;32mreturn\u001b[0m \u001b[0marr\u001b[0m\u001b[0;34m.\u001b[0m\u001b[0mastype\u001b[0m\u001b[0;34m(\u001b[0m\u001b[0mdtype\u001b[0m\u001b[0;34m,\u001b[0m \u001b[0mcopy\u001b[0m\u001b[0;34m=\u001b[0m\u001b[0mcopy\u001b[0m\u001b[0;34m)\u001b[0m\u001b[0;34m\u001b[0m\u001b[0;34m\u001b[0m\u001b[0m\n",
            "\u001b[0;31mValueError\u001b[0m: could not convert string to float: 'missing'"
          ]
        }
      ]
    },
    {
      "cell_type": "code",
      "source": [
        "pd.to_numeric(tips_sub_miss['total_bill']) # 위와 같은 오류 발생"
      ],
      "metadata": {
        "colab": {
          "base_uri": "https://localhost:8080/",
          "height": 301
        },
        "id": "alSzoMEhQo3v",
        "outputId": "8b75c66c-78d6-4fb4-aa9b-cc4d8c5fecce"
      },
      "execution_count": null,
      "outputs": [
        {
          "output_type": "error",
          "ename": "ValueError",
          "evalue": "ignored",
          "traceback": [
            "\u001b[0;31m---------------------------------------------------------------------------\u001b[0m",
            "\u001b[0;31mValueError\u001b[0m                                Traceback (most recent call last)",
            "\u001b[0;32m/usr/local/lib/python3.8/dist-packages/pandas/_libs/lib.pyx\u001b[0m in \u001b[0;36mpandas._libs.lib.maybe_convert_numeric\u001b[0;34m()\u001b[0m\n",
            "\u001b[0;31mValueError\u001b[0m: Unable to parse string \"missing\"",
            "\nDuring handling of the above exception, another exception occurred:\n",
            "\u001b[0;31mValueError\u001b[0m                                Traceback (most recent call last)",
            "\u001b[0;32m<ipython-input-129-f72d589d1ff9>\u001b[0m in \u001b[0;36m<module>\u001b[0;34m\u001b[0m\n\u001b[0;32m----> 1\u001b[0;31m \u001b[0mpd\u001b[0m\u001b[0;34m.\u001b[0m\u001b[0mto_numeric\u001b[0m\u001b[0;34m(\u001b[0m\u001b[0mtips_sub_miss\u001b[0m\u001b[0;34m[\u001b[0m\u001b[0;34m'total_bill'\u001b[0m\u001b[0;34m]\u001b[0m\u001b[0;34m)\u001b[0m \u001b[0;31m# 위와 같은 오류 발생\u001b[0m\u001b[0;34m\u001b[0m\u001b[0;34m\u001b[0m\u001b[0m\n\u001b[0m",
            "\u001b[0;32m/usr/local/lib/python3.8/dist-packages/pandas/core/tools/numeric.py\u001b[0m in \u001b[0;36mto_numeric\u001b[0;34m(arg, errors, downcast)\u001b[0m\n\u001b[1;32m    181\u001b[0m         \u001b[0mcoerce_numeric\u001b[0m \u001b[0;34m=\u001b[0m \u001b[0merrors\u001b[0m \u001b[0;32mnot\u001b[0m \u001b[0;32min\u001b[0m \u001b[0;34m(\u001b[0m\u001b[0;34m\"ignore\"\u001b[0m\u001b[0;34m,\u001b[0m \u001b[0;34m\"raise\"\u001b[0m\u001b[0;34m)\u001b[0m\u001b[0;34m\u001b[0m\u001b[0;34m\u001b[0m\u001b[0m\n\u001b[1;32m    182\u001b[0m         \u001b[0;32mtry\u001b[0m\u001b[0;34m:\u001b[0m\u001b[0;34m\u001b[0m\u001b[0;34m\u001b[0m\u001b[0m\n\u001b[0;32m--> 183\u001b[0;31m             values, _ = lib.maybe_convert_numeric(\n\u001b[0m\u001b[1;32m    184\u001b[0m                 \u001b[0mvalues\u001b[0m\u001b[0;34m,\u001b[0m \u001b[0mset\u001b[0m\u001b[0;34m(\u001b[0m\u001b[0;34m)\u001b[0m\u001b[0;34m,\u001b[0m \u001b[0mcoerce_numeric\u001b[0m\u001b[0;34m=\u001b[0m\u001b[0mcoerce_numeric\u001b[0m\u001b[0;34m\u001b[0m\u001b[0;34m\u001b[0m\u001b[0m\n\u001b[1;32m    185\u001b[0m             )\n",
            "\u001b[0;32m/usr/local/lib/python3.8/dist-packages/pandas/_libs/lib.pyx\u001b[0m in \u001b[0;36mpandas._libs.lib.maybe_convert_numeric\u001b[0;34m()\u001b[0m\n",
            "\u001b[0;31mValueError\u001b[0m: Unable to parse string \"missing\" at position 1"
          ]
        }
      ]
    },
    {
      "cell_type": "code",
      "source": [
        "tips_sub_miss['total_bill'] = pd.to_numeric(tips_sub_miss['total_bill'], errors='ignore')\n",
        "print(tips_sub_miss.dtypes)"
      ],
      "metadata": {
        "colab": {
          "base_uri": "https://localhost:8080/"
        },
        "id": "MGR0RKNaQw9S",
        "outputId": "eb1dbd3e-c6c0-44d1-ad62-47862d2177f9"
      },
      "execution_count": null,
      "outputs": [
        {
          "output_type": "stream",
          "name": "stdout",
          "text": [
            "total_bill      object\n",
            "tip            float64\n",
            "sex           category\n",
            "smoker        category\n",
            "day           category\n",
            "time          category\n",
            "size             int64\n",
            "sex_str         object\n",
            "dtype: object\n"
          ]
        },
        {
          "output_type": "stream",
          "name": "stderr",
          "text": [
            "<ipython-input-130-5881133b5e1e>:1: SettingWithCopyWarning: \n",
            "A value is trying to be set on a copy of a slice from a DataFrame.\n",
            "Try using .loc[row_indexer,col_indexer] = value instead\n",
            "\n",
            "See the caveats in the documentation: https://pandas.pydata.org/pandas-docs/stable/user_guide/indexing.html#returning-a-view-versus-a-copy\n",
            "  tips_sub_miss['total_bill'] = pd.to_numeric(tips_sub_miss['total_bill'], errors='ignore')\n"
          ]
        }
      ]
    },
    {
      "cell_type": "code",
      "source": [
        "tips_sub_miss['total_bill'] = pd.to_numeric(tips_sub_miss['total_bill'], errors='coerce')\n",
        "print(tips_sub_miss.dtypes)"
      ],
      "metadata": {
        "colab": {
          "base_uri": "https://localhost:8080/"
        },
        "id": "rew7zL_WRcZn",
        "outputId": "4d1c0621-85c2-4523-ba14-8234565570ad"
      },
      "execution_count": null,
      "outputs": [
        {
          "output_type": "stream",
          "name": "stdout",
          "text": [
            "total_bill     float64\n",
            "tip            float64\n",
            "sex           category\n",
            "smoker        category\n",
            "day           category\n",
            "time          category\n",
            "size             int64\n",
            "sex_str         object\n",
            "dtype: object\n"
          ]
        },
        {
          "output_type": "stream",
          "name": "stderr",
          "text": [
            "<ipython-input-131-a6c80958f59d>:1: SettingWithCopyWarning: \n",
            "A value is trying to be set on a copy of a slice from a DataFrame.\n",
            "Try using .loc[row_indexer,col_indexer] = value instead\n",
            "\n",
            "See the caveats in the documentation: https://pandas.pydata.org/pandas-docs/stable/user_guide/indexing.html#returning-a-view-versus-a-copy\n",
            "  tips_sub_miss['total_bill'] = pd.to_numeric(tips_sub_miss['total_bill'], errors='coerce')\n"
          ]
        }
      ]
    },
    {
      "cell_type": "code",
      "source": [
        "tips_sub_miss['total_bill'] = pd.to_numeric(tips_sub_miss['total_bill'], errors='coerce', downcast='float')\n",
        "print(tips_sub_miss.dtypes)"
      ],
      "metadata": {
        "colab": {
          "base_uri": "https://localhost:8080/"
        },
        "id": "szAs6ebYRiED",
        "outputId": "f19ba40b-7d08-44eb-d8f9-e1ab5c23af15"
      },
      "execution_count": null,
      "outputs": [
        {
          "output_type": "stream",
          "name": "stdout",
          "text": [
            "total_bill     float32\n",
            "tip            float64\n",
            "sex           category\n",
            "smoker        category\n",
            "day           category\n",
            "time          category\n",
            "size             int64\n",
            "sex_str         object\n",
            "dtype: object\n"
          ]
        },
        {
          "output_type": "stream",
          "name": "stderr",
          "text": [
            "<ipython-input-132-edb91e91a891>:1: SettingWithCopyWarning: \n",
            "A value is trying to be set on a copy of a slice from a DataFrame.\n",
            "Try using .loc[row_indexer,col_indexer] = value instead\n",
            "\n",
            "See the caveats in the documentation: https://pandas.pydata.org/pandas-docs/stable/user_guide/indexing.html#returning-a-view-versus-a-copy\n",
            "  tips_sub_miss['total_bill'] = pd.to_numeric(tips_sub_miss['total_bill'], errors='coerce', downcast='float')\n"
          ]
        }
      ]
    },
    {
      "cell_type": "markdown",
      "source": [
        "## 8-2 카테고리 자료형\n",
        "\n",
        "카테고리 자료형의 장점과 특징\n",
        "\n",
        "    - 용량과 속도 면에서 매우 효율적임\n",
        "    - 주로 동일한 문자열이 반복되어 데이터를 구성하는 경우에 사용함 "
      ],
      "metadata": {
        "id": "kI_euXGxSMPM"
      }
    },
    {
      "cell_type": "markdown",
      "source": [
        "### 문자열을 카테고리로 변환하기"
      ],
      "metadata": {
        "id": "f9ynoRWpSfwJ"
      }
    },
    {
      "cell_type": "code",
      "source": [
        "tips['sex'] = tips['sex'].astype('str')\n",
        "print(tips.info())"
      ],
      "metadata": {
        "colab": {
          "base_uri": "https://localhost:8080/"
        },
        "id": "y9D_thPtSKM-",
        "outputId": "59c64d6a-62ea-4aa6-85cb-67ad67fd12fe"
      },
      "execution_count": null,
      "outputs": [
        {
          "output_type": "stream",
          "name": "stdout",
          "text": [
            "<class 'pandas.core.frame.DataFrame'>\n",
            "RangeIndex: 244 entries, 0 to 243\n",
            "Data columns (total 8 columns):\n",
            " #   Column      Non-Null Count  Dtype   \n",
            "---  ------      --------------  -----   \n",
            " 0   total_bill  244 non-null    float64 \n",
            " 1   tip         244 non-null    float64 \n",
            " 2   sex         244 non-null    object  \n",
            " 3   smoker      244 non-null    category\n",
            " 4   day         244 non-null    category\n",
            " 5   time        244 non-null    category\n",
            " 6   size        244 non-null    int64   \n",
            " 7   sex_str     244 non-null    object  \n",
            "dtypes: category(3), float64(2), int64(1), object(2)\n",
            "memory usage: 10.8+ KB\n",
            "None\n"
          ]
        }
      ]
    },
    {
      "cell_type": "code",
      "source": [
        "tips['sex'] = tips['sex'].astype('category')\n",
        "print(tips.info())"
      ],
      "metadata": {
        "colab": {
          "base_uri": "https://localhost:8080/"
        },
        "id": "DGQ1wyO2Sp8X",
        "outputId": "e5928a90-d15c-4810-8aad-066093f945e9"
      },
      "execution_count": null,
      "outputs": [
        {
          "output_type": "stream",
          "name": "stdout",
          "text": [
            "<class 'pandas.core.frame.DataFrame'>\n",
            "RangeIndex: 244 entries, 0 to 243\n",
            "Data columns (total 8 columns):\n",
            " #   Column      Non-Null Count  Dtype   \n",
            "---  ------      --------------  -----   \n",
            " 0   total_bill  244 non-null    float64 \n",
            " 1   tip         244 non-null    float64 \n",
            " 2   sex         244 non-null    category\n",
            " 3   smoker      244 non-null    category\n",
            " 4   day         244 non-null    category\n",
            " 5   time        244 non-null    category\n",
            " 6   size        244 non-null    int64   \n",
            " 7   sex_str     244 non-null    object  \n",
            "dtypes: category(4), float64(2), int64(1), object(1)\n",
            "memory usage: 9.3+ KB\n",
            "None\n"
          ]
        }
      ]
    }
  ]
}
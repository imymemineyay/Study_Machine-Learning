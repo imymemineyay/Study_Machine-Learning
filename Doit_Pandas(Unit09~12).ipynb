{
  "nbformat": 4,
  "nbformat_minor": 0,
  "metadata": {
    "colab": {
      "provenance": [],
      "toc_visible": true,
      "authorship_tag": "ABX9TyPrdkBmzPkPCJk0PHTDE9FE",
      "include_colab_link": true
    },
    "kernelspec": {
      "name": "python3",
      "display_name": "Python 3"
    },
    "language_info": {
      "name": "python"
    }
  },
  "cells": [
    {
      "cell_type": "markdown",
      "metadata": {
        "id": "view-in-github",
        "colab_type": "text"
      },
      "source": [
        "<a href=\"https://colab.research.google.com/github/imymemineyay/Study_Machine-Learning/blob/main/Doit_Pandas(Unit09~12).ipynb\" target=\"_parent\"><img src=\"https://colab.research.google.com/assets/colab-badge.svg\" alt=\"Open In Colab\"/></a>"
      ]
    },
    {
      "cell_type": "markdown",
      "source": [
        "## 9-1 문자열 다루기\n",
        "\n"
      ],
      "metadata": {
        "id": "2-MpQwPe3efB"
      }
    },
    {
      "cell_type": "markdown",
      "source": [
        "### 파이썬과 문자열\n",
        "\n",
        "문자열은 작은 따옴표나 큰따옴표로 감싸서 만듦 "
      ],
      "metadata": {
        "id": "B9nYfnqc3l-s"
      }
    },
    {
      "cell_type": "code",
      "execution_count": 2,
      "metadata": {
        "id": "N3e5JUtX3Q2Y"
      },
      "outputs": [],
      "source": [
        "word = 'grail'\n",
        "sent = 'a scratch'"
      ]
    },
    {
      "cell_type": "markdown",
      "source": [
        "### 인덱스로 문자열 추출하기\n",
        "\n",
        "문자열도 인덱스를 사용하여 추출 가능\n",
        "\n",
        "단, 전체 문자열을 추출할 때 음수를 사용하면 안됨 \n",
        "\n",
        "→ [0:-1]을 할 경우 인덱스 슬라이싱의 오른쪽 범위로 지정한 값은 문자열 추출 범위에서 제외되기 때문\n",
        "\n",
        "→ len 메서드를 사용하여 문자열의 길이를 오른쪽 범위로 지정하면 됨 "
      ],
      "metadata": {
        "id": "cuq8_oP_3xDS"
      }
    },
    {
      "cell_type": "code",
      "source": [
        "print(word[0], '-'*5, sep='\\n')\n",
        "\n",
        "print(word[1], '-'*5, sep='\\n')\n",
        "\n",
        "print(word[2], '-'*5, sep='\\n')\n",
        "\n",
        "print(word[3], '-'*5, sep='\\n')\n",
        "\n",
        "print(word[4], '-'*5, sep='\\n')\n",
        "\n",
        "print(word[:len(word)])\n"
      ],
      "metadata": {
        "colab": {
          "base_uri": "https://localhost:8080/"
        },
        "id": "L6GnfXLH3saL",
        "outputId": "a113ae55-3549-4cab-a932-b52f2f6a260b"
      },
      "execution_count": 8,
      "outputs": [
        {
          "output_type": "stream",
          "name": "stdout",
          "text": [
            "g\n",
            "-----\n",
            "r\n",
            "-----\n",
            "a\n",
            "-----\n",
            "i\n",
            "-----\n",
            "l\n",
            "-----\n",
            "grail\n"
          ]
        }
      ]
    },
    {
      "cell_type": "code",
      "source": [
        "print(sent[0], '-'*5, sep='\\n')\n",
        "\n",
        "print(sent[1], '-'*5, sep='\\n')\n",
        "\n",
        "print(sent[2], '-'*5, sep='\\n')\n",
        "\n",
        "print(sent[0:4], '-'*5, sep='\\n')\n",
        "\n",
        "print(sent[2:7], '-'*5, sep='\\n')\n",
        "\n",
        "print(sent[-1], '-'*5, sep='\\n')\n",
        "\n",
        "print(sent[7:2:-1], '-'*5, sep='\\n')\n",
        "\n",
        "print(sent[::3], '-'*5, sep='\\n')"
      ],
      "metadata": {
        "colab": {
          "base_uri": "https://localhost:8080/"
        },
        "id": "ZWoGRQ803-cA",
        "outputId": "fa063ad8-54ed-46bc-8fdf-138766a87643"
      },
      "execution_count": 7,
      "outputs": [
        {
          "output_type": "stream",
          "name": "stdout",
          "text": [
            "a\n",
            "-----\n",
            " \n",
            "-----\n",
            "s\n",
            "-----\n",
            "a sc\n",
            "-----\n",
            "scrat\n",
            "-----\n",
            "h\n",
            "-----\n",
            "ctarc\n",
            "-----\n",
            "act\n",
            "-----\n"
          ]
        }
      ]
    },
    {
      "cell_type": "code",
      "source": [
        "print(sent[2:len(sent)])"
      ],
      "metadata": {
        "colab": {
          "base_uri": "https://localhost:8080/"
        },
        "id": "OOVAkw6c4ZCv",
        "outputId": "1d062beb-f4fc-4c06-ee4c-943bc8beb8df"
      },
      "execution_count": 6,
      "outputs": [
        {
          "output_type": "stream",
          "name": "stdout",
          "text": [
            "scratch\n"
          ]
        }
      ]
    },
    {
      "cell_type": "markdown",
      "source": [
        "## 9-2 문자열 메서드\n",
        "\n",
        "\n",
        "      메서드                  설명 \n",
        " \n",
        "     capitalize   :    첫 문자를 대문자로 변환\n",
        "     count        :    문자열의 개수를 반환\n",
        "     startswith   :    문자열이 특정 문자로 시작하면 참이 됨\n",
        "     endswith     :    문자열이 특정 문자로 끝나면 참이 됨\n",
        "     find         :    찾을 문자열의 첫 번째 인덱스를 반환. 실패시 -1을 반환\n",
        "     index        :    find 메서드와 같은 역할을 수행하지만 실패시 ValueError 반환\n",
        "     isalpha      :    모든 문자가 알파벳이면 참\n",
        "     isdecimal    :    모든 문자가 숫자면 참\n",
        "     isalnum      :    모든 문자가 알파벳이거나 숫자면 참\n",
        "     lower        :    모든 문자를 소문자로 변환함\n",
        "     upper        :    모든 문자를 대문자로 변환함\n",
        "     replace      :    문자열의 문자를 다른 문자로 교체함\n",
        "     strip        :    문자열의 맨 앞과 맨 뒤에 있는 빈 칸을 제거함\n",
        "     split        :    구분자를 지정하여 문자열을 나누고, 나눈 값들의 리스트를 반환함\n",
        "     partition    :    split 메서드와 비슷한 역할을 수행하지만 구분자도 반환\n",
        "     center       :    지정한 너비로 문자열을 늘이고 문자열을 가운데 정렬\n",
        "     zfill        :    문자열의 빈 칸을 '0'으로 채움"
      ],
      "metadata": {
        "id": "rZ5_Sdx-5WOh"
      }
    },
    {
      "cell_type": "code",
      "source": [
        "print(\"black Knight\".capitalize())\n",
        "\n",
        "print(\"It's just a flesh wound!\".count('u'))\n",
        "\n",
        "print(\"Halt! Who goes there?\".startswith('Halt'))\n",
        "\n",
        "print(\"coconut\".endswith('nut'))\n",
        "\n",
        "print(\"It's just a flesh wound!\".find('u'))\n",
        "\n",
        "print(\"It's just a flesh wound!\".find('scratch'))\n",
        "\n",
        "print(\"old woman\".isalpha())\n",
        "\n",
        "print(\"37\".isdecimal())\n",
        "\n",
        "print(\"I'm 37\".isalnum())\n",
        "\n",
        "print(\"Black Knigh\".lower())\n",
        "\n",
        "print(\"Black Knigh\".upper())\n",
        "\n",
        "print(\"flesh wound!\".replace('flesh wound','scratch'))\n",
        "\n",
        "print(\" I'm not dead. \".strip())\n",
        "\n",
        "print(\"NI!NI!NI!NI!\".split('!'))\n",
        "\n",
        "print(\"3,4\".partition(\",\"))\n",
        "\n",
        "print(\"nine\".center(10))\n",
        "\n",
        "print(\"9\".zfill(5))\n"
      ],
      "metadata": {
        "colab": {
          "base_uri": "https://localhost:8080/"
        },
        "id": "6-nwVr005D_1",
        "outputId": "441fbc98-433c-4695-8534-e137d770b859"
      },
      "execution_count": 12,
      "outputs": [
        {
          "output_type": "stream",
          "name": "stdout",
          "text": [
            "Black knight\n",
            "2\n",
            "True\n",
            "True\n",
            "6\n",
            "-1\n",
            "False\n",
            "True\n",
            "False\n",
            "black knigh\n",
            "BLACK KNIGH\n",
            "scratch!\n",
            "I'm not dead.\n",
            "['NI', 'NI', 'NI', 'NI', '']\n",
            "('3', ',', '4')\n",
            "   nine   \n",
            "00009\n"
          ]
        }
      ]
    },
    {
      "cell_type": "markdown",
      "source": [
        "### join 메서드\n",
        "\n",
        "문자열을 연결하여 새로운 문자열을 반환하는 메서드"
      ],
      "metadata": {
        "id": "Znd3hRecEloT"
      }
    },
    {
      "cell_type": "code",
      "source": [
        "d1 = 'I'\n",
        "d2 = 'my'\n",
        "d3 = 'me'\n",
        "d4 = 'mine'\n",
        "d5 = 'yayy'\n",
        "\n",
        "myself = ' '.join([d1,d2,d3,d4,d5])\n",
        "print(myself)"
      ],
      "metadata": {
        "colab": {
          "base_uri": "https://localhost:8080/"
        },
        "id": "OwsxAD6HEoaK",
        "outputId": "567ebb6c-2ea0-407b-a1d8-ecafdd294879"
      },
      "execution_count": 13,
      "outputs": [
        {
          "output_type": "stream",
          "name": "stdout",
          "text": [
            "I my me mine yayy\n"
          ]
        }
      ]
    },
    {
      "cell_type": "markdown",
      "source": [
        "### splitlines 메서드\n",
        "\n",
        "여러 행을 가진 문자열을 분리한 다음 리스트로 반환"
      ],
      "metadata": {
        "id": "hjMK0hu0E_1o"
      }
    },
    {
      "cell_type": "code",
      "source": [
        "multi_str = '''Guard: What? Ridden on a horse?\n",
        "King Arthur : Yes!\n",
        "Guard : You're using coconuts!\n",
        "King Arthur : What?\n",
        "Guard : You've got ... coconut[s] and you're bangin' 'em together. \n",
        "'''\n",
        "\n",
        "print(multi_str)"
      ],
      "metadata": {
        "colab": {
          "base_uri": "https://localhost:8080/"
        },
        "id": "k8bm8OIE_0iX",
        "outputId": "7aa3f528-4bb5-415f-dfe5-cceba30a46f4"
      },
      "execution_count": 14,
      "outputs": [
        {
          "output_type": "stream",
          "name": "stdout",
          "text": [
            "Guard: What? Ridden on a horse?\n",
            "King Arthur : Yes!\n",
            "Guard : You're using coconuts!\n",
            "King Arthur : What?\n",
            "Guard : You've got ... coconut[s] and you're bangin' 'em together. \n",
            "\n"
          ]
        }
      ]
    },
    {
      "cell_type": "code",
      "source": [
        "multi_str_split = multi_str.splitlines()\n",
        "print(multi_str_split)"
      ],
      "metadata": {
        "colab": {
          "base_uri": "https://localhost:8080/"
        },
        "id": "0y68glRzFjE1",
        "outputId": "ddd4bbb5-199f-44a4-dd62-bd9046035a29"
      },
      "execution_count": 15,
      "outputs": [
        {
          "output_type": "stream",
          "name": "stdout",
          "text": [
            "['Guard: What? Ridden on a horse?', 'King Arthur : Yes!', \"Guard : You're using coconuts!\", 'King Arthur : What?', \"Guard : You've got ... coconut[s] and you're bangin' 'em together. \"]\n"
          ]
        }
      ]
    },
    {
      "cell_type": "code",
      "source": [
        "guard = multi_str_split[0::2]\n",
        "print(guard)"
      ],
      "metadata": {
        "colab": {
          "base_uri": "https://localhost:8080/"
        },
        "id": "BJnOXbhnFrvu",
        "outputId": "1b875938-7630-4a28-ddc0-6e4c06ac548d"
      },
      "execution_count": 16,
      "outputs": [
        {
          "output_type": "stream",
          "name": "stdout",
          "text": [
            "['Guard: What? Ridden on a horse?', \"Guard : You're using coconuts!\", \"Guard : You've got ... coconut[s] and you're bangin' 'em together. \"]\n"
          ]
        }
      ]
    },
    {
      "cell_type": "markdown",
      "source": [
        "### replace 메서드"
      ],
      "metadata": {
        "id": "3SI9WWrzF2nn"
      }
    },
    {
      "cell_type": "code",
      "source": [
        "guard = multi_str.replace(\"Guard : \", \"\").splitlines()[::2]\n",
        "print(guard)"
      ],
      "metadata": {
        "colab": {
          "base_uri": "https://localhost:8080/"
        },
        "id": "mP7yHQWPF0Yc",
        "outputId": "e7955c57-62e2-4d71-e77a-45b47f351485"
      },
      "execution_count": 18,
      "outputs": [
        {
          "output_type": "stream",
          "name": "stdout",
          "text": [
            "['Guard: What? Ridden on a horse?', \"You're using coconuts!\", \"You've got ... coconut[s] and you're bangin' 'em together. \"]\n"
          ]
        }
      ]
    },
    {
      "cell_type": "markdown",
      "source": [
        "## 9-3 문자열 포매팅\n",
        "\n",
        "문자열을 편리하게 출력할 수 있게 해주는 기능\n",
        "\n",
        "출력할 문자열의 형식을 지정하거나 변수를 조합하여 출력하는 방법\n"
      ],
      "metadata": {
        "id": "kDj6eY7ZGDeS"
      }
    },
    {
      "cell_type": "code",
      "source": [
        "var = 'flesh wound'\n",
        "s = 'It\\'s just a {}!'\n",
        "\n",
        "print(s.format(var),'-'*30,sep='\\n')\n",
        "\n",
        "print(s.format('scratch'))"
      ],
      "metadata": {
        "colab": {
          "base_uri": "https://localhost:8080/"
        },
        "id": "Qf0vmDboF8kN",
        "outputId": "12b3b7b1-68ba-44a5-d9ab-3c27091b6b24"
      },
      "execution_count": 20,
      "outputs": [
        {
          "output_type": "stream",
          "name": "stdout",
          "text": [
            "It's just a flesh wound!\n",
            "------------------------------\n",
            "It's just a scratch!\n"
          ]
        }
      ]
    },
    {
      "cell_type": "code",
      "source": [
        "s = \"\"\"Black Knight : 'Tis but a {0}\n",
        "King Arthur : A {0}? Your arm's off!\n",
        "\"\"\"\n",
        "\n",
        "print(s.format('scratch'))"
      ],
      "metadata": {
        "colab": {
          "base_uri": "https://localhost:8080/"
        },
        "id": "r-UVFIeKGghJ",
        "outputId": "4ce6ff21-5b0e-4d25-9294-5484cedd3b16"
      },
      "execution_count": 21,
      "outputs": [
        {
          "output_type": "stream",
          "name": "stdout",
          "text": [
            "Black Knight : 'Tis but a scratch\n",
            "King Arthur : A scratch? Your arm's off!\n",
            "\n"
          ]
        }
      ]
    },
    {
      "cell_type": "code",
      "source": [
        "s = 'This is my favorite brands : {clothes}, {shoes}'\n",
        "print(s.format(clothes = 'Andersson Bell', shoes = 'Nike'))"
      ],
      "metadata": {
        "colab": {
          "base_uri": "https://localhost:8080/"
        },
        "id": "3wtU4sfUG1bj",
        "outputId": "63fdeac1-e0b3-427c-b1b7-8c4ce836d52d"
      },
      "execution_count": 22,
      "outputs": [
        {
          "output_type": "stream",
          "name": "stdout",
          "text": [
            "This is my favorite brands : Andersson Bell, Nike\n"
          ]
        }
      ]
    },
    {
      "cell_type": "code",
      "source": [
        "print('Some digits of pi : {}.format(3.14159265359')"
      ],
      "metadata": {
        "colab": {
          "base_uri": "https://localhost:8080/"
        },
        "id": "PDk706B4HbMW",
        "outputId": "3a38fe67-ebfa-40b5-a63d-111617165a45"
      },
      "execution_count": 23,
      "outputs": [
        {
          "output_type": "stream",
          "name": "stdout",
          "text": [
            "Some digits of pi : {}.format(3.14159265359\n"
          ]
        }
      ]
    },
    {
      "cell_type": "code",
      "source": [
        "print('In 2005, Lu Chao of China recited {:,} digits of pi'.format(67890))"
      ],
      "metadata": {
        "colab": {
          "base_uri": "https://localhost:8080/"
        },
        "id": "mIDW8CQCHkWj",
        "outputId": "4f8c88c5-3fcc-4f93-acf8-9dc77b093620"
      },
      "execution_count": 24,
      "outputs": [
        {
          "output_type": "stream",
          "name": "stdout",
          "text": [
            "In 2005, Lu Chao of China recited 67,890 digits of pi\n"
          ]
        }
      ]
    },
    {
      "cell_type": "code",
      "source": [
        "print('I remember {0:.4} or {0:.4%} of what Lu Chao recited'.format(7/678890))"
      ],
      "metadata": {
        "colab": {
          "base_uri": "https://localhost:8080/"
        },
        "id": "4cip6sLoHtXm",
        "outputId": "514615cd-cb61-493c-d275-650dfe30fe65"
      },
      "execution_count": 25,
      "outputs": [
        {
          "output_type": "stream",
          "name": "stdout",
          "text": [
            "I remember 1.031e-05 or 0.0010% of what Lu Chao recited\n"
          ]
        }
      ]
    },
    {
      "cell_type": "code",
      "source": [
        "print('My ID number is {0:05d}'.format(42))"
      ],
      "metadata": {
        "colab": {
          "base_uri": "https://localhost:8080/"
        },
        "id": "PfYSyWi6H9M4",
        "outputId": "3e5fa2ec-31f2-4122-e097-b7e04279ae63"
      },
      "execution_count": 26,
      "outputs": [
        {
          "output_type": "stream",
          "name": "stdout",
          "text": [
            "My ID number is 00042\n"
          ]
        }
      ]
    },
    {
      "cell_type": "code",
      "source": [
        "s = 'I only know %d digits of pi'%7\n",
        "print(s)"
      ],
      "metadata": {
        "colab": {
          "base_uri": "https://localhost:8080/"
        },
        "id": "J5mnjchmII4A",
        "outputId": "e0f990cf-e10e-4b28-87e5-737db8dba876"
      },
      "execution_count": 27,
      "outputs": [
        {
          "output_type": "stream",
          "name": "stdout",
          "text": [
            "I only know 7 digits of pi\n"
          ]
        }
      ]
    },
    {
      "cell_type": "code",
      "source": [
        "print('Some digits of %(cont)s: %(value).2f' % {'cont':'e', 'value': 2.718})"
      ],
      "metadata": {
        "colab": {
          "base_uri": "https://localhost:8080/"
        },
        "id": "TNTajTWmIUFE",
        "outputId": "1ef9eb40-1c00-44d3-f163-dd8dd673e1c0"
      },
      "execution_count": 29,
      "outputs": [
        {
          "output_type": "stream",
          "name": "stdout",
          "text": [
            "Some digits of e: 2.72\n"
          ]
        }
      ]
    },
    {
      "cell_type": "code",
      "source": [
        "var = 'flesh wound'\n",
        "s = f\"It's just a {var}!\"\n",
        "print(s)"
      ],
      "metadata": {
        "colab": {
          "base_uri": "https://localhost:8080/"
        },
        "id": "vH1K_d_JIhCq",
        "outputId": "159305f8-22ab-434d-e117-580ef0d82691"
      },
      "execution_count": 30,
      "outputs": [
        {
          "output_type": "stream",
          "name": "stdout",
          "text": [
            "It's just a flesh wound!\n"
          ]
        }
      ]
    },
    {
      "cell_type": "markdown",
      "source": [
        "## 9-4 정규식으로 문자열 처리에 날개 달기\n",
        "\n",
        "정규식 패턴에 익숙해지려면 https://regex101.com사이트 정규식 패턴 실습\n"
      ],
      "metadata": {
        "id": "YxF8gLy3I1vX"
      }
    },
    {
      "cell_type": "markdown",
      "source": [
        "기본 정규식 문법\n",
        "\n",
        "        \n",
        "      문법    실습코드                          설명  \n",
        "\n",
        "      .      .a                      문자(a)앞에 문자 1개가 있는 패턴 찾음\n",
        "      ^      ^I like                 문자열의 처음부터 일치하는 패턴 찾음\n",
        "      $      on$                     문자열의 끝 부분부터 일치하는 패턴 찾음\n",
        "      *      n\\d*                    n이후 숫자(\\d)가 0개 이상인 패턴 찾음\n",
        "      +      n\\d+                    n이후 숫자(\\d)가 1개 이상인 패턴 찾음\n",
        "      ?      apple?                  ?의 앞의 문자(e)가 있거나 없는 패턴 찾음\n",
        "     {m}     n\\d{2}                  n이후 숫자(\\d)가 2개({2})인 패턴 찾음\n",
        "     {m,n}   n\\d{2,4}                n이후 숫자(\\d)가 2개({2})이상, 4개({2})이하인 패턴 찾음\n",
        "     \\       \\*, \\?, \\+              *,?,+와 같은 특수 문자를 검색할 때 이스케이프 문자를 사용\n",
        "     []     [cfh]all                 c,f,h 중 1개를 포함하고 나머지 문자열이 all인 패턴을 찾음\n",
        "     |      apple | application      apple이나 application 중 하나만 있는 패턴을 찾음(OR연산)\n",
        "     ()     (\\d+)-(\\d+)-(\\d+)        ()에 지정한 패턴을 찾을 때 사용\n",
        "      \n",
        "\n",
        "\n",
        "\n",
        "정규식 특수 문자\n",
        "\n",
        "    특수 문자             설명\n",
        " \n",
        "      \\d        숫자 1개를 의미함([0-9]와 동일)\n",
        "      \\D        숫자 이외의 문자 1개를 의미함([^[0-9]와 동일)\n",
        "      \\s        공백이나 탭 1개를 의미함\n",
        "      \\S        공백 문자 이외의 문자 1개를 의미함\n",
        "      \\w        알파벳 1개를 의미\n",
        "      \\W        알파벳 이외의 문자 1개를 의미함(한글, 중국어등)\n",
        "\n",
        "\n",
        "\n",
        "\n",
        "정규식 표현 - 메서드 \n",
        "\n",
        "정규식 메서드 : 정규식 패턴을 사용하지 않아도 메서드를 호출하는 방법으로 원하는 패턴의 문자열을 찾을 수 있도록 해줌\n",
        "\n",
        "정규식 메서드\n",
        "\n",
        "        함수            실습코드                                              설명\n",
        "      \n",
        "      search       m = re.search('[0-9]{4}', test)                  첫번째로 찾은 패턴의 양 끝 인덱스를 반환\n",
        "                   print(m.group())\n",
        "\n",
        "      match        m = re.match('[0-9]{4}', test)                   문자열의 처음부터 검색하여 찾아낸 패턴의 양 끝 인덱스를 반환\n",
        "                   print(m)\n",
        "\n",
        "      fullmatch    m = re.fullmatch('\\d+\\s\\d+\\s\\d+\\s\\d+', test)     전체 문자열이 일치하는지 검사 \n",
        "                   print(bool(m))\n",
        "\n",
        "      split        m = re.split('\\s', test)                         지정한 패턴으로 잘라낸 문자열을 리스트로 반환\n",
        "                   print(m)\n",
        "\n",
        "      findall      m = re.findall('[0-9]{4}', test)                 지정한 패턴을 찾아 리스트로 반환\n",
        "                   print(m)\n",
        "\n",
        "      finditer     m = re.finditer('[0-9]{4}', test)                findall 메서드와 기능이 동일하지만 iterator를 반환함 \n",
        "                   for match in m:\n",
        "\n",
        "      sub          print(re.sub('\\s', '-', test))                   첫번째 인자로 전달한 값(패턴)을 두 번째 인자로 전달한 값으로 교체\n",
        "                   '010-1234-5678-090'\n",
        "        "
      ],
      "metadata": {
        "id": "dXn8F45zJLTT"
      }
    },
    {
      "cell_type": "code",
      "source": [
        "import re\n",
        "\n",
        "tele_num = '1234567890'\n",
        "\n",
        "m = re.match(pattern = '\\d\\d\\d\\d\\d\\d\\d\\d\\d\\d', string=tele_num)\n",
        "print(type(m))\n",
        "\n",
        "print(m)"
      ],
      "metadata": {
        "colab": {
          "base_uri": "https://localhost:8080/"
        },
        "id": "rQtIx_-7IzBT",
        "outputId": "4848a111-0692-455e-ba41-5ae547b5b24d"
      },
      "execution_count": 31,
      "outputs": [
        {
          "output_type": "stream",
          "name": "stdout",
          "text": [
            "<class 're.Match'>\n",
            "<re.Match object; span=(0, 10), match='1234567890'>\n"
          ]
        }
      ]
    },
    {
      "cell_type": "code",
      "source": [
        "print(bool(m))\n",
        "\n",
        "if m:\n",
        "    print('match')\n",
        "else: \n",
        "    print('no match')"
      ],
      "metadata": {
        "colab": {
          "base_uri": "https://localhost:8080/"
        },
        "id": "cyKtnLD9Plji",
        "outputId": "dc7b7755-a412-4b55-b6a2-29967209f00e"
      },
      "execution_count": 32,
      "outputs": [
        {
          "output_type": "stream",
          "name": "stdout",
          "text": [
            "True\n",
            "match\n"
          ]
        }
      ]
    },
    {
      "cell_type": "code",
      "source": [
        "print(m.start())\n",
        "\n",
        "print(m.end())\n",
        "\n",
        "print(m.span())\n",
        "\n",
        "print(m.group())"
      ],
      "metadata": {
        "colab": {
          "base_uri": "https://localhost:8080/"
        },
        "id": "d1wNeK2kPxYw",
        "outputId": "71d5a915-183a-481f-c1d3-ab3e4b10d083"
      },
      "execution_count": 33,
      "outputs": [
        {
          "output_type": "stream",
          "name": "stdout",
          "text": [
            "0\n",
            "10\n",
            "(0, 10)\n",
            "1234567890\n"
          ]
        }
      ]
    },
    {
      "cell_type": "code",
      "source": [
        "tel_num_spaces = '123 456 7890'\n",
        "m = re.match(pattern='\\d{10}', string=tel_num_spaces)\n",
        "print(m)"
      ],
      "metadata": {
        "colab": {
          "base_uri": "https://localhost:8080/"
        },
        "id": "gO9el1tOP-o9",
        "outputId": "5eb2380b-7dbe-4b55-94ed-f876aabd9efa"
      },
      "execution_count": 34,
      "outputs": [
        {
          "output_type": "stream",
          "name": "stdout",
          "text": [
            "None\n"
          ]
        }
      ]
    },
    {
      "cell_type": "code",
      "source": [
        "if m :\n",
        "    print('Match')\n",
        "else:\n",
        "    print('No match')"
      ],
      "metadata": {
        "colab": {
          "base_uri": "https://localhost:8080/"
        },
        "id": "7cWk_egJT5hu",
        "outputId": "706be770-2b63-4d8a-d7d0-790e5b7b616f"
      },
      "execution_count": 35,
      "outputs": [
        {
          "output_type": "stream",
          "name": "stdout",
          "text": [
            "No match\n"
          ]
        }
      ]
    },
    {
      "cell_type": "code",
      "source": [
        "p = '\\d{3}\\s?\\d{3}\\s?\\d{4}'\n",
        "m = re.match(pattern = p, string=tel_num_spaces)\n",
        "print(m)"
      ],
      "metadata": {
        "colab": {
          "base_uri": "https://localhost:8080/"
        },
        "id": "bhZWhlsQUCV3",
        "outputId": "9b3be74c-9ed2-469f-d53d-335f7cc1b3a4"
      },
      "execution_count": 37,
      "outputs": [
        {
          "output_type": "stream",
          "name": "stdout",
          "text": [
            "<re.Match object; span=(0, 12), match='123 456 7890'>\n"
          ]
        }
      ]
    },
    {
      "cell_type": "code",
      "source": [
        "tele_num_space_paren_dash = '(123) 456-7890'\n",
        "p = '\\(?\\d{3}\\)?\\s?\\d{3}\\s?-?\\d{4}' ## 내가 이해한 바: \\s?는 공백의 여부를 나타내기만해서 -?라는 옵션을 붙여 '-'의 특정값의 여부 확인 추가\n",
        "m = re.match(pattern=p, string=tele_num_space_paren_dash)\n",
        "print(m)"
      ],
      "metadata": {
        "colab": {
          "base_uri": "https://localhost:8080/"
        },
        "id": "7svpx3gXUNyd",
        "outputId": "f9100592-6743-4886-e431-4bf7cb8e3726"
      },
      "execution_count": 38,
      "outputs": [
        {
          "output_type": "stream",
          "name": "stdout",
          "text": [
            "<re.Match object; span=(0, 14), match='(123) 456-7890'>\n"
          ]
        }
      ]
    },
    {
      "cell_type": "code",
      "source": [
        "cnty_tele_num_space_paren_dash = '+1 (123) 456-7890'\n",
        "\n",
        "p = '\\+?1\\s?\\(?\\d{3}\\)?\\s?\\d{3}\\s?-?\\d{4}'\n",
        "m = re.match(pattern=p, string=cnty_tele_num_space_paren_dash)\n",
        "print(m)"
      ],
      "metadata": {
        "colab": {
          "base_uri": "https://localhost:8080/"
        },
        "id": "C1imygh2Xgmu",
        "outputId": "686a639a-8e38-4aa9-cfee-9038954761cf"
      },
      "execution_count": 92,
      "outputs": [
        {
          "output_type": "stream",
          "name": "stdout",
          "text": [
            "<re.Match object; span=(0, 17), match='+1 (123) 456-7890'>\n"
          ]
        }
      ]
    },
    {
      "cell_type": "markdown",
      "source": [
        "위 해석 \n",
        "\n",
        "      '\\+?1 | \\s? | \\\\(? | \\d{3} | \\)? | \\s? | \\d{3} | \\s?-? | \\d{4}'\n",
        "\n",
        "      → \\+?1 == +는 있어도 되고 없어도 되지만 1은 필요 \n",
        "      → \\s?-? == 공백이여도 되고 - 가 있어도 되고 "
      ],
      "metadata": {
        "id": "BF1A0krFl-Ai"
      }
    },
    {
      "cell_type": "code",
      "source": [
        "p = re.compile('\\d{10}')\n",
        "s = '1234567890'\n",
        "m = p.match(s)\n",
        "print(m)"
      ],
      "metadata": {
        "colab": {
          "base_uri": "https://localhost:8080/"
        },
        "id": "BfJDfi8dY80o",
        "outputId": "ac91bb89-c9d6-4379-d30f-ac2c5fe6fd08"
      },
      "execution_count": 44,
      "outputs": [
        {
          "output_type": "stream",
          "name": "stdout",
          "text": [
            "<re.Match object; span=(0, 10), match='1234567890'>\n"
          ]
        }
      ]
    },
    {
      "cell_type": "markdown",
      "source": [
        "## 10-1 간단한 함수 만들기 "
      ],
      "metadata": {
        "id": "4l1P_9nDZgm7"
      }
    },
    {
      "cell_type": "code",
      "source": [
        "def my_function():\n",
        "    pass # 여기에 코드를 입력하면 됨"
      ],
      "metadata": {
        "id": "TF9m96npZZre"
      },
      "execution_count": 46,
      "outputs": []
    },
    {
      "cell_type": "code",
      "source": [
        "def my_sq(x):\n",
        "    return x**2"
      ],
      "metadata": {
        "id": "GN_CmfXyZp6K"
      },
      "execution_count": 47,
      "outputs": []
    },
    {
      "cell_type": "code",
      "source": [
        "def my_exp(x,n):\n",
        "  return x**n"
      ],
      "metadata": {
        "id": "un7VyWc1Zxr5"
      },
      "execution_count": 48,
      "outputs": []
    },
    {
      "cell_type": "code",
      "source": [
        "print(my_sq(5))\n",
        "print(my_exp(5,2))"
      ],
      "metadata": {
        "colab": {
          "base_uri": "https://localhost:8080/"
        },
        "id": "8gOwCOIjZ2d-",
        "outputId": "b66141d4-3053-4582-ae66-180163e34cde"
      },
      "execution_count": 49,
      "outputs": [
        {
          "output_type": "stream",
          "name": "stdout",
          "text": [
            "25\n",
            "25\n"
          ]
        }
      ]
    },
    {
      "cell_type": "markdown",
      "source": [
        "## 10-2 apply 메서드 사용하기 - 기초"
      ],
      "metadata": {
        "id": "PTlinsklZ9G6"
      }
    },
    {
      "cell_type": "code",
      "source": [
        "import pandas as pd\n",
        "\n",
        "df = pd.DataFrame({'a':[10,20,30], 'b':[20,30,40]})\n",
        "print(df)"
      ],
      "metadata": {
        "colab": {
          "base_uri": "https://localhost:8080/"
        },
        "id": "hExv3ofNZ7S9",
        "outputId": "2515340d-34c1-419a-bb8a-df6f9d3fd2ed"
      },
      "execution_count": 50,
      "outputs": [
        {
          "output_type": "stream",
          "name": "stdout",
          "text": [
            "    a   b\n",
            "0  10  20\n",
            "1  20  30\n",
            "2  30  40\n"
          ]
        }
      ]
    },
    {
      "cell_type": "code",
      "source": [
        "print(df['a']**2)"
      ],
      "metadata": {
        "colab": {
          "base_uri": "https://localhost:8080/"
        },
        "id": "9DqI8OG0eEUY",
        "outputId": "fb88d371-91e0-497b-8e4c-53e95488dcbb"
      },
      "execution_count": 51,
      "outputs": [
        {
          "output_type": "stream",
          "name": "stdout",
          "text": [
            "0    100\n",
            "1    400\n",
            "2    900\n",
            "Name: a, dtype: int64\n"
          ]
        }
      ]
    },
    {
      "cell_type": "code",
      "source": [
        "sq = df['a'].apply(my_sq)\n",
        "print(sq)"
      ],
      "metadata": {
        "colab": {
          "base_uri": "https://localhost:8080/"
        },
        "id": "ZoshB05eeHxe",
        "outputId": "cd331fdc-5356-4249-a06d-63a81c6ee7d4"
      },
      "execution_count": 52,
      "outputs": [
        {
          "output_type": "stream",
          "name": "stdout",
          "text": [
            "0    100\n",
            "1    400\n",
            "2    900\n",
            "Name: a, dtype: int64\n"
          ]
        }
      ]
    },
    {
      "cell_type": "code",
      "source": [
        "ex = df['a'].apply(my_exp, n=2)\n",
        "print(ex)"
      ],
      "metadata": {
        "colab": {
          "base_uri": "https://localhost:8080/"
        },
        "id": "b7vKwxZteQCM",
        "outputId": "05e9ab6e-7592-440f-905e-f3afc4d65a1c"
      },
      "execution_count": 53,
      "outputs": [
        {
          "output_type": "stream",
          "name": "stdout",
          "text": [
            "0    100\n",
            "1    400\n",
            "2    900\n",
            "Name: a, dtype: int64\n"
          ]
        }
      ]
    },
    {
      "cell_type": "code",
      "source": [
        "df = pd.DataFrame({'a':[10,20,30,],'b':[20,30,40,]})\n",
        "print(df)"
      ],
      "metadata": {
        "colab": {
          "base_uri": "https://localhost:8080/"
        },
        "id": "1J9QKh1JeXb6",
        "outputId": "ca3562d8-fb63-4e1f-fd9b-0e14aac0be8d"
      },
      "execution_count": 54,
      "outputs": [
        {
          "output_type": "stream",
          "name": "stdout",
          "text": [
            "    a   b\n",
            "0  10  20\n",
            "1  20  30\n",
            "2  30  40\n"
          ]
        }
      ]
    },
    {
      "cell_type": "code",
      "source": [
        "def print_me(x):\n",
        "    print(x)"
      ],
      "metadata": {
        "id": "GKLPfksSegsj"
      },
      "execution_count": 55,
      "outputs": []
    },
    {
      "cell_type": "code",
      "source": [
        "print(df.apply(print_me,axis=0)) # 열 방향 "
      ],
      "metadata": {
        "colab": {
          "base_uri": "https://localhost:8080/"
        },
        "id": "RTMHiR7BekNR",
        "outputId": "ba8b31c2-e693-4531-861f-ffe7eeeaa5cf"
      },
      "execution_count": 56,
      "outputs": [
        {
          "output_type": "stream",
          "name": "stdout",
          "text": [
            "0    10\n",
            "1    20\n",
            "2    30\n",
            "Name: a, dtype: int64\n",
            "0    20\n",
            "1    30\n",
            "2    40\n",
            "Name: b, dtype: int64\n",
            "a    None\n",
            "b    None\n",
            "dtype: object\n"
          ]
        }
      ]
    },
    {
      "cell_type": "code",
      "source": [
        "def avg_2_apply(col):\n",
        "    sum=0\n",
        "    for item in col:\n",
        "        sum += item\n",
        "    return sum/df.shape[1]"
      ],
      "metadata": {
        "id": "sixk2zEKeois"
      },
      "execution_count": 59,
      "outputs": []
    },
    {
      "cell_type": "code",
      "source": [
        "print(df.apply(avg_2_apply,axis=1))"
      ],
      "metadata": {
        "colab": {
          "base_uri": "https://localhost:8080/"
        },
        "id": "_dMvCuiSfHxQ",
        "outputId": "71e5fdeb-b353-4a55-97b4-d88074e64891"
      },
      "execution_count": 60,
      "outputs": [
        {
          "output_type": "stream",
          "name": "stdout",
          "text": [
            "0    15.0\n",
            "1    25.0\n",
            "2    35.0\n",
            "dtype: float64\n"
          ]
        }
      ]
    },
    {
      "cell_type": "markdown",
      "source": [
        "## 10-2 apply 메서드 사용하기 - 고급"
      ],
      "metadata": {
        "id": "4tj-QgKYfYir"
      }
    },
    {
      "cell_type": "code",
      "source": [
        "import seaborn as sns\n",
        "\n",
        "titanic = sns.load_dataset('titanic')"
      ],
      "metadata": {
        "id": "ShyR5286fRTL"
      },
      "execution_count": 61,
      "outputs": []
    },
    {
      "cell_type": "code",
      "source": [
        "# titanic 데이터 정보 확인\n",
        "print(titanic.info())"
      ],
      "metadata": {
        "colab": {
          "base_uri": "https://localhost:8080/"
        },
        "id": "RLEVWXDFfgm1",
        "outputId": "e9b3e56f-dc49-4829-fa9b-58f75e858044"
      },
      "execution_count": 62,
      "outputs": [
        {
          "output_type": "stream",
          "name": "stdout",
          "text": [
            "<class 'pandas.core.frame.DataFrame'>\n",
            "RangeIndex: 891 entries, 0 to 890\n",
            "Data columns (total 15 columns):\n",
            " #   Column       Non-Null Count  Dtype   \n",
            "---  ------       --------------  -----   \n",
            " 0   survived     891 non-null    int64   \n",
            " 1   pclass       891 non-null    int64   \n",
            " 2   sex          891 non-null    object  \n",
            " 3   age          714 non-null    float64 \n",
            " 4   sibsp        891 non-null    int64   \n",
            " 5   parch        891 non-null    int64   \n",
            " 6   fare         891 non-null    float64 \n",
            " 7   embarked     889 non-null    object  \n",
            " 8   class        891 non-null    category\n",
            " 9   who          891 non-null    object  \n",
            " 10  adult_male   891 non-null    bool    \n",
            " 11  deck         203 non-null    category\n",
            " 12  embark_town  889 non-null    object  \n",
            " 13  alive        891 non-null    object  \n",
            " 14  alone        891 non-null    bool    \n",
            "dtypes: bool(2), category(2), float64(2), int64(4), object(5)\n",
            "memory usage: 80.7+ KB\n",
            "None\n"
          ]
        }
      ]
    },
    {
      "cell_type": "code",
      "source": [
        "# 누락값 개수 반환 함수 생성\n",
        "\n",
        "import numpy as np\n",
        "\n",
        "def count_missing(vec):\n",
        "    null_vec = pd.isnull(vec)\n",
        "    null_count = np.sum(null_vec)\n",
        "    return null_count"
      ],
      "metadata": {
        "id": "pMiWwNOnfjI1"
      },
      "execution_count": 63,
      "outputs": []
    },
    {
      "cell_type": "code",
      "source": [
        "cmis_col = titanic.apply(count_missing)\n",
        "print(cmis_col)"
      ],
      "metadata": {
        "colab": {
          "base_uri": "https://localhost:8080/"
        },
        "id": "OaVPq4hqf-AK",
        "outputId": "7c061409-40f0-4464-e302-481857399498"
      },
      "execution_count": 64,
      "outputs": [
        {
          "output_type": "stream",
          "name": "stdout",
          "text": [
            "survived         0\n",
            "pclass           0\n",
            "sex              0\n",
            "age            177\n",
            "sibsp            0\n",
            "parch            0\n",
            "fare             0\n",
            "embarked         2\n",
            "class            0\n",
            "who              0\n",
            "adult_male       0\n",
            "deck           688\n",
            "embark_town      2\n",
            "alive            0\n",
            "alone            0\n",
            "dtype: int64\n"
          ]
        }
      ]
    },
    {
      "cell_type": "code",
      "source": [
        "# 누락값 비율 계산 함수 생성\n",
        "\n",
        "def prop_missing(vec):\n",
        "    num = count_missing(vec)\n",
        "    dem = vec.size\n",
        "    return num/dem"
      ],
      "metadata": {
        "id": "IZdZQgltgFMF"
      },
      "execution_count": 65,
      "outputs": []
    },
    {
      "cell_type": "code",
      "source": [
        "pmis_col = titanic.apply(prop_missing)\n",
        "print(pmis_col)"
      ],
      "metadata": {
        "colab": {
          "base_uri": "https://localhost:8080/"
        },
        "id": "A2UFS6CXgP-c",
        "outputId": "b256b1a0-c6d7-4942-b4c5-c03f84c89453"
      },
      "execution_count": 66,
      "outputs": [
        {
          "output_type": "stream",
          "name": "stdout",
          "text": [
            "survived       0.000000\n",
            "pclass         0.000000\n",
            "sex            0.000000\n",
            "age            0.198653\n",
            "sibsp          0.000000\n",
            "parch          0.000000\n",
            "fare           0.000000\n",
            "embarked       0.002245\n",
            "class          0.000000\n",
            "who            0.000000\n",
            "adult_male     0.000000\n",
            "deck           0.772166\n",
            "embark_town    0.002245\n",
            "alive          0.000000\n",
            "alone          0.000000\n",
            "dtype: float64\n"
          ]
        }
      ]
    },
    {
      "cell_type": "code",
      "source": [
        "# 누락값이 아닌 데이터의 비율 구하는 함수 생성\n",
        "\n",
        "def prop_complete(vec):\n",
        "    return 1 - prop_missing(vec)"
      ],
      "metadata": {
        "id": "_vlfCZdFgWuf"
      },
      "execution_count": 67,
      "outputs": []
    },
    {
      "cell_type": "code",
      "source": [
        "cmis_row = titanic.apply(count_missing, axis = 1)\n",
        "pmis_row = titanic.apply(prop_missing, axis = 1)\n",
        "pcom_row = titanic.apply(prop_complete, axis = 1)\n",
        "\n",
        "print(cmis_row.head(),'-'*30,sep='\\n')\n",
        "\n",
        "print(pmis_row.head(),'-'*30,sep='\\n')\n",
        "\n",
        "print(pcom_row.head())"
      ],
      "metadata": {
        "colab": {
          "base_uri": "https://localhost:8080/"
        },
        "id": "OTwwuzKVgioI",
        "outputId": "02d48f2d-7edf-4910-c765-e367e847978b"
      },
      "execution_count": 69,
      "outputs": [
        {
          "output_type": "stream",
          "name": "stdout",
          "text": [
            "0    1\n",
            "1    0\n",
            "2    1\n",
            "3    0\n",
            "4    1\n",
            "dtype: int64\n",
            "------------------------------\n",
            "0    0.066667\n",
            "1    0.000000\n",
            "2    0.066667\n",
            "3    0.000000\n",
            "4    0.066667\n",
            "dtype: float64\n",
            "------------------------------\n",
            "0    0.933333\n",
            "1    1.000000\n",
            "2    0.933333\n",
            "3    1.000000\n",
            "4    0.933333\n",
            "dtype: float64\n"
          ]
        }
      ]
    },
    {
      "cell_type": "code",
      "source": [
        "titanic['num_missing'] = titanic.apply(count_missing,axis=1)\n",
        "print(titanic.head())"
      ],
      "metadata": {
        "colab": {
          "base_uri": "https://localhost:8080/"
        },
        "id": "1DPy581yg4Rg",
        "outputId": "1b045719-cff4-4e02-8544-c2946d7f95b4"
      },
      "execution_count": 71,
      "outputs": [
        {
          "output_type": "stream",
          "name": "stdout",
          "text": [
            "   survived  pclass     sex   age  sibsp  parch     fare embarked  class  \\\n",
            "0         0       3    male  22.0      1      0   7.2500        S  Third   \n",
            "1         1       1  female  38.0      1      0  71.2833        C  First   \n",
            "2         1       3  female  26.0      0      0   7.9250        S  Third   \n",
            "3         1       1  female  35.0      1      0  53.1000        S  First   \n",
            "4         0       3    male  35.0      0      0   8.0500        S  Third   \n",
            "\n",
            "     who  adult_male deck  embark_town alive  alone  num_missing  \n",
            "0    man        True  NaN  Southampton    no  False            1  \n",
            "1  woman       False    C    Cherbourg   yes  False            0  \n",
            "2  woman       False  NaN  Southampton   yes   True            1  \n",
            "3  woman       False    C  Southampton   yes  False            0  \n",
            "4    man        True  NaN  Southampton    no   True            1  \n"
          ]
        }
      ]
    },
    {
      "cell_type": "code",
      "source": [
        "print(titanic.loc[titanic.num_missing>1,:].sample(10))"
      ],
      "metadata": {
        "colab": {
          "base_uri": "https://localhost:8080/"
        },
        "id": "X6hd5mjbhEu0",
        "outputId": "773b9402-7f3e-4cb0-c97c-898bd71ce95d"
      },
      "execution_count": 73,
      "outputs": [
        {
          "output_type": "stream",
          "name": "stdout",
          "text": [
            "     survived  pclass     sex  age  sibsp  parch     fare embarked  class  \\\n",
            "159         0       3    male  NaN      8      2  69.5500        S  Third   \n",
            "121         0       3    male  NaN      0      0   8.0500        S  Third   \n",
            "176         0       3    male  NaN      3      1  25.4667        S  Third   \n",
            "828         1       3    male  NaN      0      0   7.7500        Q  Third   \n",
            "531         0       3    male  NaN      0      0   7.2292        C  Third   \n",
            "868         0       3    male  NaN      0      0   9.5000        S  Third   \n",
            "497         0       3    male  NaN      0      0  15.1000        S  Third   \n",
            "240         0       3  female  NaN      1      0  14.4542        C  Third   \n",
            "825         0       3    male  NaN      0      0   6.9500        Q  Third   \n",
            "680         0       3  female  NaN      0      0   8.1375        Q  Third   \n",
            "\n",
            "       who  adult_male deck  embark_town alive  alone  num_missing  \n",
            "159    man        True  NaN  Southampton    no  False            2  \n",
            "121    man        True  NaN  Southampton    no   True            2  \n",
            "176    man        True  NaN  Southampton    no  False            2  \n",
            "828    man        True  NaN   Queenstown   yes   True            2  \n",
            "531    man        True  NaN    Cherbourg    no   True            2  \n",
            "868    man        True  NaN  Southampton    no   True            2  \n",
            "497    man        True  NaN  Southampton    no   True            2  \n",
            "240  woman       False  NaN    Cherbourg    no  False            2  \n",
            "825    man        True  NaN   Queenstown    no   True            2  \n",
            "680  woman       False  NaN   Queenstown    no   True            2  \n"
          ]
        }
      ]
    },
    {
      "cell_type": "markdown",
      "source": [
        "## 11-1 데이터 집계 \n",
        "\n",
        "그룹연산 : 데이터를 '분할'하고 '반영'하고 '결합'하는 과정을 거치게 되는데, '분할'은 어떤 기준으로 데이터를 나누는 것이고 '반영'은 함수 등을 적용하여 데이터를 처리하는 것, 그리고 '결합'은 처리한 결과를 다시 합치는 것이다.\n",
        "\n",
        "보통 이 과정을 하나로 묶어 '분할-반영-결합(Split-Apply-Combine)'이라고 함"
      ],
      "metadata": {
        "id": "t-NPu1CNhoQk"
      }
    },
    {
      "cell_type": "code",
      "source": [
        "# 라이브러리 등록 \n",
        "\n",
        "import pandas as pd\n",
        "\n",
        "from google.colab import drive # connect google drive\n",
        "drive.mount('/content/drive')\n",
        "\n",
        "# 데이터 불러오기\n",
        "\n",
        "df = pd.read_csv('/content/drive/MyDrive/My_GitHub/Python_ML/Doit_Pandas_dataset/gapminder.tsv', sep='\\t')"
      ],
      "metadata": {
        "colab": {
          "base_uri": "https://localhost:8080/"
        },
        "id": "YcEv8hKnhYSv",
        "outputId": "9c18cb1a-20b1-404d-9b51-7cbefa04d32c"
      },
      "execution_count": 75,
      "outputs": [
        {
          "output_type": "stream",
          "name": "stdout",
          "text": [
            "Mounted at /content/drive\n"
          ]
        }
      ]
    },
    {
      "cell_type": "code",
      "source": [
        "avg_life_exp_by_year = df.groupby('year').lifeExp.mean()\n",
        "print(avg_life_exp_by_year)"
      ],
      "metadata": {
        "colab": {
          "base_uri": "https://localhost:8080/"
        },
        "id": "FbZ2VvobiUYU",
        "outputId": "2400f3f2-232e-4954-b9bc-9730b6c34c71"
      },
      "execution_count": 76,
      "outputs": [
        {
          "output_type": "stream",
          "name": "stdout",
          "text": [
            "year\n",
            "1952    49.057620\n",
            "1957    51.507401\n",
            "1962    53.609249\n",
            "1967    55.678290\n",
            "1972    57.647386\n",
            "1977    59.570157\n",
            "1982    61.533197\n",
            "1987    63.212613\n",
            "1992    64.160338\n",
            "1997    65.014676\n",
            "2002    65.694923\n",
            "2007    67.007423\n",
            "Name: lifeExp, dtype: float64\n"
          ]
        }
      ]
    },
    {
      "cell_type": "code",
      "source": [
        "years = df.year.unique()\n",
        "print(years)"
      ],
      "metadata": {
        "colab": {
          "base_uri": "https://localhost:8080/"
        },
        "id": "vwyXS4m8iokx",
        "outputId": "79be7183-9d45-4a2f-af5d-106065cf449d"
      },
      "execution_count": 77,
      "outputs": [
        {
          "output_type": "stream",
          "name": "stdout",
          "text": [
            "[1952 1957 1962 1967 1972 1977 1982 1987 1992 1997 2002 2007]\n"
          ]
        }
      ]
    },
    {
      "cell_type": "code",
      "source": [
        "y1952 = df.loc[df.year==1952, :]\n",
        "print(y1952.head())"
      ],
      "metadata": {
        "colab": {
          "base_uri": "https://localhost:8080/"
        },
        "id": "ECQxYCRYiwpm",
        "outputId": "62e393bb-6ded-484e-87e8-803d06e619a3"
      },
      "execution_count": 78,
      "outputs": [
        {
          "output_type": "stream",
          "name": "stdout",
          "text": [
            "        country continent  year  lifeExp       pop    gdpPercap\n",
            "0   Afghanistan      Asia  1952   28.801   8425333   779.445314\n",
            "12      Albania    Europe  1952   55.230   1282697  1601.056136\n",
            "24      Algeria    Africa  1952   43.077   9279525  2449.008185\n",
            "36       Angola    Africa  1952   30.015   4232095  3520.610273\n",
            "48    Argentina  Americas  1952   62.485  17876956  5911.315053\n"
          ]
        }
      ]
    },
    {
      "cell_type": "code",
      "source": [
        "y1952_mean = y1952.lifeExp.mean()\n",
        "print(y1952_mean)"
      ],
      "metadata": {
        "colab": {
          "base_uri": "https://localhost:8080/"
        },
        "id": "YYLIej94i462",
        "outputId": "b0434314-b447-4922-8c7a-8cafaf13b197"
      },
      "execution_count": 79,
      "outputs": [
        {
          "output_type": "stream",
          "name": "stdout",
          "text": [
            "49.057619718309866\n"
          ]
        }
      ]
    },
    {
      "cell_type": "code",
      "source": [
        "y1957 = df.loc[df.year == 1957,:]\n",
        "y_1957_mean = y1957.lifeExp.mean()\n",
        "print(y_1957_mean)"
      ],
      "metadata": {
        "colab": {
          "base_uri": "https://localhost:8080/"
        },
        "id": "Pjb8J1QXi_hi",
        "outputId": "941c4dbe-86b7-421c-a1c9-98c128890555"
      },
      "execution_count": 80,
      "outputs": [
        {
          "output_type": "stream",
          "name": "stdout",
          "text": [
            "51.50740112676056\n"
          ]
        }
      ]
    },
    {
      "cell_type": "code",
      "source": [
        "df2 = pd.DataFrame({\"year\":[1952,1957],\"\":[y1952_mean,y_1957_mean]})\n",
        "print(df2)"
      ],
      "metadata": {
        "colab": {
          "base_uri": "https://localhost:8080/"
        },
        "id": "hAowgmAHjQTd",
        "outputId": "8f0ab4f4-cc4e-4ce7-f337-7500025bf462"
      },
      "execution_count": 85,
      "outputs": [
        {
          "output_type": "stream",
          "name": "stdout",
          "text": [
            "   year           \n",
            "0  1952  49.057620\n",
            "1  1957  51.507401\n"
          ]
        }
      ]
    },
    {
      "cell_type": "markdown",
      "source": [
        "### 집계 메서드\n",
        "\n",
        "사용자 정의 함수와 사용하려면 agg 메서드 필요\n",
        "\n",
        "\n",
        "      메서드                        설명\n",
        "      count                    누락값을 제외한 데이터 수를 반환\n",
        "      size                     누락값을 포함한 데이터 수를 반환\n",
        "      mean                     평균값 반환\n",
        "      std                      표준편차 반환 \n",
        "      min                      최솟값 반환\n",
        "      quantile(q=0.25)         백분위수 25% \n",
        "      quantile(q=0.50)         백분위수 50%\n",
        "      quantile(q=0.75)         백분위수 75%\n",
        "      max                      최댓값 반환\n",
        "      sum                      전체 합 반환\n",
        "      var                      분산 반환\n",
        "      sem                      평균의 표준편차 반환\n",
        "      describe                 데이터 수, 평균, 표준편차, 최솟값, 백분위수(25,50,70%), 최댓값을 모두 반환\n",
        "      first                    첫 번째 행 반환\n",
        "      last                     마지막 행 반환\n",
        "      nth                      n 번째 행 반환"
      ],
      "metadata": {
        "id": "s-y00P8-jrVl"
      }
    },
    {
      "cell_type": "code",
      "source": [
        "def my_mean(values):\n",
        "    n = len(values)\n",
        "    sum = 0\n",
        "    for value in values:\n",
        "        sum += value\n",
        "    return sum/ n"
      ],
      "metadata": {
        "id": "SAYuOTKGjd06"
      },
      "execution_count": 86,
      "outputs": []
    },
    {
      "cell_type": "code",
      "source": [
        "agg_my_mean = df.groupby('year').lifeExp.agg(my_mean) \n",
        "print(agg_my_mean)"
      ],
      "metadata": {
        "colab": {
          "base_uri": "https://localhost:8080/"
        },
        "id": "X6nPX1IWkxng",
        "outputId": "598f6925-2ed7-4b8a-8697-43bed285f09c"
      },
      "execution_count": 87,
      "outputs": [
        {
          "output_type": "stream",
          "name": "stdout",
          "text": [
            "year\n",
            "1952    49.057620\n",
            "1957    51.507401\n",
            "1962    53.609249\n",
            "1967    55.678290\n",
            "1972    57.647386\n",
            "1977    59.570157\n",
            "1982    61.533197\n",
            "1987    63.212613\n",
            "1992    64.160338\n",
            "1997    65.014676\n",
            "2002    65.694923\n",
            "2007    67.007423\n",
            "Name: lifeExp, dtype: float64\n"
          ]
        }
      ]
    },
    {
      "cell_type": "code",
      "source": [
        "def my_mean_diff(values, diff_value):\n",
        "    n = len(values)\n",
        "    sum = 0\n",
        "    for value in values:\n",
        "        sum += value\n",
        "    mean = sum / n\n",
        "    return mean - diff_value"
      ],
      "metadata": {
        "id": "Lm6S42jEk8Yq"
      },
      "execution_count": 88,
      "outputs": []
    },
    {
      "cell_type": "code",
      "source": [
        "global_mean = df.lifeExp.mean()\n",
        "print(global_mean)"
      ],
      "metadata": {
        "colab": {
          "base_uri": "https://localhost:8080/"
        },
        "id": "wpviS6YJlSpp",
        "outputId": "41697a46-eb36-40a1-bdbe-84c184b5c94c"
      },
      "execution_count": 89,
      "outputs": [
        {
          "output_type": "stream",
          "name": "stdout",
          "text": [
            "59.474439366197174\n"
          ]
        }
      ]
    },
    {
      "cell_type": "code",
      "source": [
        "agg_mean_diff = df.groupby('year').lifeExp.agg(my_mean_diff, diff_value = global_mean)\n",
        "print(agg_mean_diff)"
      ],
      "metadata": {
        "colab": {
          "base_uri": "https://localhost:8080/"
        },
        "id": "VDYiag3RlX0z",
        "outputId": "c955e198-a652-49c4-9cd0-5690a187d78d"
      },
      "execution_count": 90,
      "outputs": [
        {
          "output_type": "stream",
          "name": "stdout",
          "text": [
            "year\n",
            "1952   -10.416820\n",
            "1957    -7.967038\n",
            "1962    -5.865190\n",
            "1967    -3.796150\n",
            "1972    -1.827053\n",
            "1977     0.095718\n",
            "1982     2.058758\n",
            "1987     3.738173\n",
            "1992     4.685899\n",
            "1997     5.540237\n",
            "2002     6.220483\n",
            "2007     7.532983\n",
            "Name: lifeExp, dtype: float64\n"
          ]
        }
      ]
    },
    {
      "cell_type": "markdown",
      "source": [
        "### 여러 개의 집계 메서드 한 번에 사용\n",
        "\n",
        "딕셔너리의 키로 집계 메서드를 적용할 열 이름을 전달하고 딕셔너리의 값으로 집계 메서드를 전달"
      ],
      "metadata": {
        "id": "3GnVkr24lqW_"
      }
    },
    {
      "cell_type": "code",
      "source": [
        "import numpy as np\n",
        "gdf = df.groupby('year').lifeExp.agg([np.count_nonzero,np.mean,np.std])\n",
        "print(gdf)"
      ],
      "metadata": {
        "colab": {
          "base_uri": "https://localhost:8080/"
        },
        "id": "vQw9lRtCljd4",
        "outputId": "0f11813c-8d83-427a-85fb-c0a12cc929da"
      },
      "execution_count": 91,
      "outputs": [
        {
          "output_type": "stream",
          "name": "stdout",
          "text": [
            "      count_nonzero       mean        std\n",
            "year                                     \n",
            "1952            142  49.057620  12.225956\n",
            "1957            142  51.507401  12.231286\n",
            "1962            142  53.609249  12.097245\n",
            "1967            142  55.678290  11.718858\n",
            "1972            142  57.647386  11.381953\n",
            "1977            142  59.570157  11.227229\n",
            "1982            142  61.533197  10.770618\n",
            "1987            142  63.212613  10.556285\n",
            "1992            142  64.160338  11.227380\n",
            "1997            142  65.014676  11.559439\n",
            "2002            142  65.694923  12.279823\n",
            "2007            142  67.007423  12.073021\n"
          ]
        }
      ]
    },
    {
      "cell_type": "code",
      "source": [
        "gdp_dict = df.groupby('year').agg({'lifeExp':'mean','pop':'median','gdpPercap': 'median'})\n",
        "print(gdp_dict)"
      ],
      "metadata": {
        "colab": {
          "base_uri": "https://localhost:8080/"
        },
        "id": "CsK8-pvHl3PI",
        "outputId": "c5d53ebe-0143-4636-9ae0-7276408ab075"
      },
      "execution_count": 93,
      "outputs": [
        {
          "output_type": "stream",
          "name": "stdout",
          "text": [
            "        lifeExp         pop    gdpPercap\n",
            "year                                    \n",
            "1952  49.057620   3943953.0  1968.528344\n",
            "1957  51.507401   4282942.0  2173.220291\n",
            "1962  53.609249   4686039.5  2335.439533\n",
            "1967  55.678290   5170175.5  2678.334740\n",
            "1972  57.647386   5877996.5  3339.129407\n",
            "1977  59.570157   6404036.5  3798.609244\n",
            "1982  61.533197   7007320.0  4216.228428\n",
            "1987  63.212613   7774861.5  4280.300366\n",
            "1992  64.160338   8688686.5  4386.085502\n",
            "1997  65.014676   9735063.5  4781.825478\n",
            "2002  65.694923  10372918.5  5319.804524\n",
            "2007  67.007423  10517531.0  6124.371108\n"
          ]
        }
      ]
    },
    {
      "cell_type": "markdown",
      "source": [
        "## 11-2 데이터 변환\n",
        "\n",
        "데이버 변환 메서드 : 데이터와 메서드를 일대일로 대응시켜 계산하기 때문에 데이터의 양이 줄어들지 않음"
      ],
      "metadata": {
        "id": "xB8EouO1nFee"
      }
    },
    {
      "cell_type": "code",
      "source": [
        "def my_zscore(x):\n",
        "    return (x-x.mean())/ x.std()"
      ],
      "metadata": {
        "id": "sob-K47Cm7FI"
      },
      "execution_count": 94,
      "outputs": []
    },
    {
      "cell_type": "code",
      "source": [
        "transform_z = df.groupby('year').lifeExp.transform(my_zscore)\n",
        "print(transform_z)"
      ],
      "metadata": {
        "colab": {
          "base_uri": "https://localhost:8080/"
        },
        "id": "EHvIzvwxnW_8",
        "outputId": "959b953f-2c88-4ccf-8e25-2d748060b785"
      },
      "execution_count": 95,
      "outputs": [
        {
          "output_type": "stream",
          "name": "stdout",
          "text": [
            "0      -1.656854\n",
            "1      -1.731249\n",
            "2      -1.786543\n",
            "3      -1.848157\n",
            "4      -1.894173\n",
            "          ...   \n",
            "1699   -0.081621\n",
            "1700   -0.336974\n",
            "1701   -1.574962\n",
            "1702   -2.093346\n",
            "1703   -1.948180\n",
            "Name: lifeExp, Length: 1704, dtype: float64\n"
          ]
        }
      ]
    },
    {
      "cell_type": "code",
      "source": [
        "print(df.shape)\n",
        "print(transform_z.shape)"
      ],
      "metadata": {
        "colab": {
          "base_uri": "https://localhost:8080/"
        },
        "id": "JiLao2b6nfQQ",
        "outputId": "50859011-8e49-4cd7-f908-44f83eb087f3"
      },
      "execution_count": 96,
      "outputs": [
        {
          "output_type": "stream",
          "name": "stdout",
          "text": [
            "(1704, 6)\n",
            "(1704,)\n"
          ]
        }
      ]
    },
    {
      "cell_type": "markdown",
      "source": [
        "### 누락값 평균값으로 처리"
      ],
      "metadata": {
        "id": "jhYssCKmnpS7"
      }
    },
    {
      "cell_type": "code",
      "source": [
        "import seaborn as sns\n",
        "import numpy as np\n",
        "\n",
        "np.random.seed(42)\n",
        "tips_10 = sns.load_dataset('tips').sample(10)\n",
        "tips_10.loc[np.random.permutation(tips_10.index)[:4], 'total_bill'] = np.NaN\n",
        "print(tips_10)"
      ],
      "metadata": {
        "colab": {
          "base_uri": "https://localhost:8080/"
        },
        "id": "N5ma5V28nmTl",
        "outputId": "f25b0dd3-bf5a-4a2f-8441-eea849acc31b"
      },
      "execution_count": 97,
      "outputs": [
        {
          "output_type": "stream",
          "name": "stdout",
          "text": [
            "     total_bill   tip     sex smoker   day    time  size\n",
            "24        19.82  3.18    Male     No   Sat  Dinner     2\n",
            "6          8.77  2.00    Male     No   Sun  Dinner     2\n",
            "153         NaN  2.00    Male     No   Sun  Dinner     4\n",
            "211         NaN  5.16    Male    Yes   Sat  Dinner     4\n",
            "198         NaN  2.00  Female    Yes  Thur   Lunch     2\n",
            "176         NaN  2.00    Male    Yes   Sun  Dinner     2\n",
            "192       28.44  2.56    Male    Yes  Thur   Lunch     2\n",
            "124       12.48  2.52  Female     No  Thur   Lunch     2\n",
            "9         14.78  3.23    Male     No   Sun  Dinner     2\n",
            "101       15.38  3.00  Female    Yes   Fri  Dinner     2\n"
          ]
        }
      ]
    },
    {
      "cell_type": "code",
      "source": [
        "# 현재 tips_10은 남성이 여성보다 많기 때문에 성별을 구분하여 평균값을 구해야함\n",
        "\n",
        "count_sex = tips_10.groupby('sex').count()\n",
        "print(count_sex)"
      ],
      "metadata": {
        "colab": {
          "base_uri": "https://localhost:8080/"
        },
        "id": "7BTX5MvuoVTO",
        "outputId": "145559e3-a9a6-44ef-fca1-231da9677c5f"
      },
      "execution_count": 99,
      "outputs": [
        {
          "output_type": "stream",
          "name": "stdout",
          "text": [
            "        total_bill  tip  smoker  day  time  size\n",
            "sex                                             \n",
            "Male             4    7       7    7     7     7\n",
            "Female           2    3       3    3     3     3\n"
          ]
        }
      ]
    },
    {
      "cell_type": "code",
      "source": [
        "def fill_na_mean(x):\n",
        "    avg = x.mean()\n",
        "    return x.fillna(avg)"
      ],
      "metadata": {
        "id": "8TxM-Sa0o3Ig"
      },
      "execution_count": 100,
      "outputs": []
    },
    {
      "cell_type": "code",
      "source": [
        "total_bill_group_mean = tips_10.groupby('sex').total_bill.transform(fill_na_mean)\n",
        "tips_10['fill_total_bill'] = total_bill_group_mean\n",
        "print(tips_10)"
      ],
      "metadata": {
        "colab": {
          "base_uri": "https://localhost:8080/"
        },
        "id": "u-n3eGvepESN",
        "outputId": "07163796-adb1-4716-e0d4-5959bd784eab"
      },
      "execution_count": 101,
      "outputs": [
        {
          "output_type": "stream",
          "name": "stdout",
          "text": [
            "     total_bill   tip     sex smoker   day    time  size  fill_total_bill\n",
            "24        19.82  3.18    Male     No   Sat  Dinner     2          19.8200\n",
            "6          8.77  2.00    Male     No   Sun  Dinner     2           8.7700\n",
            "153         NaN  2.00    Male     No   Sun  Dinner     4          17.9525\n",
            "211         NaN  5.16    Male    Yes   Sat  Dinner     4          17.9525\n",
            "198         NaN  2.00  Female    Yes  Thur   Lunch     2          13.9300\n",
            "176         NaN  2.00    Male    Yes   Sun  Dinner     2          17.9525\n",
            "192       28.44  2.56    Male    Yes  Thur   Lunch     2          28.4400\n",
            "124       12.48  2.52  Female     No  Thur   Lunch     2          12.4800\n",
            "9         14.78  3.23    Male     No   Sun  Dinner     2          14.7800\n",
            "101       15.38  3.00  Female    Yes   Fri  Dinner     2          15.3800\n"
          ]
        }
      ]
    },
    {
      "cell_type": "markdown",
      "source": [
        "## 11-3 데이터 필터링\n",
        "\n",
        "그룹화한 데이터에서 원하는 데이터를 걸러내고 싶을 때 데이터 필터링을 사용하면 됨"
      ],
      "metadata": {
        "id": "Y19UtVkopXGx"
      }
    },
    {
      "cell_type": "markdown",
      "source": [
        "### filter 메서드"
      ],
      "metadata": {
        "id": "0beoG8XWpgQs"
      }
    },
    {
      "cell_type": "code",
      "source": [
        "tips = sns.load_dataset('tips')\n",
        "print(tips.shape)"
      ],
      "metadata": {
        "colab": {
          "base_uri": "https://localhost:8080/"
        },
        "id": "2NL4R2cYpUk5",
        "outputId": "bd849870-3729-4e5f-bce8-1fe50c1a41a7"
      },
      "execution_count": 102,
      "outputs": [
        {
          "output_type": "stream",
          "name": "stdout",
          "text": [
            "(244, 7)\n"
          ]
        }
      ]
    },
    {
      "cell_type": "code",
      "source": [
        "print(tips['size'].value_counts())"
      ],
      "metadata": {
        "colab": {
          "base_uri": "https://localhost:8080/"
        },
        "id": "BmSZB-xOpk_T",
        "outputId": "b3b4ac5d-f470-41ad-8c2f-18e7b5ad8b69"
      },
      "execution_count": 103,
      "outputs": [
        {
          "output_type": "stream",
          "name": "stdout",
          "text": [
            "2    156\n",
            "3     38\n",
            "4     37\n",
            "5      5\n",
            "1      4\n",
            "6      4\n",
            "Name: size, dtype: int64\n"
          ]
        }
      ]
    },
    {
      "cell_type": "code",
      "source": [
        "tips_filterd = tips.\\\n",
        "              groupby('size').\\\n",
        "              filter(lambda x:x['size'].count() >= 30)  # lambda 매개변수 : 표현식 "
      ],
      "metadata": {
        "id": "WTnAMv9ipqGn"
      },
      "execution_count": 105,
      "outputs": []
    },
    {
      "cell_type": "code",
      "source": [
        "print(tips_filterd.shape)"
      ],
      "metadata": {
        "colab": {
          "base_uri": "https://localhost:8080/"
        },
        "id": "TtB_nmBNp7dy",
        "outputId": "a4187a35-8614-477f-cb2d-16ec2de57689"
      },
      "execution_count": 107,
      "outputs": [
        {
          "output_type": "stream",
          "name": "stdout",
          "text": [
            "(231, 7)\n"
          ]
        }
      ]
    },
    {
      "cell_type": "code",
      "source": [
        "print(tips_filterd['size'].value_counts())"
      ],
      "metadata": {
        "colab": {
          "base_uri": "https://localhost:8080/"
        },
        "id": "evlai9kgqHlp",
        "outputId": "d89d582d-5faa-44b0-ba57-bbdfc6e98bae"
      },
      "execution_count": 108,
      "outputs": [
        {
          "output_type": "stream",
          "name": "stdout",
          "text": [
            "2    156\n",
            "3     38\n",
            "4     37\n",
            "Name: size, dtype: int64\n"
          ]
        }
      ]
    },
    {
      "cell_type": "markdown",
      "source": [
        "## 11-4 그룹 오브젝트\n",
        "\n",
        "groupby 메서드가 반환하는 값인 그룹 오브젝트"
      ],
      "metadata": {
        "id": "GEv9g7eGqRYr"
      }
    },
    {
      "cell_type": "code",
      "source": [
        "tips_10 = sns.load_dataset('tips').sample(10, random_state=42)\n",
        "print(tips_10)"
      ],
      "metadata": {
        "colab": {
          "base_uri": "https://localhost:8080/"
        },
        "id": "z8Tv_CP4qNcU",
        "outputId": "e3deaa0a-01b2-40e3-e8a4-7184984d0c77"
      },
      "execution_count": 109,
      "outputs": [
        {
          "output_type": "stream",
          "name": "stdout",
          "text": [
            "     total_bill   tip     sex smoker   day    time  size\n",
            "24        19.82  3.18    Male     No   Sat  Dinner     2\n",
            "6          8.77  2.00    Male     No   Sun  Dinner     2\n",
            "153       24.55  2.00    Male     No   Sun  Dinner     4\n",
            "211       25.89  5.16    Male    Yes   Sat  Dinner     4\n",
            "198       13.00  2.00  Female    Yes  Thur   Lunch     2\n",
            "176       17.89  2.00    Male    Yes   Sun  Dinner     2\n",
            "192       28.44  2.56    Male    Yes  Thur   Lunch     2\n",
            "124       12.48  2.52  Female     No  Thur   Lunch     2\n",
            "9         14.78  3.23    Male     No   Sun  Dinner     2\n",
            "101       15.38  3.00  Female    Yes   Fri  Dinner     2\n"
          ]
        }
      ]
    },
    {
      "cell_type": "code",
      "source": [
        "grouped = tips_10.groupby('sex')\n",
        "print(grouped)"
      ],
      "metadata": {
        "colab": {
          "base_uri": "https://localhost:8080/"
        },
        "id": "mx5ebQeS0gyx",
        "outputId": "2e5a2c8d-1e6e-450b-e379-88c4e9de927b"
      },
      "execution_count": 110,
      "outputs": [
        {
          "output_type": "stream",
          "name": "stdout",
          "text": [
            "<pandas.core.groupby.generic.DataFrameGroupBy object at 0x7fedb10095e0>\n"
          ]
        }
      ]
    },
    {
      "cell_type": "markdown",
      "source": [
        "### groups 속성"
      ],
      "metadata": {
        "id": "wqPFDGSn1GiX"
      }
    },
    {
      "cell_type": "code",
      "source": [
        "print(grouped.groups)"
      ],
      "metadata": {
        "colab": {
          "base_uri": "https://localhost:8080/"
        },
        "id": "-nZEViC60otx",
        "outputId": "93a24bcb-7818-45ee-b9ec-d393faa2b6b6"
      },
      "execution_count": 112,
      "outputs": [
        {
          "output_type": "stream",
          "name": "stdout",
          "text": [
            "{'Male': [24, 6, 153, 211, 176, 192, 9], 'Female': [198, 124, 101]}\n"
          ]
        }
      ]
    },
    {
      "cell_type": "code",
      "source": [
        "avgs = grouped.mean()\n",
        "print(avgs)"
      ],
      "metadata": {
        "colab": {
          "base_uri": "https://localhost:8080/"
        },
        "id": "CPsUqk2m0s4o",
        "outputId": "75a0e02a-cae2-4750-9c3f-d0d11d68cbba"
      },
      "execution_count": 113,
      "outputs": [
        {
          "output_type": "stream",
          "name": "stdout",
          "text": [
            "        total_bill       tip      size\n",
            "sex                                   \n",
            "Male         20.02  2.875714  2.571429\n",
            "Female       13.62  2.506667  2.000000\n"
          ]
        }
      ]
    },
    {
      "cell_type": "code",
      "source": [
        "print(tips_10.columns)"
      ],
      "metadata": {
        "colab": {
          "base_uri": "https://localhost:8080/"
        },
        "id": "BnnE7bjg03mc",
        "outputId": "777208aa-03b8-4c7f-dc0a-871fe3cb5acc"
      },
      "execution_count": 114,
      "outputs": [
        {
          "output_type": "stream",
          "name": "stdout",
          "text": [
            "Index(['total_bill', 'tip', 'sex', 'smoker', 'day', 'time', 'size'], dtype='object')\n"
          ]
        }
      ]
    },
    {
      "cell_type": "markdown",
      "source": [
        "### get_group 메서드"
      ],
      "metadata": {
        "id": "LmNIxjH_1BhS"
      }
    },
    {
      "cell_type": "code",
      "source": [
        "female = grouped.get_group('Female')\n",
        "print(female)"
      ],
      "metadata": {
        "colab": {
          "base_uri": "https://localhost:8080/"
        },
        "id": "46ZpEIAq09nx",
        "outputId": "68d77cac-5092-4069-80ab-28abaf590d3c"
      },
      "execution_count": 115,
      "outputs": [
        {
          "output_type": "stream",
          "name": "stdout",
          "text": [
            "     total_bill   tip     sex smoker   day    time  size\n",
            "198       13.00  2.00  Female    Yes  Thur   Lunch     2\n",
            "124       12.48  2.52  Female     No  Thur   Lunch     2\n",
            "101       15.38  3.00  Female    Yes   Fri  Dinner     2\n"
          ]
        }
      ]
    },
    {
      "cell_type": "code",
      "source": [
        "for sex_group in grouped:\n",
        "    print(sex_group)"
      ],
      "metadata": {
        "colab": {
          "base_uri": "https://localhost:8080/"
        },
        "id": "K4k26HI31PjG",
        "outputId": "6e1fd718-4709-474e-ce0d-46f7d0bad854"
      },
      "execution_count": 116,
      "outputs": [
        {
          "output_type": "stream",
          "name": "stdout",
          "text": [
            "('Male',      total_bill   tip   sex smoker   day    time  size\n",
            "24        19.82  3.18  Male     No   Sat  Dinner     2\n",
            "6          8.77  2.00  Male     No   Sun  Dinner     2\n",
            "153       24.55  2.00  Male     No   Sun  Dinner     4\n",
            "211       25.89  5.16  Male    Yes   Sat  Dinner     4\n",
            "176       17.89  2.00  Male    Yes   Sun  Dinner     2\n",
            "192       28.44  2.56  Male    Yes  Thur   Lunch     2\n",
            "9         14.78  3.23  Male     No   Sun  Dinner     2)\n",
            "('Female',      total_bill   tip     sex smoker   day    time  size\n",
            "198       13.00  2.00  Female    Yes  Thur   Lunch     2\n",
            "124       12.48  2.52  Female     No  Thur   Lunch     2\n",
            "101       15.38  3.00  Female    Yes   Fri  Dinner     2)\n"
          ]
        }
      ]
    },
    {
      "cell_type": "code",
      "source": [
        "for sex_group in grouped :\n",
        "    print('the type is : {}\\n'.format(type(sex_group)))\n",
        "    print('the length is : {}\\n'.format(len(sex_group)))\n",
        "\n",
        "    first_element = sex_group[0]\n",
        "\n",
        "    print('the first element is : {}\\n'.format(first_element))\n",
        "    print('it has a type of : {}\\n'.format(type(sex_group[0])))\n",
        "\n",
        "    second_element = sex_group[1]\n",
        "    print('the second element is : \\n{}\\n'.format(second_element))\n",
        "    print('it has a type of : {}\\n'.format(type(second_element)))\n",
        "\n",
        "    print('what we have')\n",
        "    print(sex_group)\n",
        "\n",
        "    break"
      ],
      "metadata": {
        "colab": {
          "base_uri": "https://localhost:8080/"
        },
        "id": "U0mV41oj1cVU",
        "outputId": "1e099c84-bad8-4a88-8c27-f8ac6a8c8a2f"
      },
      "execution_count": 117,
      "outputs": [
        {
          "output_type": "stream",
          "name": "stdout",
          "text": [
            "the type is : <class 'tuple'>\n",
            "\n",
            "the length is : 2\n",
            "\n",
            "the first element is : Male\n",
            "\n",
            "it has a type of : <class 'str'>\n",
            "\n",
            "the second element is : \n",
            "     total_bill   tip   sex smoker   day    time  size\n",
            "24        19.82  3.18  Male     No   Sat  Dinner     2\n",
            "6          8.77  2.00  Male     No   Sun  Dinner     2\n",
            "153       24.55  2.00  Male     No   Sun  Dinner     4\n",
            "211       25.89  5.16  Male    Yes   Sat  Dinner     4\n",
            "176       17.89  2.00  Male    Yes   Sun  Dinner     2\n",
            "192       28.44  2.56  Male    Yes  Thur   Lunch     2\n",
            "9         14.78  3.23  Male     No   Sun  Dinner     2\n",
            "\n",
            "it has a type of : <class 'pandas.core.frame.DataFrame'>\n",
            "\n",
            "what we have\n",
            "('Male',      total_bill   tip   sex smoker   day    time  size\n",
            "24        19.82  3.18  Male     No   Sat  Dinner     2\n",
            "6          8.77  2.00  Male     No   Sun  Dinner     2\n",
            "153       24.55  2.00  Male     No   Sun  Dinner     4\n",
            "211       25.89  5.16  Male    Yes   Sat  Dinner     4\n",
            "176       17.89  2.00  Male    Yes   Sun  Dinner     2\n",
            "192       28.44  2.56  Male    Yes  Thur   Lunch     2\n",
            "9         14.78  3.23  Male     No   Sun  Dinner     2)\n"
          ]
        }
      ]
    },
    {
      "cell_type": "code",
      "source": [
        "bill_sex_time = tips_10.groupby(['sex','time'])\n",
        "group_avg = bill_sex_time.mean()\n",
        "\n",
        "print(group_avg)"
      ],
      "metadata": {
        "colab": {
          "base_uri": "https://localhost:8080/"
        },
        "id": "8r3XdO0U2hXM",
        "outputId": "1f7c6013-4798-461e-ee13-1a6ce0243d55"
      },
      "execution_count": 118,
      "outputs": [
        {
          "output_type": "stream",
          "name": "stdout",
          "text": [
            "               total_bill       tip      size\n",
            "sex    time                                  \n",
            "Male   Lunch    28.440000  2.560000  2.000000\n",
            "       Dinner   18.616667  2.928333  2.666667\n",
            "Female Lunch    12.740000  2.260000  2.000000\n",
            "       Dinner   15.380000  3.000000  2.000000\n"
          ]
        }
      ]
    },
    {
      "cell_type": "code",
      "source": [
        "print(type(group_avg))\n",
        "\n",
        "print(group_avg.columns)"
      ],
      "metadata": {
        "colab": {
          "base_uri": "https://localhost:8080/"
        },
        "id": "GGVTwEx422fK",
        "outputId": "3a22cbb8-d2a7-40a8-c7d4-4c3e8dfdc35f"
      },
      "execution_count": 119,
      "outputs": [
        {
          "output_type": "stream",
          "name": "stdout",
          "text": [
            "<class 'pandas.core.frame.DataFrame'>\n",
            "Index(['total_bill', 'tip', 'size'], dtype='object')\n"
          ]
        }
      ]
    },
    {
      "cell_type": "code",
      "source": [
        "print(group_avg.index)"
      ],
      "metadata": {
        "colab": {
          "base_uri": "https://localhost:8080/"
        },
        "id": "4Qxz_PnD29r9",
        "outputId": "f20bda2e-6d37-4ba7-e96a-d9b156ae8ff5"
      },
      "execution_count": 120,
      "outputs": [
        {
          "output_type": "stream",
          "name": "stdout",
          "text": [
            "MultiIndex([(  'Male',  'Lunch'),\n",
            "            (  'Male', 'Dinner'),\n",
            "            ('Female',  'Lunch'),\n",
            "            ('Female', 'Dinner')],\n",
            "           names=['sex', 'time'])\n"
          ]
        }
      ]
    },
    {
      "cell_type": "code",
      "source": [
        "group_method = tips_10.groupby(['sex','time']).mean().reset_index()\n",
        "print(group_method)"
      ],
      "metadata": {
        "colab": {
          "base_uri": "https://localhost:8080/"
        },
        "id": "ZxSAnisx3Fe-",
        "outputId": "44fe47ac-4732-4dd9-975a-361b5095f9d8"
      },
      "execution_count": 121,
      "outputs": [
        {
          "output_type": "stream",
          "name": "stdout",
          "text": [
            "      sex    time  total_bill       tip      size\n",
            "0    Male   Lunch   28.440000  2.560000  2.000000\n",
            "1    Male  Dinner   18.616667  2.928333  2.666667\n",
            "2  Female   Lunch   12.740000  2.260000  2.000000\n",
            "3  Female  Dinner   15.380000  3.000000  2.000000\n"
          ]
        }
      ]
    },
    {
      "cell_type": "code",
      "source": [
        "group_param = tips_10.groupby(['sex','time'], as_index=False).mean()\n",
        "print(group_param)"
      ],
      "metadata": {
        "colab": {
          "base_uri": "https://localhost:8080/"
        },
        "id": "vFYjj9T83R-G",
        "outputId": "1029b586-5a6a-4e6f-cedf-210e61d3e8a5"
      },
      "execution_count": 122,
      "outputs": [
        {
          "output_type": "stream",
          "name": "stdout",
          "text": [
            "      sex    time  total_bill       tip      size\n",
            "0    Male   Lunch   28.440000  2.560000  2.000000\n",
            "1    Male  Dinner   18.616667  2.928333  2.666667\n",
            "2  Female   Lunch   12.740000  2.260000  2.000000\n",
            "3  Female  Dinner   15.380000  3.000000  2.000000\n"
          ]
        }
      ]
    },
    {
      "cell_type": "markdown",
      "source": [
        "## 12-1 datetime 오브젝트\n",
        "\n",
        "datetime 라이브러리 : 날짜와 시간을 처리하는 등의 다양한 기능을 제공하는 파이썬 라이브러리\n",
        "\n",
        "        date 오브젝트,  time 오브젝트,  datetime 오브젝트\n",
        "          날짜 처리       시간 처리      날짜와 시간 처리"
      ],
      "metadata": {
        "id": "vE1N36Yf3imW"
      }
    },
    {
      "cell_type": "code",
      "source": [
        "from datetime import datetime"
      ],
      "metadata": {
        "id": "Dr-oVWYh3f47"
      },
      "execution_count": 123,
      "outputs": []
    },
    {
      "cell_type": "code",
      "source": [
        "now1 = datetime.now()\n",
        "print(now1)\n",
        "\n",
        "now2 = datetime.today()\n",
        "print(now2)"
      ],
      "metadata": {
        "colab": {
          "base_uri": "https://localhost:8080/"
        },
        "id": "UTVXVZBh4Cwv",
        "outputId": "4349a2b7-1afc-4777-c962-835266da30ab"
      },
      "execution_count": 124,
      "outputs": [
        {
          "output_type": "stream",
          "name": "stdout",
          "text": [
            "2023-03-02 15:11:14.855836\n",
            "2023-03-02 15:11:14.856955\n"
          ]
        }
      ]
    },
    {
      "cell_type": "code",
      "source": [
        "t1 = datetime.now()\n",
        "t2 = datetime(1970, 1, 1)\n",
        "t3 = datetime(1970, 12, 12, 13, 24, 34)\n",
        "\n",
        "print(t1)\n",
        "print(t2)\n",
        "print(t3)"
      ],
      "metadata": {
        "colab": {
          "base_uri": "https://localhost:8080/"
        },
        "id": "nieOqTdM4Jtg",
        "outputId": "361a119b-f3f7-4f56-d473-4c96e2fbf9a9"
      },
      "execution_count": 125,
      "outputs": [
        {
          "output_type": "stream",
          "name": "stdout",
          "text": [
            "2023-03-02 15:12:30.964382\n",
            "1970-01-01 00:00:00\n",
            "1970-12-12 13:24:34\n"
          ]
        }
      ]
    },
    {
      "cell_type": "code",
      "source": [
        "diff = t1-t2\n",
        "print(diff)\n",
        "print(type(diff))\n",
        "\n",
        "diff2 = t2-t1\n",
        "print(diff2)\n",
        "print(type(diff2))"
      ],
      "metadata": {
        "colab": {
          "base_uri": "https://localhost:8080/"
        },
        "id": "1QxE16qN4cEm",
        "outputId": "359156bd-7421-4ebe-ef70-8a90ab39d034"
      },
      "execution_count": 126,
      "outputs": [
        {
          "output_type": "stream",
          "name": "stdout",
          "text": [
            "19418 days, 15:12:30.964382\n",
            "<class 'datetime.timedelta'>\n",
            "-19419 days, 8:47:29.035618\n",
            "<class 'datetime.timedelta'>\n"
          ]
        }
      ]
    },
    {
      "cell_type": "code",
      "source": [
        "# 라이브러리 불러오기\n",
        "import pandas as pd\n",
        "import os\n",
        "\n",
        "\n",
        "# 데이터 불러오기\n",
        "ebola = pd.read_csv('/content/drive/MyDrive/My_GitHub/Python_ML/Doit_Pandas_dataset/country_timeseries.csv')"
      ],
      "metadata": {
        "id": "jQ8sJ_sK4qHx"
      },
      "execution_count": 127,
      "outputs": []
    },
    {
      "cell_type": "code",
      "source": [
        "# 데이터 정보 확인 \n",
        "print(ebola.info())"
      ],
      "metadata": {
        "colab": {
          "base_uri": "https://localhost:8080/"
        },
        "id": "sdXw_Sn24--h",
        "outputId": "e9d3fb91-1952-4564-fa0d-b1d86740f0a5"
      },
      "execution_count": 128,
      "outputs": [
        {
          "output_type": "stream",
          "name": "stdout",
          "text": [
            "<class 'pandas.core.frame.DataFrame'>\n",
            "RangeIndex: 122 entries, 0 to 121\n",
            "Data columns (total 18 columns):\n",
            " #   Column               Non-Null Count  Dtype  \n",
            "---  ------               --------------  -----  \n",
            " 0   Date                 122 non-null    object \n",
            " 1   Day                  122 non-null    int64  \n",
            " 2   Cases_Guinea         93 non-null     float64\n",
            " 3   Cases_Liberia        83 non-null     float64\n",
            " 4   Cases_SierraLeone    87 non-null     float64\n",
            " 5   Cases_Nigeria        38 non-null     float64\n",
            " 6   Cases_Senegal        25 non-null     float64\n",
            " 7   Cases_UnitedStates   18 non-null     float64\n",
            " 8   Cases_Spain          16 non-null     float64\n",
            " 9   Cases_Mali           12 non-null     float64\n",
            " 10  Deaths_Guinea        92 non-null     float64\n",
            " 11  Deaths_Liberia       81 non-null     float64\n",
            " 12  Deaths_SierraLeone   87 non-null     float64\n",
            " 13  Deaths_Nigeria       38 non-null     float64\n",
            " 14  Deaths_Senegal       22 non-null     float64\n",
            " 15  Deaths_UnitedStates  18 non-null     float64\n",
            " 16  Deaths_Spain         16 non-null     float64\n",
            " 17  Deaths_Mali          12 non-null     float64\n",
            "dtypes: float64(16), int64(1), object(1)\n",
            "memory usage: 17.3+ KB\n",
            "None\n"
          ]
        }
      ]
    },
    {
      "cell_type": "code",
      "source": [
        "# Date 자료형을 datetime 오브젝트로 변환\n",
        "\n",
        "ebola['date_dt'] = pd.to_datetime(ebola['Date'])\n",
        "print(ebola.info())"
      ],
      "metadata": {
        "colab": {
          "base_uri": "https://localhost:8080/"
        },
        "id": "YHSsIXHm5EVV",
        "outputId": "3b19352c-1ade-4113-e705-dfbc013c309e"
      },
      "execution_count": 129,
      "outputs": [
        {
          "output_type": "stream",
          "name": "stdout",
          "text": [
            "<class 'pandas.core.frame.DataFrame'>\n",
            "RangeIndex: 122 entries, 0 to 121\n",
            "Data columns (total 19 columns):\n",
            " #   Column               Non-Null Count  Dtype         \n",
            "---  ------               --------------  -----         \n",
            " 0   Date                 122 non-null    object        \n",
            " 1   Day                  122 non-null    int64         \n",
            " 2   Cases_Guinea         93 non-null     float64       \n",
            " 3   Cases_Liberia        83 non-null     float64       \n",
            " 4   Cases_SierraLeone    87 non-null     float64       \n",
            " 5   Cases_Nigeria        38 non-null     float64       \n",
            " 6   Cases_Senegal        25 non-null     float64       \n",
            " 7   Cases_UnitedStates   18 non-null     float64       \n",
            " 8   Cases_Spain          16 non-null     float64       \n",
            " 9   Cases_Mali           12 non-null     float64       \n",
            " 10  Deaths_Guinea        92 non-null     float64       \n",
            " 11  Deaths_Liberia       81 non-null     float64       \n",
            " 12  Deaths_SierraLeone   87 non-null     float64       \n",
            " 13  Deaths_Nigeria       38 non-null     float64       \n",
            " 14  Deaths_Senegal       22 non-null     float64       \n",
            " 15  Deaths_UnitedStates  18 non-null     float64       \n",
            " 16  Deaths_Spain         16 non-null     float64       \n",
            " 17  Deaths_Mali          12 non-null     float64       \n",
            " 18  date_dt              122 non-null    datetime64[ns]\n",
            "dtypes: datetime64[ns](1), float64(16), int64(1), object(1)\n",
            "memory usage: 18.2+ KB\n",
            "None\n"
          ]
        }
      ]
    },
    {
      "cell_type": "markdown",
      "source": [
        "### datetime 오브젝트 "
      ],
      "metadata": {
        "id": "FkoaFFdy5hCO"
      }
    },
    {
      "cell_type": "code",
      "source": [
        "test_df1 = pd.DataFrame({'order_day':['01/01/15', '02/01/15', '03/01/15']})\n",
        "\n",
        "test_df1['date_dt1'] = pd.to_datetime(test_df1['order_day'], format='%d/%m/%y')\n",
        "test_df1['date_dt2'] = pd.to_datetime(test_df1['order_day'], format='%m/%d/%y')\n",
        "test_df1['date_dt3'] = pd.to_datetime(test_df1['order_day'], format='%y/%m/%d')\n",
        "\n",
        "print(test_df1)"
      ],
      "metadata": {
        "colab": {
          "base_uri": "https://localhost:8080/"
        },
        "id": "DwTkgLRy5cD8",
        "outputId": "79486cbd-637a-4f64-a88b-c8307f764243"
      },
      "execution_count": 130,
      "outputs": [
        {
          "output_type": "stream",
          "name": "stdout",
          "text": [
            "  order_day   date_dt1   date_dt2   date_dt3\n",
            "0  01/01/15 2015-01-01 2015-01-01 2001-01-15\n",
            "1  02/01/15 2015-01-02 2015-02-01 2002-01-15\n",
            "2  03/01/15 2015-01-03 2015-03-01 2003-01-15\n"
          ]
        }
      ]
    },
    {
      "cell_type": "markdown",
      "source": [
        "시간 형식 지정자 \n",
        "\n",
        "      시간 형식 지정자        의미                                    결과\n",
        "      %a              요일 출력                           Sun, Mon, ... Sat\n",
        "      %A              요일 출력(긴 이름)                    Sunday, Monday, ... Saturday\n",
        "      %w              요일 출력(숫자, 0부터 일요일)           0, 1, ...,  6\n",
        "      %d              날짜 출력(2자리로 표시)                01, 02, ..., 31\n",
        "      %b              월 출력                             Jan, Feb, ..., Dec\n",
        "      %B              월 출력(긴 이름)                      January, Febuary, ..., December\n",
        "      %m              월 출력(숫자)                        01, 02,..., 12\n",
        "      %y              년 출력(2자리로 표시)                  00, 01, ..., 99\n",
        "      %Y              년 출력(4자리로 표시)                  0001, 0002, ..., 2013,..., 9999\n",
        "      %H              시간 출력(24시간)                     00, 01, ..., 23\n",
        "      %l              시간 출력(12시간)                     01, 02, ..., 12\n",
        "      %p              AM 또는 PM 출력                      AM, PM\n",
        "      %M              분 출력(2자리로 표시)                  00, 01, ..., 59\n",
        "      %S              초 출력(2자리로 표시)                  00, 01, ..., 59\n",
        "      %f              마이크로초 출력                        000000, 000001, ..., 999999\n",
        "      %z              UTC 차이 출력(+HHMM | -HHMM)         (None), +0000, -0400\n",
        "      %Z              기준 지역 이름 출력                    (None), UTC, EST, CST              \n",
        "      %j              올해의 지난 일 수 출력(1일, 2일, ...)    001, 002, ...366\n",
        "      %U              올해의 지난 주 수 출력(1주, 2주, ...)    00, 01, ..., 53\n",
        "      %c              날짜와 시간 출력                       Tue Aug 16 21:30:00 1988\n",
        "      %x              날짜 출력                            08/16/88(None);08/16/1988\n",
        "      %X              시간 출력                            21:30:00\n",
        "      %G              년 출력(ISO 8601형식)                 0001, 0002,..., 9999\n",
        "      %u              요일 출력(ISO 8601형식)               1, 2,..., 7\n",
        "      %V              올해의 지난 주 수 출력(ISO 8601형식)     01, 02, ..., 53"
      ],
      "metadata": {
        "id": "tVRqJ5P36P6N"
      }
    },
    {
      "cell_type": "markdown",
      "source": [
        "### now 메서드 & strftime 메서드\n",
        "\n",
        "now 메서드 : 현재 시간의 시계열 데이터는 아주 정밀한 단위까지 시간을 표현함\n",
        "\n",
        "strftime 메서드와 시간 형식 지정자를 이용하여 시계열 데이터를 잘라낼 수 있음"
      ],
      "metadata": {
        "id": "Y7dKRFWz-4aX"
      }
    },
    {
      "cell_type": "code",
      "source": [
        "now = datetime.now()\n",
        "print(now)"
      ],
      "metadata": {
        "colab": {
          "base_uri": "https://localhost:8080/"
        },
        "id": "w39mBsHJ6Jz-",
        "outputId": "4b762b92-d8e0-43aa-ae57-7d189d559080"
      },
      "execution_count": 131,
      "outputs": [
        {
          "output_type": "stream",
          "name": "stdout",
          "text": [
            "2023-03-02 15:42:22.088629\n"
          ]
        }
      ]
    },
    {
      "cell_type": "code",
      "source": [
        "nowDate = now.strftime('%Y-%m-%d')\n",
        "print(nowDate)"
      ],
      "metadata": {
        "colab": {
          "base_uri": "https://localhost:8080/"
        },
        "id": "TwpqFI8i_Rnz",
        "outputId": "dce8e801-fbcd-4226-8ce8-70fcba81e7d4"
      },
      "execution_count": 132,
      "outputs": [
        {
          "output_type": "stream",
          "name": "stdout",
          "text": [
            "2023-03-02\n"
          ]
        }
      ]
    },
    {
      "cell_type": "code",
      "source": [
        "nowTime = now.strftime('%H:%M:%S')\n",
        "print(nowTime)"
      ],
      "metadata": {
        "colab": {
          "base_uri": "https://localhost:8080/"
        },
        "id": "2cdt_41q_YjJ",
        "outputId": "55004246-ba71-4ed9-aa81-a673989479af"
      },
      "execution_count": 133,
      "outputs": [
        {
          "output_type": "stream",
          "name": "stdout",
          "text": [
            "15:42:22\n"
          ]
        }
      ]
    },
    {
      "cell_type": "code",
      "source": [
        "nowDatetime = now.strftime('%Y-%m-%d %H:%M:%S')\n",
        "print(nowDatetime)"
      ],
      "metadata": {
        "colab": {
          "base_uri": "https://localhost:8080/"
        },
        "id": "ETX-YnBS_gIW",
        "outputId": "38f7f7a5-9c91-4e9e-ae83-7732474f288c"
      },
      "execution_count": 134,
      "outputs": [
        {
          "output_type": "stream",
          "name": "stdout",
          "text": [
            "2023-03-02 15:42:22\n"
          ]
        }
      ]
    },
    {
      "cell_type": "markdown",
      "source": [
        "### parse_dates 인자\n",
        "\n",
        "parse_dates 인자에 datetime 오브젝트로 변환하고자 하는 열의 이름을 전달하여 데이터 집합을 불러올 수 있음"
      ],
      "metadata": {
        "id": "AHZnISyx_8jM"
      }
    },
    {
      "cell_type": "code",
      "source": [
        "ebola1 = pd.read_csv('/content/drive/MyDrive/My_GitHub/Python_ML/Doit_Pandas_dataset/country_timeseries.csv', parse_dates = ['Date'])\n",
        "print(ebola1.info())"
      ],
      "metadata": {
        "colab": {
          "base_uri": "https://localhost:8080/"
        },
        "id": "1wEMXWEU_qGf",
        "outputId": "0eb089b4-f580-4583-df59-ff3f5e0b3e97"
      },
      "execution_count": 135,
      "outputs": [
        {
          "output_type": "stream",
          "name": "stdout",
          "text": [
            "<class 'pandas.core.frame.DataFrame'>\n",
            "RangeIndex: 122 entries, 0 to 121\n",
            "Data columns (total 18 columns):\n",
            " #   Column               Non-Null Count  Dtype         \n",
            "---  ------               --------------  -----         \n",
            " 0   Date                 122 non-null    datetime64[ns]\n",
            " 1   Day                  122 non-null    int64         \n",
            " 2   Cases_Guinea         93 non-null     float64       \n",
            " 3   Cases_Liberia        83 non-null     float64       \n",
            " 4   Cases_SierraLeone    87 non-null     float64       \n",
            " 5   Cases_Nigeria        38 non-null     float64       \n",
            " 6   Cases_Senegal        25 non-null     float64       \n",
            " 7   Cases_UnitedStates   18 non-null     float64       \n",
            " 8   Cases_Spain          16 non-null     float64       \n",
            " 9   Cases_Mali           12 non-null     float64       \n",
            " 10  Deaths_Guinea        92 non-null     float64       \n",
            " 11  Deaths_Liberia       81 non-null     float64       \n",
            " 12  Deaths_SierraLeone   87 non-null     float64       \n",
            " 13  Deaths_Nigeria       38 non-null     float64       \n",
            " 14  Deaths_Senegal       22 non-null     float64       \n",
            " 15  Deaths_UnitedStates  18 non-null     float64       \n",
            " 16  Deaths_Spain         16 non-null     float64       \n",
            " 17  Deaths_Mali          12 non-null     float64       \n",
            "dtypes: datetime64[ns](1), float64(16), int64(1)\n",
            "memory usage: 17.3 KB\n",
            "None\n"
          ]
        }
      ]
    },
    {
      "cell_type": "code",
      "source": [
        "date_series = pd.Series(['2018-05-16','2018-05-17','2018-05-18'])\n",
        "d1 = pd.to_datetime(date_series)\n",
        "print(d1)"
      ],
      "metadata": {
        "colab": {
          "base_uri": "https://localhost:8080/"
        },
        "id": "UuHdTgvR_6Ow",
        "outputId": "90d8de7d-db28-4884-b659-3e0631db5a49"
      },
      "execution_count": 136,
      "outputs": [
        {
          "output_type": "stream",
          "name": "stdout",
          "text": [
            "0   2018-05-16\n",
            "1   2018-05-17\n",
            "2   2018-05-18\n",
            "dtype: datetime64[ns]\n"
          ]
        }
      ]
    },
    {
      "cell_type": "code",
      "source": [
        "print(d1[0].year)\n",
        "\n",
        "print(d1[0].month)\n",
        "\n",
        "print(d1[0].day)"
      ],
      "metadata": {
        "colab": {
          "base_uri": "https://localhost:8080/"
        },
        "id": "5RuQKWaHAeHO",
        "outputId": "d8a20aeb-833a-449f-be71-12ee1fa405d1"
      },
      "execution_count": 137,
      "outputs": [
        {
          "output_type": "stream",
          "name": "stdout",
          "text": [
            "2018\n",
            "5\n",
            "16\n"
          ]
        }
      ]
    },
    {
      "cell_type": "markdown",
      "source": [
        "### dt 접근자\n",
        "\n",
        "dt 접근자를 사용하면 datetime 속성이나 메서드를 사용하여 시계열 데이터를 처리 가능"
      ],
      "metadata": {
        "id": "423Zhro6AoRn"
      }
    },
    {
      "cell_type": "code",
      "source": [
        "ebola = pd.read_csv('/content/drive/MyDrive/My_GitHub/Python_ML/Doit_Pandas_dataset/country_timeseries.csv')\n",
        "ebola['date_dt'] = pd.to_datetime(ebola['Date'])"
      ],
      "metadata": {
        "id": "4LD67NpgAlgs"
      },
      "execution_count": 138,
      "outputs": []
    },
    {
      "cell_type": "code",
      "source": [
        "print(ebola[['Date','date_dt']].head(),'-'*30,sep='\\n')\n",
        "\n",
        "print(ebola['date_dt'][3].year)\n",
        "\n",
        "print(ebola['date_dt'][3].month)\n",
        "\n",
        "print(ebola['date_dt'][3].day)"
      ],
      "metadata": {
        "colab": {
          "base_uri": "https://localhost:8080/"
        },
        "id": "5tEzcHOhBJ_1",
        "outputId": "52acbd8a-f871-4680-ba8a-28de73d6ce98"
      },
      "execution_count": 140,
      "outputs": [
        {
          "output_type": "stream",
          "name": "stdout",
          "text": [
            "         Date    date_dt\n",
            "0    1/5/2015 2015-01-05\n",
            "1    1/4/2015 2015-01-04\n",
            "2    1/3/2015 2015-01-03\n",
            "3    1/2/2015 2015-01-02\n",
            "4  12/31/2014 2014-12-31\n",
            "------------------------------\n",
            "2015\n",
            "1\n",
            "2\n"
          ]
        }
      ]
    },
    {
      "cell_type": "code",
      "source": [
        "ebola['year'] = ebola['date_dt'].dt.year\n",
        "print(ebola[['Date','date_dt','year']].head())"
      ],
      "metadata": {
        "colab": {
          "base_uri": "https://localhost:8080/"
        },
        "id": "w3aOuQTuBY_R",
        "outputId": "bd662bcd-ca80-4056-af84-2dcf59f66c84"
      },
      "execution_count": 141,
      "outputs": [
        {
          "output_type": "stream",
          "name": "stdout",
          "text": [
            "         Date    date_dt  year\n",
            "0    1/5/2015 2015-01-05  2015\n",
            "1    1/4/2015 2015-01-04  2015\n",
            "2    1/3/2015 2015-01-03  2015\n",
            "3    1/2/2015 2015-01-02  2015\n",
            "4  12/31/2014 2014-12-31  2014\n"
          ]
        }
      ]
    },
    {
      "cell_type": "code",
      "source": [
        "ebola['month'], ebola['day'] = (ebola['date_dt'].dt.month, ebola['date_dt'].dt.day)\n",
        "print(ebola[['Date','date_dt','year','month','day']].head())"
      ],
      "metadata": {
        "colab": {
          "base_uri": "https://localhost:8080/"
        },
        "id": "GlzCqMQGBvgt",
        "outputId": "b845531b-f5de-47eb-d57b-ad6d826dedc1"
      },
      "execution_count": 142,
      "outputs": [
        {
          "output_type": "stream",
          "name": "stdout",
          "text": [
            "         Date    date_dt  year  month  day\n",
            "0    1/5/2015 2015-01-05  2015      1    5\n",
            "1    1/4/2015 2015-01-04  2015      1    4\n",
            "2    1/3/2015 2015-01-03  2015      1    3\n",
            "3    1/2/2015 2015-01-02  2015      1    2\n",
            "4  12/31/2014 2014-12-31  2014     12   31\n"
          ]
        }
      ]
    },
    {
      "cell_type": "code",
      "source": [
        "print(ebola.info())"
      ],
      "metadata": {
        "colab": {
          "base_uri": "https://localhost:8080/"
        },
        "id": "tKV7LNvVCI2-",
        "outputId": "41a295cd-b086-4991-8eef-5f88e748b6e8"
      },
      "execution_count": 143,
      "outputs": [
        {
          "output_type": "stream",
          "name": "stdout",
          "text": [
            "<class 'pandas.core.frame.DataFrame'>\n",
            "RangeIndex: 122 entries, 0 to 121\n",
            "Data columns (total 22 columns):\n",
            " #   Column               Non-Null Count  Dtype         \n",
            "---  ------               --------------  -----         \n",
            " 0   Date                 122 non-null    object        \n",
            " 1   Day                  122 non-null    int64         \n",
            " 2   Cases_Guinea         93 non-null     float64       \n",
            " 3   Cases_Liberia        83 non-null     float64       \n",
            " 4   Cases_SierraLeone    87 non-null     float64       \n",
            " 5   Cases_Nigeria        38 non-null     float64       \n",
            " 6   Cases_Senegal        25 non-null     float64       \n",
            " 7   Cases_UnitedStates   18 non-null     float64       \n",
            " 8   Cases_Spain          16 non-null     float64       \n",
            " 9   Cases_Mali           12 non-null     float64       \n",
            " 10  Deaths_Guinea        92 non-null     float64       \n",
            " 11  Deaths_Liberia       81 non-null     float64       \n",
            " 12  Deaths_SierraLeone   87 non-null     float64       \n",
            " 13  Deaths_Nigeria       38 non-null     float64       \n",
            " 14  Deaths_Senegal       22 non-null     float64       \n",
            " 15  Deaths_UnitedStates  18 non-null     float64       \n",
            " 16  Deaths_Spain         16 non-null     float64       \n",
            " 17  Deaths_Mali          12 non-null     float64       \n",
            " 18  date_dt              122 non-null    datetime64[ns]\n",
            " 19  year                 122 non-null    int64         \n",
            " 20  month                122 non-null    int64         \n",
            " 21  day                  122 non-null    int64         \n",
            "dtypes: datetime64[ns](1), float64(16), int64(4), object(1)\n",
            "memory usage: 21.1+ KB\n",
            "None\n"
          ]
        }
      ]
    },
    {
      "cell_type": "markdown",
      "source": [
        "## 12-2 사례별 시계열 데이터 계산하기"
      ],
      "metadata": {
        "id": "wsmJ_mXLCS29"
      }
    },
    {
      "cell_type": "code",
      "source": [
        "print(ebola.iloc[-5:, :5])"
      ],
      "metadata": {
        "colab": {
          "base_uri": "https://localhost:8080/"
        },
        "id": "SJKRhGiSCMoE",
        "outputId": "84a237d3-75cf-4c6a-9e24-579fca316e6d"
      },
      "execution_count": 144,
      "outputs": [
        {
          "output_type": "stream",
          "name": "stdout",
          "text": [
            "          Date  Day  Cases_Guinea  Cases_Liberia  Cases_SierraLeone\n",
            "117  3/27/2014    5         103.0            8.0                6.0\n",
            "118  3/26/2014    4          86.0            NaN                NaN\n",
            "119  3/25/2014    3          86.0            NaN                NaN\n",
            "120  3/24/2014    2          86.0            NaN                NaN\n",
            "121  3/22/2014    0          49.0            NaN                NaN\n"
          ]
        }
      ]
    },
    {
      "cell_type": "code",
      "source": [
        "print(ebola['date_dt'].min())\n",
        "print(type(ebola['date_dt'].min()))"
      ],
      "metadata": {
        "colab": {
          "base_uri": "https://localhost:8080/"
        },
        "id": "t8ybSA7OCaCp",
        "outputId": "53669187-c645-4354-81f9-d2a4cf1c387c"
      },
      "execution_count": 145,
      "outputs": [
        {
          "output_type": "stream",
          "name": "stdout",
          "text": [
            "2014-03-22 00:00:00\n",
            "<class 'pandas._libs.tslibs.timestamps.Timestamp'>\n"
          ]
        }
      ]
    },
    {
      "cell_type": "code",
      "source": [
        "ebola['outbreak_d'] = ebola['date_dt'] - ebola['date_dt'].min()\n",
        "print(ebola[['Date','Day','outbreak_d']].head())"
      ],
      "metadata": {
        "colab": {
          "base_uri": "https://localhost:8080/"
        },
        "id": "h4Wzb3byCnxu",
        "outputId": "d7c93290-1ee6-4b55-8def-0ebbe83b88d4"
      },
      "execution_count": 146,
      "outputs": [
        {
          "output_type": "stream",
          "name": "stdout",
          "text": [
            "         Date  Day outbreak_d\n",
            "0    1/5/2015  289   289 days\n",
            "1    1/4/2015  288   288 days\n",
            "2    1/3/2015  287   287 days\n",
            "3    1/2/2015  286   286 days\n",
            "4  12/31/2014  284   284 days\n"
          ]
        }
      ]
    },
    {
      "cell_type": "code",
      "source": [
        "banks = pd.read_csv('/content/drive/MyDrive/My_GitHub/Python_ML/Doit_Pandas_dataset/banklist.csv')\n",
        "print(banks.head())"
      ],
      "metadata": {
        "colab": {
          "base_uri": "https://localhost:8080/"
        },
        "id": "ycn07lqJC2aT",
        "outputId": "27908f59-1ae8-4539-8132-65e42fb25d76"
      },
      "execution_count": 147,
      "outputs": [
        {
          "output_type": "stream",
          "name": "stdout",
          "text": [
            "                                           Bank Name         City  ST   CERT  \\\n",
            "0                Washington Federal Bank for Savings      Chicago  IL  30570   \n",
            "1    The Farmers and Merchants State Bank of Argonia      Argonia  KS  17719   \n",
            "2                                Fayette County Bank   Saint Elmo  IL   1802   \n",
            "3  Guaranty Bank, (d/b/a BestBank in Georgia & Mi...    Milwaukee  WI  30003   \n",
            "4                                     First NBC Bank  New Orleans  LA  58302   \n",
            "\n",
            "                 Acquiring Institution Closing Date Updated Date  \n",
            "0                   Royal Savings Bank    15-Dec-17    20-Dec-17  \n",
            "1                          Conway Bank    13-Oct-17    20-Oct-17  \n",
            "2            United Fidelity Bank, fsb    26-May-17    26-Jul-17  \n",
            "3  First-Citizens Bank & Trust Company     5-May-17    26-Jul-17  \n",
            "4                         Whitney Bank    28-Apr-17     5-Dec-17  \n"
          ]
        }
      ]
    },
    {
      "cell_type": "code",
      "source": [
        "banks_no_dates = pd.read_csv('/content/drive/MyDrive/My_GitHub/Python_ML/Doit_Pandas_dataset/banklist.csv')\n",
        "print(banks_no_dates.info())"
      ],
      "metadata": {
        "colab": {
          "base_uri": "https://localhost:8080/"
        },
        "id": "zuha9JSbDJwN",
        "outputId": "3782236f-9a71-44fa-ce43-9a828f8baa18"
      },
      "execution_count": 148,
      "outputs": [
        {
          "output_type": "stream",
          "name": "stdout",
          "text": [
            "<class 'pandas.core.frame.DataFrame'>\n",
            "RangeIndex: 555 entries, 0 to 554\n",
            "Data columns (total 7 columns):\n",
            " #   Column                 Non-Null Count  Dtype \n",
            "---  ------                 --------------  ----- \n",
            " 0   Bank Name              555 non-null    object\n",
            " 1   City                   555 non-null    object\n",
            " 2   ST                     555 non-null    object\n",
            " 3   CERT                   555 non-null    int64 \n",
            " 4   Acquiring Institution  555 non-null    object\n",
            " 5   Closing Date           555 non-null    object\n",
            " 6   Updated Date           555 non-null    object\n",
            "dtypes: int64(1), object(6)\n",
            "memory usage: 30.5+ KB\n",
            "None\n"
          ]
        }
      ]
    },
    {
      "cell_type": "code",
      "source": [
        "banks = pd.read_csv('/content/drive/MyDrive/My_GitHub/Python_ML/Doit_Pandas_dataset/banklist.csv', parse_dates=[5,6])\n",
        "print(banks.info())"
      ],
      "metadata": {
        "colab": {
          "base_uri": "https://localhost:8080/"
        },
        "id": "pKK2pRrQDYIb",
        "outputId": "11113140-efd6-4484-f8cd-bc479fcd4cae"
      },
      "execution_count": 149,
      "outputs": [
        {
          "output_type": "stream",
          "name": "stdout",
          "text": [
            "<class 'pandas.core.frame.DataFrame'>\n",
            "RangeIndex: 555 entries, 0 to 554\n",
            "Data columns (total 7 columns):\n",
            " #   Column                 Non-Null Count  Dtype         \n",
            "---  ------                 --------------  -----         \n",
            " 0   Bank Name              555 non-null    object        \n",
            " 1   City                   555 non-null    object        \n",
            " 2   ST                     555 non-null    object        \n",
            " 3   CERT                   555 non-null    int64         \n",
            " 4   Acquiring Institution  555 non-null    object        \n",
            " 5   Closing Date           555 non-null    datetime64[ns]\n",
            " 6   Updated Date           555 non-null    datetime64[ns]\n",
            "dtypes: datetime64[ns](2), int64(1), object(4)\n",
            "memory usage: 30.5+ KB\n",
            "None\n"
          ]
        }
      ]
    },
    {
      "cell_type": "code",
      "source": [
        "banks['closing_quarter'], banks['closing_year'] = (banks['Closing Date'].dt.quarter, banks['Closing Date'].dt.year)\n",
        "print(banks.head())"
      ],
      "metadata": {
        "colab": {
          "base_uri": "https://localhost:8080/"
        },
        "id": "oaermySfDij_",
        "outputId": "7c59ef7a-c204-4eb6-fe78-5020b467e785"
      },
      "execution_count": 150,
      "outputs": [
        {
          "output_type": "stream",
          "name": "stdout",
          "text": [
            "                                           Bank Name         City  ST   CERT  \\\n",
            "0                Washington Federal Bank for Savings      Chicago  IL  30570   \n",
            "1    The Farmers and Merchants State Bank of Argonia      Argonia  KS  17719   \n",
            "2                                Fayette County Bank   Saint Elmo  IL   1802   \n",
            "3  Guaranty Bank, (d/b/a BestBank in Georgia & Mi...    Milwaukee  WI  30003   \n",
            "4                                     First NBC Bank  New Orleans  LA  58302   \n",
            "\n",
            "                 Acquiring Institution Closing Date Updated Date  \\\n",
            "0                   Royal Savings Bank   2017-12-15   2017-12-20   \n",
            "1                          Conway Bank   2017-10-13   2017-10-20   \n",
            "2            United Fidelity Bank, fsb   2017-05-26   2017-07-26   \n",
            "3  First-Citizens Bank & Trust Company   2017-05-05   2017-07-26   \n",
            "4                         Whitney Bank   2017-04-28   2017-12-05   \n",
            "\n",
            "   closing_quarter  closing_year  \n",
            "0                4          2017  \n",
            "1                4          2017  \n",
            "2                2          2017  \n",
            "3                2          2017  \n",
            "4                2          2017  \n"
          ]
        }
      ]
    },
    {
      "cell_type": "code",
      "source": [
        "closing_year = banks.groupby(['closing_year']).size()\n",
        "print(closing_year)"
      ],
      "metadata": {
        "colab": {
          "base_uri": "https://localhost:8080/"
        },
        "id": "wwtqzcLFDz6f",
        "outputId": "1441a52b-ffcf-45bd-9fba-d29bb2681140"
      },
      "execution_count": 151,
      "outputs": [
        {
          "output_type": "stream",
          "name": "stdout",
          "text": [
            "closing_year\n",
            "2000      2\n",
            "2001      4\n",
            "2002     11\n",
            "2003      3\n",
            "2004      4\n",
            "2007      3\n",
            "2008     25\n",
            "2009    140\n",
            "2010    157\n",
            "2011     92\n",
            "2012     51\n",
            "2013     24\n",
            "2014     18\n",
            "2015      8\n",
            "2016      5\n",
            "2017      8\n",
            "dtype: int64\n"
          ]
        }
      ]
    },
    {
      "cell_type": "code",
      "source": [
        "closing_year_q = banks.groupby(['closing_year','closing_quarter']).size()\n",
        "print(closing_year_q)"
      ],
      "metadata": {
        "colab": {
          "base_uri": "https://localhost:8080/"
        },
        "id": "LLoCo56TD_mR",
        "outputId": "2cb857a3-6f4d-48a7-be39-85b49b99adbf"
      },
      "execution_count": 152,
      "outputs": [
        {
          "output_type": "stream",
          "name": "stdout",
          "text": [
            "closing_year  closing_quarter\n",
            "2000          4                   2\n",
            "2001          1                   1\n",
            "              2                   1\n",
            "              3                   2\n",
            "2002          1                   6\n",
            "              2                   2\n",
            "              3                   1\n",
            "              4                   2\n",
            "2003          1                   1\n",
            "              2                   1\n",
            "              4                   1\n",
            "2004          1                   3\n",
            "              2                   1\n",
            "2007          1                   1\n",
            "              3                   1\n",
            "              4                   1\n",
            "2008          1                   2\n",
            "              2                   2\n",
            "              3                   9\n",
            "              4                  12\n",
            "2009          1                  21\n",
            "              2                  24\n",
            "              3                  50\n",
            "              4                  45\n",
            "2010          1                  41\n",
            "              2                  45\n",
            "              3                  41\n",
            "              4                  30\n",
            "2011          1                  26\n",
            "              2                  22\n",
            "              3                  26\n",
            "              4                  18\n",
            "2012          1                  16\n",
            "              2                  15\n",
            "              3                  12\n",
            "              4                   8\n",
            "2013          1                   4\n",
            "              2                  12\n",
            "              3                   6\n",
            "              4                   2\n",
            "2014          1                   5\n",
            "              2                   7\n",
            "              3                   2\n",
            "              4                   4\n",
            "2015          1                   4\n",
            "              2                   1\n",
            "              3                   1\n",
            "              4                   2\n",
            "2016          1                   1\n",
            "              2                   2\n",
            "              3                   2\n",
            "2017          1                   3\n",
            "              2                   3\n",
            "              4                   2\n",
            "dtype: int64\n"
          ]
        }
      ]
    },
    {
      "cell_type": "code",
      "source": [
        "import matplotlib.pyplot as plt\n",
        "\n",
        "fig, ax = plt.subplots()\n",
        "ax = closing_year.plot()\n",
        "plt.show()\n",
        "\n",
        "fig, ax = plt.subplots()\n",
        "ax = closing_year_q.plot()\n",
        "plt.show()"
      ],
      "metadata": {
        "colab": {
          "base_uri": "https://localhost:8080/",
          "height": 543
        },
        "id": "TwVOl7oREMpd",
        "outputId": "6c56e1d3-0794-4495-9ac2-b482662f0ae3"
      },
      "execution_count": 153,
      "outputs": [
        {
          "output_type": "display_data",
          "data": {
            "text/plain": [
              "<Figure size 432x288 with 1 Axes>"
            ],
            "image/png": "[encoded data removed]"
          },
          "metadata": {
            "needs_background": "light"
          }
        },
        {
          "output_type": "display_data",
          "data": {
            "text/plain": [
              "<Figure size 432x288 with 1 Axes>"
            ],
            "image/png": "[encoded data removed]"
          },
          "metadata": {
            "needs_background": "light"
          }
        }
      ]
    },
    {
      "cell_type": "markdown",
      "source": [
        "### pandas-datareader 라이브러리\n"
      ],
      "metadata": {
        "id": "5Cu9YZzxFkaF"
      }
    },
    {
      "cell_type": "code",
      "source": [
        "pip install pandas-datareader"
      ],
      "metadata": {
        "colab": {
          "base_uri": "https://localhost:8080/"
        },
        "id": "liN7M8ZZEpsI",
        "outputId": "8d2c5676-6c30-4071-b217-e9f7f6c6f9b4"
      },
      "execution_count": 154,
      "outputs": [
        {
          "output_type": "stream",
          "name": "stdout",
          "text": [
            "Looking in indexes: https://pypi.org/simple, https://us-python.pkg.dev/colab-wheels/public/simple/\n",
            "Requirement already satisfied: pandas-datareader in /usr/local/lib/python3.8/dist-packages (0.9.0)\n",
            "Requirement already satisfied: pandas>=0.23 in /usr/local/lib/python3.8/dist-packages (from pandas-datareader) (1.3.5)\n",
            "Requirement already satisfied: requests>=2.19.0 in /usr/local/lib/python3.8/dist-packages (from pandas-datareader) (2.25.1)\n",
            "Requirement already satisfied: lxml in /usr/local/lib/python3.8/dist-packages (from pandas-datareader) (4.9.2)\n",
            "Requirement already satisfied: pytz>=2017.3 in /usr/local/lib/python3.8/dist-packages (from pandas>=0.23->pandas-datareader) (2022.7.1)\n",
            "Requirement already satisfied: python-dateutil>=2.7.3 in /usr/local/lib/python3.8/dist-packages (from pandas>=0.23->pandas-datareader) (2.8.2)\n",
            "Requirement already satisfied: numpy>=1.17.3 in /usr/local/lib/python3.8/dist-packages (from pandas>=0.23->pandas-datareader) (1.22.4)\n",
            "Requirement already satisfied: certifi>=2017.4.17 in /usr/local/lib/python3.8/dist-packages (from requests>=2.19.0->pandas-datareader) (2022.12.7)\n",
            "Requirement already satisfied: idna<3,>=2.5 in /usr/local/lib/python3.8/dist-packages (from requests>=2.19.0->pandas-datareader) (2.10)\n",
            "Requirement already satisfied: urllib3<1.27,>=1.21.1 in /usr/local/lib/python3.8/dist-packages (from requests>=2.19.0->pandas-datareader) (1.26.14)\n",
            "Requirement already satisfied: chardet<5,>=3.0.2 in /usr/local/lib/python3.8/dist-packages (from requests>=2.19.0->pandas-datareader) (4.0.0)\n",
            "Requirement already satisfied: six>=1.5 in /usr/local/lib/python3.8/dist-packages (from python-dateutil>=2.7.3->pandas>=0.23->pandas-datareader) (1.15.0)\n"
          ]
        }
      ]
    },
    {
      "cell_type": "code",
      "source": [
        "pd.core.common.is_list_like = pd.api.types.is_list_like\n",
        "import pandas_datareader as pdr\n",
        "\n",
        "tesla = pdr.get_data_quandl('TSLA', api_key='사이트 가입 후 받은 key 입력란')\n",
        "tesla.to_csv('/content/drive/MyDrive/My_GitHub/Python_ML/Doit_Pandas_dataset/tesla_stock_quandl.csv')"
      ],
      "metadata": {
        "id": "SFX20kiTFiQn"
      },
      "execution_count": 155,
      "outputs": []
    },
    {
      "cell_type": "code",
      "source": [
        "print(tesla.head())"
      ],
      "metadata": {
        "colab": {
          "base_uri": "https://localhost:8080/"
        },
        "id": "MH9vJLbOHMOY",
        "outputId": "c33883cf-009b-47d3-d5fb-69a66abee795"
      },
      "execution_count": 156,
      "outputs": [
        {
          "output_type": "stream",
          "name": "stdout",
          "text": [
            "              Open    High     Low   Close      Volume  ExDividend  \\\n",
            "Date                                                                 \n",
            "2018-03-27  304.00  304.27  277.18  279.18  13696168.0         0.0   \n",
            "2018-03-26  307.34  307.59  291.36  304.18   8324639.0         0.0   \n",
            "2018-03-23  311.25  311.61  300.45  301.54   6600538.0         0.0   \n",
            "2018-03-22  313.89  318.82  308.18  309.10   4914307.0         0.0   \n",
            "2018-03-21  310.25  322.44  310.19  316.53   5927881.0         0.0   \n",
            "\n",
            "            SplitRatio  AdjOpen  AdjHigh  AdjLow  AdjClose   AdjVolume  \n",
            "Date                                                                    \n",
            "2018-03-27         1.0   304.00   304.27  277.18    279.18  13696168.0  \n",
            "2018-03-26         1.0   307.34   307.59  291.36    304.18   8324639.0  \n",
            "2018-03-23         1.0   311.25   311.61  300.45    301.54   6600538.0  \n",
            "2018-03-22         1.0   313.89   318.82  308.18    309.10   4914307.0  \n",
            "2018-03-21         1.0   310.25   322.44  310.19    316.53   5927881.0  \n"
          ]
        }
      ]
    },
    {
      "cell_type": "code",
      "source": [
        "tesla = pd.read_csv('/content/drive/MyDrive/My_GitHub/Python_ML/Doit_Pandas_dataset/tesla_stock_quandl.csv', parse_dates = [0])\n",
        "print(tesla.info())"
      ],
      "metadata": {
        "colab": {
          "base_uri": "https://localhost:8080/"
        },
        "id": "qjiOBMdmHPCk",
        "outputId": "04186033-7ba7-4ede-f1f9-a1609d569b2e"
      },
      "execution_count": 158,
      "outputs": [
        {
          "output_type": "stream",
          "name": "stdout",
          "text": [
            "<class 'pandas.core.frame.DataFrame'>\n",
            "RangeIndex: 17 entries, 0 to 16\n",
            "Data columns (total 13 columns):\n",
            " #   Column      Non-Null Count  Dtype         \n",
            "---  ------      --------------  -----         \n",
            " 0   Date        17 non-null     datetime64[ns]\n",
            " 1   Open        17 non-null     float64       \n",
            " 2   High        17 non-null     float64       \n",
            " 3   Low         17 non-null     float64       \n",
            " 4   Close       17 non-null     float64       \n",
            " 5   Volume      17 non-null     float64       \n",
            " 6   ExDividend  17 non-null     float64       \n",
            " 7   SplitRatio  17 non-null     float64       \n",
            " 8   AdjOpen     17 non-null     float64       \n",
            " 9   AdjHigh     17 non-null     float64       \n",
            " 10  AdjLow      17 non-null     float64       \n",
            " 11  AdjClose    17 non-null     float64       \n",
            " 12  AdjVolume   17 non-null     float64       \n",
            "dtypes: datetime64[ns](1), float64(12)\n",
            "memory usage: 1.9 KB\n",
            "None\n"
          ]
        }
      ]
    },
    {
      "cell_type": "code",
      "source": [
        "print(tesla.loc[(tesla.Date.dt.year == 2018) & (tesla.Date.dt.month == 3)])"
      ],
      "metadata": {
        "colab": {
          "base_uri": "https://localhost:8080/"
        },
        "id": "WqhSrSfMHcwV",
        "outputId": "54f40644-16de-4026-d2d9-b64d1f91b145"
      },
      "execution_count": 165,
      "outputs": [
        {
          "output_type": "stream",
          "name": "stdout",
          "text": [
            "         Date    Open    High       Low   Close      Volume  ExDividend  \\\n",
            "0  2018-03-27  304.00  304.27  277.1800  279.18  13696168.0         0.0   \n",
            "1  2018-03-26  307.34  307.59  291.3600  304.18   8324639.0         0.0   \n",
            "2  2018-03-23  311.25  311.61  300.4500  301.54   6600538.0         0.0   \n",
            "3  2018-03-22  313.89  318.82  308.1800  309.10   4914307.0         0.0   \n",
            "4  2018-03-21  310.25  322.44  310.1900  316.53   5927881.0         0.0   \n",
            "5  2018-03-20  314.87  316.25  308.7600  310.55   4726182.0         0.0   \n",
            "6  2018-03-19  316.50  320.75  309.6700  313.56   7440766.0         0.0   \n",
            "7  2018-03-16  325.96  327.40  319.0700  321.35   6058612.0         0.0   \n",
            "8  2018-03-15  329.38  332.85  321.1000  325.60   6366922.0         0.0   \n",
            "9  2018-03-14  336.76  339.81  323.9300  326.63   7932511.0         0.0   \n",
            "10 2018-03-13  344.92  345.12  336.2635  341.84   5932110.0         0.0   \n",
            "11 2018-03-12  328.61  347.21  326.5000  345.51   8212156.0         0.0   \n",
            "12 2018-03-09  324.10  328.49  322.3700  327.17   5479716.0         0.0   \n",
            "13 2018-03-08  332.86  333.30  326.2740  329.10   3476944.0         0.0   \n",
            "14 2018-03-07  325.44  332.50  321.7400  332.30   5007297.0         0.0   \n",
            "15 2018-03-06  333.75  336.37  327.0300  328.20   4285744.0         0.0   \n",
            "16 2018-03-05  332.39  337.75  329.2929  333.35   3823769.0         0.0   \n",
            "\n",
            "    SplitRatio  AdjOpen  AdjHigh    AdjLow  AdjClose   AdjVolume  \n",
            "0          1.0   304.00   304.27  277.1800    279.18  13696168.0  \n",
            "1          1.0   307.34   307.59  291.3600    304.18   8324639.0  \n",
            "2          1.0   311.25   311.61  300.4500    301.54   6600538.0  \n",
            "3          1.0   313.89   318.82  308.1800    309.10   4914307.0  \n",
            "4          1.0   310.25   322.44  310.1900    316.53   5927881.0  \n",
            "5          1.0   314.87   316.25  308.7600    310.55   4726182.0  \n",
            "6          1.0   316.50   320.75  309.6700    313.56   7440766.0  \n",
            "7          1.0   325.96   327.40  319.0700    321.35   6058612.0  \n",
            "8          1.0   329.38   332.85  321.1000    325.60   6366922.0  \n",
            "9          1.0   336.76   339.81  323.9300    326.63   7932511.0  \n",
            "10         1.0   344.92   345.12  336.2635    341.84   5932110.0  \n",
            "11         1.0   328.61   347.21  326.5000    345.51   8212156.0  \n",
            "12         1.0   324.10   328.49  322.3700    327.17   5479716.0  \n",
            "13         1.0   332.86   333.30  326.2740    329.10   3476944.0  \n",
            "14         1.0   325.44   332.50  321.7400    332.30   5007297.0  \n",
            "15         1.0   333.75   336.37  327.0300    328.20   4285744.0  \n",
            "16         1.0   332.39   337.75  329.2929    333.35   3823769.0  \n"
          ]
        }
      ]
    },
    {
      "cell_type": "markdown",
      "source": [
        "### 시간의 데이터 → 인덱스화"
      ],
      "metadata": {
        "id": "wO-v4_nWIgGS"
      }
    },
    {
      "cell_type": "code",
      "source": [
        "tesla.index = tesla['Date']\n",
        "print(tesla.index)"
      ],
      "metadata": {
        "colab": {
          "base_uri": "https://localhost:8080/"
        },
        "id": "irnhD5zkIT0W",
        "outputId": "746a4de7-cb0a-40d2-d7ae-4a025a6537f3"
      },
      "execution_count": 166,
      "outputs": [
        {
          "output_type": "stream",
          "name": "stdout",
          "text": [
            "DatetimeIndex(['2018-03-27', '2018-03-26', '2018-03-23', '2018-03-22',\n",
            "               '2018-03-21', '2018-03-20', '2018-03-19', '2018-03-16',\n",
            "               '2018-03-15', '2018-03-14', '2018-03-13', '2018-03-12',\n",
            "               '2018-03-09', '2018-03-08', '2018-03-07', '2018-03-06',\n",
            "               '2018-03-05'],\n",
            "              dtype='datetime64[ns]', name='Date', freq=None)\n"
          ]
        }
      ]
    },
    {
      "cell_type": "code",
      "source": [
        "print(tesla['2018'].iloc[:5,:5])"
      ],
      "metadata": {
        "colab": {
          "base_uri": "https://localhost:8080/"
        },
        "id": "tfKDRw_wItju",
        "outputId": "57fd84ac-f661-4dbc-f50b-372694a56445"
      },
      "execution_count": 167,
      "outputs": [
        {
          "output_type": "stream",
          "name": "stdout",
          "text": [
            "                 Date    Open    High     Low   Close\n",
            "Date                                                 \n",
            "2018-03-27 2018-03-27  304.00  304.27  277.18  279.18\n",
            "2018-03-26 2018-03-26  307.34  307.59  291.36  304.18\n",
            "2018-03-23 2018-03-23  311.25  311.61  300.45  301.54\n",
            "2018-03-22 2018-03-22  313.89  318.82  308.18  309.10\n",
            "2018-03-21 2018-03-21  310.25  322.44  310.19  316.53\n"
          ]
        },
        {
          "output_type": "stream",
          "name": "stderr",
          "text": [
            "<ipython-input-167-24aab2956140>:1: FutureWarning: Indexing a DataFrame with a datetimelike index using a single string to slice the rows, like `frame[string]`, is deprecated and will be removed in a future version. Use `frame.loc[string]` instead.\n",
            "  print(tesla['2018'].iloc[:5,:5])\n"
          ]
        }
      ]
    },
    {
      "cell_type": "code",
      "source": [
        "print(tesla['2018-03'].iloc[:,:5])"
      ],
      "metadata": {
        "colab": {
          "base_uri": "https://localhost:8080/"
        },
        "id": "HdU_MBcuIztT",
        "outputId": "443368dc-3604-4a7c-fef3-3580b41c21c9"
      },
      "execution_count": 168,
      "outputs": [
        {
          "output_type": "stream",
          "name": "stdout",
          "text": [
            "                 Date    Open    High       Low   Close\n",
            "Date                                                   \n",
            "2018-03-27 2018-03-27  304.00  304.27  277.1800  279.18\n",
            "2018-03-26 2018-03-26  307.34  307.59  291.3600  304.18\n",
            "2018-03-23 2018-03-23  311.25  311.61  300.4500  301.54\n",
            "2018-03-22 2018-03-22  313.89  318.82  308.1800  309.10\n",
            "2018-03-21 2018-03-21  310.25  322.44  310.1900  316.53\n",
            "2018-03-20 2018-03-20  314.87  316.25  308.7600  310.55\n",
            "2018-03-19 2018-03-19  316.50  320.75  309.6700  313.56\n",
            "2018-03-16 2018-03-16  325.96  327.40  319.0700  321.35\n",
            "2018-03-15 2018-03-15  329.38  332.85  321.1000  325.60\n",
            "2018-03-14 2018-03-14  336.76  339.81  323.9300  326.63\n",
            "2018-03-13 2018-03-13  344.92  345.12  336.2635  341.84\n",
            "2018-03-12 2018-03-12  328.61  347.21  326.5000  345.51\n",
            "2018-03-09 2018-03-09  324.10  328.49  322.3700  327.17\n",
            "2018-03-08 2018-03-08  332.86  333.30  326.2740  329.10\n",
            "2018-03-07 2018-03-07  325.44  332.50  321.7400  332.30\n",
            "2018-03-06 2018-03-06  333.75  336.37  327.0300  328.20\n",
            "2018-03-05 2018-03-05  332.39  337.75  329.2929  333.35\n"
          ]
        },
        {
          "output_type": "stream",
          "name": "stderr",
          "text": [
            "<ipython-input-168-626875f14968>:1: FutureWarning: Indexing a DataFrame with a datetimelike index using a single string to slice the rows, like `frame[string]`, is deprecated and will be removed in a future version. Use `frame.loc[string]` instead.\n",
            "  print(tesla['2018-03'].iloc[:,:5])\n"
          ]
        }
      ]
    },
    {
      "cell_type": "code",
      "source": [
        "tesla['ref_date'] = tesla['Date'] - tesla['Date'].min()\n",
        "print(tesla.head())"
      ],
      "metadata": {
        "colab": {
          "base_uri": "https://localhost:8080/"
        },
        "id": "bpHjHO7WI7tA",
        "outputId": "0284b8c5-f862-428d-bf63-0008ad162b88"
      },
      "execution_count": 169,
      "outputs": [
        {
          "output_type": "stream",
          "name": "stdout",
          "text": [
            "                 Date    Open    High     Low   Close      Volume  ExDividend  \\\n",
            "Date                                                                            \n",
            "2018-03-27 2018-03-27  304.00  304.27  277.18  279.18  13696168.0         0.0   \n",
            "2018-03-26 2018-03-26  307.34  307.59  291.36  304.18   8324639.0         0.0   \n",
            "2018-03-23 2018-03-23  311.25  311.61  300.45  301.54   6600538.0         0.0   \n",
            "2018-03-22 2018-03-22  313.89  318.82  308.18  309.10   4914307.0         0.0   \n",
            "2018-03-21 2018-03-21  310.25  322.44  310.19  316.53   5927881.0         0.0   \n",
            "\n",
            "            SplitRatio  AdjOpen  AdjHigh  AdjLow  AdjClose   AdjVolume  \\\n",
            "Date                                                                     \n",
            "2018-03-27         1.0   304.00   304.27  277.18    279.18  13696168.0   \n",
            "2018-03-26         1.0   307.34   307.59  291.36    304.18   8324639.0   \n",
            "2018-03-23         1.0   311.25   311.61  300.45    301.54   6600538.0   \n",
            "2018-03-22         1.0   313.89   318.82  308.18    309.10   4914307.0   \n",
            "2018-03-21         1.0   310.25   322.44  310.19    316.53   5927881.0   \n",
            "\n",
            "           ref_date  \n",
            "Date                 \n",
            "2018-03-27  22 days  \n",
            "2018-03-26  21 days  \n",
            "2018-03-23  18 days  \n",
            "2018-03-22  17 days  \n",
            "2018-03-21  16 days  \n"
          ]
        }
      ]
    },
    {
      "cell_type": "code",
      "source": [
        "tesla.index = tesla['ref_date']\n",
        "print(tesla.iloc[:5,:5])"
      ],
      "metadata": {
        "colab": {
          "base_uri": "https://localhost:8080/"
        },
        "id": "clb0xwH3JKpR",
        "outputId": "81dafdf2-0233-49f9-8da7-77b58e632315"
      },
      "execution_count": 170,
      "outputs": [
        {
          "output_type": "stream",
          "name": "stdout",
          "text": [
            "               Date    Open    High     Low   Close\n",
            "ref_date                                           \n",
            "22 days  2018-03-27  304.00  304.27  277.18  279.18\n",
            "21 days  2018-03-26  307.34  307.59  291.36  304.18\n",
            "18 days  2018-03-23  311.25  311.61  300.45  301.54\n",
            "17 days  2018-03-22  313.89  318.82  308.18  309.10\n",
            "16 days  2018-03-21  310.25  322.44  310.19  316.53\n"
          ]
        }
      ]
    },
    {
      "cell_type": "code",
      "source": [
        "print(tesla['5 days' : ].iloc[:5,:5])"
      ],
      "metadata": {
        "colab": {
          "base_uri": "https://localhost:8080/"
        },
        "id": "mq5px0miJdLl",
        "outputId": "31521f45-cea7-41c6-c5a5-7b92e6e8f1b5"
      },
      "execution_count": 171,
      "outputs": [
        {
          "output_type": "stream",
          "name": "stdout",
          "text": [
            "               Date    Open    High       Low   Close\n",
            "ref_date                                             \n",
            "4 days   2018-03-09  324.10  328.49  322.3700  327.17\n",
            "3 days   2018-03-08  332.86  333.30  326.2740  329.10\n",
            "2 days   2018-03-07  325.44  332.50  321.7400  332.30\n",
            "1 days   2018-03-06  333.75  336.37  327.0300  328.20\n",
            "0 days   2018-03-05  332.39  337.75  329.2929  333.35\n"
          ]
        }
      ]
    },
    {
      "cell_type": "code",
      "source": [
        "ebola = pd.read_csv('/content/drive/MyDrive/My_GitHub/Python_ML/Doit_Pandas_dataset/country_timeseries.csv', parse_dates=[0])\n",
        "print(ebola.iloc[:5,:5])"
      ],
      "metadata": {
        "colab": {
          "base_uri": "https://localhost:8080/"
        },
        "id": "_UF27GtdJtd-",
        "outputId": "b15dc180-cfde-474f-af27-2e0cd2f7e43d"
      },
      "execution_count": 172,
      "outputs": [
        {
          "output_type": "stream",
          "name": "stdout",
          "text": [
            "        Date  Day  Cases_Guinea  Cases_Liberia  Cases_SierraLeone\n",
            "0 2015-01-05  289        2776.0            NaN            10030.0\n",
            "1 2015-01-04  288        2775.0            NaN             9780.0\n",
            "2 2015-01-03  287        2769.0         8166.0             9722.0\n",
            "3 2015-01-02  286           NaN         8157.0                NaN\n",
            "4 2014-12-31  284        2730.0         8115.0             9633.0\n"
          ]
        }
      ]
    },
    {
      "cell_type": "code",
      "source": [
        "print(ebola.iloc[-5:,:5])"
      ],
      "metadata": {
        "colab": {
          "base_uri": "https://localhost:8080/"
        },
        "id": "WY9hFwmVKGWQ",
        "outputId": "20ec0505-5a57-4bce-c004-086a3282e563"
      },
      "execution_count": 173,
      "outputs": [
        {
          "output_type": "stream",
          "name": "stdout",
          "text": [
            "          Date  Day  Cases_Guinea  Cases_Liberia  Cases_SierraLeone\n",
            "117 2014-03-27    5         103.0            8.0                6.0\n",
            "118 2014-03-26    4          86.0            NaN                NaN\n",
            "119 2014-03-25    3          86.0            NaN                NaN\n",
            "120 2014-03-24    2          86.0            NaN                NaN\n",
            "121 2014-03-22    0          49.0            NaN                NaN\n"
          ]
        }
      ]
    },
    {
      "cell_type": "markdown",
      "source": [
        "### date_range 메서드"
      ],
      "metadata": {
        "id": "Ub-FztdsKuKO"
      }
    },
    {
      "cell_type": "code",
      "source": [
        "head_range = pd.date_range(start='2014-12-31', end='2015-01-05')\n",
        "print(head_range)"
      ],
      "metadata": {
        "colab": {
          "base_uri": "https://localhost:8080/"
        },
        "id": "y18ioAjNKKOt",
        "outputId": "be6db545-5975-47d1-b05e-a2fa9ab7a846"
      },
      "execution_count": 174,
      "outputs": [
        {
          "output_type": "stream",
          "name": "stdout",
          "text": [
            "DatetimeIndex(['2014-12-31', '2015-01-01', '2015-01-02', '2015-01-03',\n",
            "               '2015-01-04', '2015-01-05'],\n",
            "              dtype='datetime64[ns]', freq='D')\n"
          ]
        }
      ]
    },
    {
      "cell_type": "code",
      "source": [
        "ebola_5 = ebola.head()\n",
        "ebola_5.index = ebola_5['Date']\n",
        "ebola_5 = ebola_5.reindex(reversed(head_range))\n",
        "print(ebola_5.iloc[:5,:5])"
      ],
      "metadata": {
        "colab": {
          "base_uri": "https://localhost:8080/"
        },
        "id": "QyxtzPqOKpo0",
        "outputId": "4841de36-aad8-4ad0-9263-beed6c7b80f3"
      },
      "execution_count": 199,
      "outputs": [
        {
          "output_type": "stream",
          "name": "stdout",
          "text": [
            "                 Date    Day  Cases_Guinea  Cases_Liberia  Cases_SierraLeone\n",
            "Date                                                                        \n",
            "2015-01-05 2015-01-05  289.0        2776.0            NaN            10030.0\n",
            "2015-01-04 2015-01-04  288.0        2775.0            NaN             9780.0\n",
            "2015-01-03 2015-01-03  287.0        2769.0         8166.0             9722.0\n",
            "2015-01-02 2015-01-02  286.0           NaN         8157.0                NaN\n",
            "2015-01-01        NaT    NaN           NaN            NaN                NaN\n"
          ]
        }
      ]
    },
    {
      "cell_type": "markdown",
      "source": [
        "### 시간 주기\n",
        "\n",
        "시간 범위를 인덱스로 지정하면 DatetimeIndex 자료형이 만들어짐\n",
        "\n",
        "DatetimeIndex에는 freq 속성 포함됨 \n",
        "\n",
        "freq 속성값을 지정하면 시간 간격을 조절하여 DatetimeIndex를 만들 수 있음\n",
        "\n",
        "\n",
        "          시간 주기        설명\n",
        "          B             평일만 포함\n",
        "          C             사용자가 정의한 평일만 포함\n",
        "          D             달력 일자 단위\n",
        "          W             주간 단위\n",
        "          M             월 마지막 날만 포함\n",
        "          SM            15일과 월 마지막 날만 포함\n",
        "          BM            M 주기의 값이 휴일이면 제외하고 평일만 포함 \n",
        "          CBM           BM에 사용자 정의 평일 적용\n",
        "          MS            월 시작일만 포함\n",
        "          SMS           월 시작일과 15일만 포함\n",
        "          BMS           MS 주기의 값이 휴일이면 제외하고 평일만 포함 \n",
        "          CBMS          BMS에 사용자 정의 평일을 적용\n",
        "          Q             3, 6, 9, 12월 분기 마지막 날만 포함\n",
        "          BQ            3, 6, 9, 12월 분기 마지막 날이 휴일이면 제외하고 평일만 포함\n",
        "          QS            3, 6, 9, 12월 분기 시작일만 포함\n",
        "          BQS           3, 6, 9, 12월 분기 시작일이 휴일이면 제외하고 평일만 포함\n",
        "          A             년의 마지막 날만 포함\n",
        "          BA            년의 마지막 날이 휴일이면 제외하고 평일만 포함\n",
        "          AS            년의 시작일만 포함\n",
        "          BAS           년의 시작일이 휴일이면 제외하고 평일만 포함\n",
        "          BH            평일을 시간 단위로 포함(09:00~16:00)\n",
        "          H             시간 단위로 포함(00:00~00:00)\n",
        "          T             분 단위 포함\n",
        "          S             초 단위 포함\n",
        "          L             밀리초 단위 포함 \n",
        "          U             마이크로초 단위 포함\n",
        "          N             나노초 단위 포함"
      ],
      "metadata": {
        "id": "ky-l-bQhLfGB"
      }
    },
    {
      "cell_type": "code",
      "source": [
        "print(pd.date_range('2017-01-01','2017-01-07', freq='B'))\n"
      ],
      "metadata": {
        "colab": {
          "base_uri": "https://localhost:8080/"
        },
        "id": "yxA9fC8wK9a7",
        "outputId": "71ce58f1-58db-4035-958e-73a9a1197fd3"
      },
      "execution_count": 176,
      "outputs": [
        {
          "output_type": "stream",
          "name": "stdout",
          "text": [
            "DatetimeIndex(['2017-01-02', '2017-01-03', '2017-01-04', '2017-01-05',\n",
            "               '2017-01-06'],\n",
            "              dtype='datetime64[ns]', freq='B')\n"
          ]
        }
      ]
    },
    {
      "cell_type": "markdown",
      "source": [
        "### shift 메서드\n",
        "\n",
        "인잣값만큼 데이터를 밀어내는 메서드"
      ],
      "metadata": {
        "id": "aT3l7DCsN8OR"
      }
    },
    {
      "cell_type": "markdown",
      "source": [
        "아래의 데이터세트의 분석 목적은 : 에볼라 확산속도를 알아보는 것\n",
        "\n",
        "그렇기 때문에 시작점을 맞춰줘야함\n",
        "\n"
      ],
      "metadata": {
        "id": "P6Ws9GRRc728"
      }
    },
    {
      "cell_type": "code",
      "source": [
        "import matplotlib.pyplot as plt\n",
        "\n",
        "ebola.index = ebola['Date']\n",
        "\n",
        "fig,ax = plt.subplots()\n",
        "ax = ebola.iloc[0:,1:].plot(ax=ax)\n",
        "ax.legend(fontsize=7, loc=2, borderaxespad=0.)\n",
        "plt.show()"
      ],
      "metadata": {
        "colab": {
          "base_uri": "https://localhost:8080/",
          "height": 277
        },
        "id": "jmq6FGvRN5Tj",
        "outputId": "cacfe7ca-75e9-4da1-926c-36935b51d9df"
      },
      "execution_count": 178,
      "outputs": [
        {
          "output_type": "display_data",
          "data": {
            "text/plain": [
              "<Figure size 432x288 with 1 Axes>"
            ],
            "image/png": "[encoded data removed]"
          },
          "metadata": {
            "needs_background": "light"
          }
        }
      ]
    },
    {
      "cell_type": "code",
      "source": [
        "ebola_sub = ebola[['Day','Cases_Guinea','Cases_Liberia']]\n",
        "print(ebola_sub.tail())"
      ],
      "metadata": {
        "colab": {
          "base_uri": "https://localhost:8080/"
        },
        "id": "b5u2wxH5OOnG",
        "outputId": "6497c643-d293-4424-f30a-3044300d701c"
      },
      "execution_count": 180,
      "outputs": [
        {
          "output_type": "stream",
          "name": "stdout",
          "text": [
            "            Day  Cases_Guinea  Cases_Liberia\n",
            "Date                                        \n",
            "2014-03-27    5         103.0            8.0\n",
            "2014-03-26    4          86.0            NaN\n",
            "2014-03-25    3          86.0            NaN\n",
            "2014-03-24    2          86.0            NaN\n",
            "2014-03-22    0          49.0            NaN\n"
          ]
        }
      ]
    },
    {
      "cell_type": "code",
      "source": [
        "ebola = pd.read_csv('/content/drive/MyDrive/My_GitHub/Python_ML/Doit_Pandas_dataset/country_timeseries.csv', parse_dates=['Date'])\n",
        "print(ebola.head().iloc[:,:5])"
      ],
      "metadata": {
        "colab": {
          "base_uri": "https://localhost:8080/"
        },
        "id": "f6cZBeqoOw1i",
        "outputId": "844df39e-0414-4bd6-d593-026735bbacb9"
      },
      "execution_count": 181,
      "outputs": [
        {
          "output_type": "stream",
          "name": "stdout",
          "text": [
            "        Date  Day  Cases_Guinea  Cases_Liberia  Cases_SierraLeone\n",
            "0 2015-01-05  289        2776.0            NaN            10030.0\n",
            "1 2015-01-04  288        2775.0            NaN             9780.0\n",
            "2 2015-01-03  287        2769.0         8166.0             9722.0\n",
            "3 2015-01-02  286           NaN         8157.0                NaN\n",
            "4 2014-12-31  284        2730.0         8115.0             9633.0\n"
          ]
        }
      ]
    },
    {
      "cell_type": "code",
      "source": [
        "print(ebola.tail().iloc[:,:5])"
      ],
      "metadata": {
        "colab": {
          "base_uri": "https://localhost:8080/"
        },
        "id": "DxwY9irsPSdy",
        "outputId": "e348b97b-00bd-43b7-fb57-b52eae755258"
      },
      "execution_count": 182,
      "outputs": [
        {
          "output_type": "stream",
          "name": "stdout",
          "text": [
            "          Date  Day  Cases_Guinea  Cases_Liberia  Cases_SierraLeone\n",
            "117 2014-03-27    5         103.0            8.0                6.0\n",
            "118 2014-03-26    4          86.0            NaN                NaN\n",
            "119 2014-03-25    3          86.0            NaN                NaN\n",
            "120 2014-03-24    2          86.0            NaN                NaN\n",
            "121 2014-03-22    0          49.0            NaN                NaN\n"
          ]
        }
      ]
    },
    {
      "cell_type": "code",
      "source": [
        "ebola.index = ebola['Date']\n",
        "new_idx = pd.date_range(ebola.index.min(),ebola.index.max())"
      ],
      "metadata": {
        "id": "VU6XtSwDPV-5"
      },
      "execution_count": 183,
      "outputs": []
    },
    {
      "cell_type": "code",
      "source": [
        "print(new_idx)"
      ],
      "metadata": {
        "colab": {
          "base_uri": "https://localhost:8080/"
        },
        "id": "s0vQ9exRPmRe",
        "outputId": "3ec21ff4-fe7b-4cce-d1a6-dd6490a451f9"
      },
      "execution_count": 184,
      "outputs": [
        {
          "output_type": "stream",
          "name": "stdout",
          "text": [
            "DatetimeIndex(['2014-03-22', '2014-03-23', '2014-03-24', '2014-03-25',\n",
            "               '2014-03-26', '2014-03-27', '2014-03-28', '2014-03-29',\n",
            "               '2014-03-30', '2014-03-31',\n",
            "               ...\n",
            "               '2014-12-27', '2014-12-28', '2014-12-29', '2014-12-30',\n",
            "               '2014-12-31', '2015-01-01', '2015-01-02', '2015-01-03',\n",
            "               '2015-01-04', '2015-01-05'],\n",
            "              dtype='datetime64[ns]', length=290, freq='D')\n"
          ]
        }
      ]
    },
    {
      "cell_type": "code",
      "source": [
        "new_idx = reversed(new_idx)"
      ],
      "metadata": {
        "id": "OUrVCT70PpB3"
      },
      "execution_count": 185,
      "outputs": []
    },
    {
      "cell_type": "code",
      "source": [
        "ebola = ebola.reindex(new_idx)\n",
        "print(ebola.head().iloc[:,:5])"
      ],
      "metadata": {
        "colab": {
          "base_uri": "https://localhost:8080/"
        },
        "id": "G_3FWb7yPy--",
        "outputId": "e04a0376-913e-41c2-f9bc-671611e48e6d"
      },
      "execution_count": 186,
      "outputs": [
        {
          "output_type": "stream",
          "name": "stdout",
          "text": [
            "                 Date    Day  Cases_Guinea  Cases_Liberia  Cases_SierraLeone\n",
            "Date                                                                        \n",
            "2015-01-05 2015-01-05  289.0        2776.0            NaN            10030.0\n",
            "2015-01-04 2015-01-04  288.0        2775.0            NaN             9780.0\n",
            "2015-01-03 2015-01-03  287.0        2769.0         8166.0             9722.0\n",
            "2015-01-02 2015-01-02  286.0           NaN         8157.0                NaN\n",
            "2015-01-01        NaT    NaN           NaN            NaN                NaN\n"
          ]
        }
      ]
    },
    {
      "cell_type": "code",
      "source": [
        "print(ebola.tail().iloc[:,:5])"
      ],
      "metadata": {
        "colab": {
          "base_uri": "https://localhost:8080/"
        },
        "id": "LvydD6ZFP9K5",
        "outputId": "43b0cc75-fcb7-4a75-be3b-e934c7fbf473"
      },
      "execution_count": 187,
      "outputs": [
        {
          "output_type": "stream",
          "name": "stdout",
          "text": [
            "                 Date  Day  Cases_Guinea  Cases_Liberia  Cases_SierraLeone\n",
            "Date                                                                      \n",
            "2014-03-26 2014-03-26  4.0          86.0            NaN                NaN\n",
            "2014-03-25 2014-03-25  3.0          86.0            NaN                NaN\n",
            "2014-03-24 2014-03-24  2.0          86.0            NaN                NaN\n",
            "2014-03-23        NaT  NaN           NaN            NaN                NaN\n",
            "2014-03-22 2014-03-22  0.0          49.0            NaN                NaN\n"
          ]
        }
      ]
    },
    {
      "cell_type": "markdown",
      "source": [
        "### last_valid_index & first_valid_index 메서드\n",
        "\n",
        "last_valid_index : 가장 오래된 데이터를 가져옴\n",
        "\n",
        "first_valid_index : 가장 최근의 데이터를 가져옴"
      ],
      "metadata": {
        "id": "X7ON40HEQNjG"
      }
    },
    {
      "cell_type": "code",
      "source": [
        "last_valid = ebola.apply(pd.Series.last_valid_index)\n",
        "print(last_valid)"
      ],
      "metadata": {
        "colab": {
          "base_uri": "https://localhost:8080/"
        },
        "id": "Ri2BRvlXQA2X",
        "outputId": "96f23f40-079a-48ef-9391-7f01051a57c0"
      },
      "execution_count": 188,
      "outputs": [
        {
          "output_type": "stream",
          "name": "stdout",
          "text": [
            "Date                  2014-03-22\n",
            "Day                   2014-03-22\n",
            "Cases_Guinea          2014-03-22\n",
            "Cases_Liberia         2014-03-27\n",
            "Cases_SierraLeone     2014-03-27\n",
            "Cases_Nigeria         2014-07-23\n",
            "Cases_Senegal         2014-08-31\n",
            "Cases_UnitedStates    2014-10-01\n",
            "Cases_Spain           2014-10-08\n",
            "Cases_Mali            2014-10-22\n",
            "Deaths_Guinea         2014-03-22\n",
            "Deaths_Liberia        2014-03-27\n",
            "Deaths_SierraLeone    2014-03-27\n",
            "Deaths_Nigeria        2014-07-23\n",
            "Deaths_Senegal        2014-09-07\n",
            "Deaths_UnitedStates   2014-10-01\n",
            "Deaths_Spain          2014-10-08\n",
            "Deaths_Mali           2014-10-22\n",
            "dtype: datetime64[ns]\n"
          ]
        }
      ]
    },
    {
      "cell_type": "code",
      "source": [
        "first_valid = ebola.apply(pd.Series.first_valid_index)\n",
        "print(first_valid)"
      ],
      "metadata": {
        "colab": {
          "base_uri": "https://localhost:8080/"
        },
        "id": "ThKqmenfQmnN",
        "outputId": "99fd9ef5-91e3-45e7-8a51-c0e54bff7157"
      },
      "execution_count": 189,
      "outputs": [
        {
          "output_type": "stream",
          "name": "stdout",
          "text": [
            "Date                  2015-01-05\n",
            "Day                   2015-01-05\n",
            "Cases_Guinea          2015-01-05\n",
            "Cases_Liberia         2015-01-03\n",
            "Cases_SierraLeone     2015-01-05\n",
            "Cases_Nigeria         2014-12-07\n",
            "Cases_Senegal         2014-12-07\n",
            "Cases_UnitedStates    2014-12-07\n",
            "Cases_Spain           2014-12-07\n",
            "Cases_Mali            2014-12-07\n",
            "Deaths_Guinea         2015-01-05\n",
            "Deaths_Liberia        2015-01-03\n",
            "Deaths_SierraLeone    2015-01-05\n",
            "Deaths_Nigeria        2014-12-07\n",
            "Deaths_Senegal        2014-12-07\n",
            "Deaths_UnitedStates   2014-12-07\n",
            "Deaths_Spain          2014-12-07\n",
            "Deaths_Mali           2014-12-07\n",
            "dtype: datetime64[ns]\n"
          ]
        }
      ]
    },
    {
      "cell_type": "code",
      "source": [
        "earliest_date = ebola.index.min()\n",
        "print(earliest_date)"
      ],
      "metadata": {
        "colab": {
          "base_uri": "https://localhost:8080/"
        },
        "id": "9MOqnkc4RkIh",
        "outputId": "06751fbe-3c67-4566-bc23-89e46ef8833a"
      },
      "execution_count": 191,
      "outputs": [
        {
          "output_type": "stream",
          "name": "stdout",
          "text": [
            "2014-03-22 00:00:00\n"
          ]
        }
      ]
    },
    {
      "cell_type": "code",
      "source": [
        "shift_values = last_valid - earliest_date\n",
        "print(shift_values)"
      ],
      "metadata": {
        "colab": {
          "base_uri": "https://localhost:8080/"
        },
        "id": "e_wuvHeFRxsW",
        "outputId": "300bf7f7-c998-4261-f491-e4730cdeb8ef"
      },
      "execution_count": 192,
      "outputs": [
        {
          "output_type": "stream",
          "name": "stdout",
          "text": [
            "Date                    0 days\n",
            "Day                     0 days\n",
            "Cases_Guinea            0 days\n",
            "Cases_Liberia           5 days\n",
            "Cases_SierraLeone       5 days\n",
            "Cases_Nigeria         123 days\n",
            "Cases_Senegal         162 days\n",
            "Cases_UnitedStates    193 days\n",
            "Cases_Spain           200 days\n",
            "Cases_Mali            214 days\n",
            "Deaths_Guinea           0 days\n",
            "Deaths_Liberia          5 days\n",
            "Deaths_SierraLeone      5 days\n",
            "Deaths_Nigeria        123 days\n",
            "Deaths_Senegal        169 days\n",
            "Deaths_UnitedStates   193 days\n",
            "Deaths_Spain          200 days\n",
            "Deaths_Mali           214 days\n",
            "dtype: timedelta64[ns]\n"
          ]
        }
      ]
    },
    {
      "cell_type": "code",
      "source": [
        "ebola_dict = {}\n",
        "for idx, col in enumerate(ebola):\n",
        "    d = shift_values[idx].days\n",
        "    shifted = ebola[col].shift(d)\n",
        "    ebola_dict[col] = shifted"
      ],
      "metadata": {
        "id": "FCG4qvBgR7Pk"
      },
      "execution_count": 193,
      "outputs": []
    },
    {
      "cell_type": "code",
      "source": [
        "ebola_shift = pd.DataFrame(ebola_dict)"
      ],
      "metadata": {
        "id": "h15v1zfhSthY"
      },
      "execution_count": 194,
      "outputs": []
    },
    {
      "cell_type": "code",
      "source": [
        "print(ebola_shift.tail())"
      ],
      "metadata": {
        "colab": {
          "base_uri": "https://localhost:8080/"
        },
        "id": "cabW3gJmSx3B",
        "outputId": "8d6ded34-245e-48bf-bc44-4c22c15c211b"
      },
      "execution_count": 195,
      "outputs": [
        {
          "output_type": "stream",
          "name": "stdout",
          "text": [
            "                 Date  Day  Cases_Guinea  Cases_Liberia  Cases_SierraLeone  \\\n",
            "Date                                                                         \n",
            "2014-03-26 2014-03-26  4.0          86.0            8.0                2.0   \n",
            "2014-03-25 2014-03-25  3.0          86.0            NaN                NaN   \n",
            "2014-03-24 2014-03-24  2.0          86.0            7.0                NaN   \n",
            "2014-03-23        NaT  NaN           NaN            3.0                2.0   \n",
            "2014-03-22 2014-03-22  0.0          49.0            8.0                6.0   \n",
            "\n",
            "            Cases_Nigeria  Cases_Senegal  Cases_UnitedStates  Cases_Spain  \\\n",
            "Date                                                                        \n",
            "2014-03-26            1.0            NaN                 1.0          1.0   \n",
            "2014-03-25            NaN            NaN                 NaN          NaN   \n",
            "2014-03-24            NaN            NaN                 NaN          NaN   \n",
            "2014-03-23            NaN            NaN                 NaN          NaN   \n",
            "2014-03-22            0.0            1.0                 1.0          1.0   \n",
            "\n",
            "            Cases_Mali  Deaths_Guinea  Deaths_Liberia  Deaths_SierraLeone  \\\n",
            "Date                                                                        \n",
            "2014-03-26         NaN           62.0             4.0                 2.0   \n",
            "2014-03-25         NaN           60.0             NaN                 NaN   \n",
            "2014-03-24         NaN           59.0             2.0                 NaN   \n",
            "2014-03-23         NaN            NaN             3.0                 2.0   \n",
            "2014-03-22         1.0           29.0             6.0                 5.0   \n",
            "\n",
            "            Deaths_Nigeria  Deaths_Senegal  Deaths_UnitedStates  Deaths_Spain  \\\n",
            "Date                                                                            \n",
            "2014-03-26             1.0             NaN                  0.0           1.0   \n",
            "2014-03-25             NaN             NaN                  NaN           NaN   \n",
            "2014-03-24             NaN             NaN                  NaN           NaN   \n",
            "2014-03-23             NaN             NaN                  NaN           NaN   \n",
            "2014-03-22             0.0             0.0                  0.0           1.0   \n",
            "\n",
            "            Deaths_Mali  \n",
            "Date                     \n",
            "2014-03-26          NaN  \n",
            "2014-03-25          NaN  \n",
            "2014-03-24          NaN  \n",
            "2014-03-23          NaN  \n",
            "2014-03-22          1.0  \n"
          ]
        }
      ]
    },
    {
      "cell_type": "code",
      "source": [
        "ebola_shift.index = ebola_shift['Day']\n",
        "ebola_shift = ebola_shift.drop(['Date','Day'], axis = 1)\n",
        "print(ebola_shift.tail())"
      ],
      "metadata": {
        "colab": {
          "base_uri": "https://localhost:8080/"
        },
        "id": "zl3xg0xeS2rs",
        "outputId": "55120ba1-6c8b-47c8-fc61-87bc92510a67"
      },
      "execution_count": 196,
      "outputs": [
        {
          "output_type": "stream",
          "name": "stdout",
          "text": [
            "     Cases_Guinea  Cases_Liberia  Cases_SierraLeone  Cases_Nigeria  \\\n",
            "Day                                                                  \n",
            "4.0          86.0            8.0                2.0            1.0   \n",
            "3.0          86.0            NaN                NaN            NaN   \n",
            "2.0          86.0            7.0                NaN            NaN   \n",
            "NaN           NaN            3.0                2.0            NaN   \n",
            "0.0          49.0            8.0                6.0            0.0   \n",
            "\n",
            "     Cases_Senegal  Cases_UnitedStates  Cases_Spain  Cases_Mali  \\\n",
            "Day                                                               \n",
            "4.0            NaN                 1.0          1.0         NaN   \n",
            "3.0            NaN                 NaN          NaN         NaN   \n",
            "2.0            NaN                 NaN          NaN         NaN   \n",
            "NaN            NaN                 NaN          NaN         NaN   \n",
            "0.0            1.0                 1.0          1.0         1.0   \n",
            "\n",
            "     Deaths_Guinea  Deaths_Liberia  Deaths_SierraLeone  Deaths_Nigeria  \\\n",
            "Day                                                                      \n",
            "4.0           62.0             4.0                 2.0             1.0   \n",
            "3.0           60.0             NaN                 NaN             NaN   \n",
            "2.0           59.0             2.0                 NaN             NaN   \n",
            "NaN            NaN             3.0                 2.0             NaN   \n",
            "0.0           29.0             6.0                 5.0             0.0   \n",
            "\n",
            "     Deaths_Senegal  Deaths_UnitedStates  Deaths_Spain  Deaths_Mali  \n",
            "Day                                                                  \n",
            "4.0             NaN                  0.0           1.0          NaN  \n",
            "3.0             NaN                  NaN           NaN          NaN  \n",
            "2.0             NaN                  NaN           NaN          NaN  \n",
            "NaN             NaN                  NaN           NaN          NaN  \n",
            "0.0             0.0                  0.0           1.0          1.0  \n"
          ]
        }
      ]
    },
    {
      "cell_type": "code",
      "source": [
        "fig, ax = plt.subplots()\n",
        "ax = ebola_shift.iloc[:,:].plot(ax=ax)\n",
        "ax.legend(fontsize=7,loc=2,borderaxespad=0.)\n",
        "plt.show()"
      ],
      "metadata": {
        "colab": {
          "base_uri": "https://localhost:8080/",
          "height": 279
        },
        "id": "scwBpzzbTIfz",
        "outputId": "99eb26ee-4b51-435a-9ca2-0e9280196bbc"
      },
      "execution_count": 197,
      "outputs": [
        {
          "output_type": "display_data",
          "data": {
            "text/plain": [
              "<Figure size 432x288 with 1 Axes>"
            ],
            "image/png": "[encoded data removed]"
          },
          "metadata": {
            "needs_background": "light"
          }
        }
      ]
    },
    {
      "cell_type": "markdown",
      "source": [
        "## 스페셜"
      ],
      "metadata": {
        "id": "RSHkTCCXdLyN"
      }
    },
    {
      "cell_type": "markdown",
      "source": [
        "### timeit\n",
        "\n",
        "표현식의 실행 시간을 측정할 때 사용하는 '파이썬 문장'\n",
        "\n",
        "실행시간을 측정해야 하는 코드 앞에 '%%timeit'이라고 작성하면 됨\n",
        "\n",
        "주로 성능 저하시키는 부분이 어딘지 확인하기 위해 사용"
      ],
      "metadata": {
        "id": "d4eUcukLdNXg"
      }
    },
    {
      "cell_type": "code",
      "source": [
        "import pandas as pd\n",
        "import numpy as np\n",
        "\n",
        "df = pd.DataFrame({'a':[10,20,30], 'b':[20,30,40]})\n",
        "\n",
        "def avg_2_apply(row):\n",
        "    x = row[0]\n",
        "    y = row[1]\n",
        "    if (x == 20):\n",
        "        return np.nan\n",
        "    else:\n",
        "        return (x+y)/2"
      ],
      "metadata": {
        "id": "4k6Fh93RcaGr"
      },
      "execution_count": 203,
      "outputs": []
    },
    {
      "cell_type": "code",
      "source": [
        "%%timeit\n",
        "df.apply(avg_2_apply, axis=1)"
      ],
      "metadata": {
        "colab": {
          "base_uri": "https://localhost:8080/"
        },
        "id": "dgL47pv4d97U",
        "outputId": "bb0b01af-b238-450b-e355-d91b4cf30bc3"
      },
      "execution_count": 204,
      "outputs": [
        {
          "output_type": "stream",
          "name": "stdout",
          "text": [
            "564 µs ± 16.1 µs per loop (mean ± std. dev. of 7 runs, 1000 loops each)\n"
          ]
        }
      ]
    },
    {
      "cell_type": "markdown",
      "source": [
        "### vectorize"
      ],
      "metadata": {
        "id": "EchcbXwFessy"
      }
    },
    {
      "cell_type": "code",
      "source": [
        "@np.vectorize ## 함수 벡터화\n",
        "def v_avg_2_mod(x,y):\n",
        "    if (x==20):\n",
        "        return(np.NaN)\n",
        "    else:\n",
        "        return(x+y)/2"
      ],
      "metadata": {
        "id": "TaQQP2ALeE1q"
      },
      "execution_count": 205,
      "outputs": []
    },
    {
      "cell_type": "code",
      "source": [
        "%%timeit\n",
        "v_avg_2_mod(df['a'],df['b'])\n"
      ],
      "metadata": {
        "colab": {
          "base_uri": "https://localhost:8080/"
        },
        "id": "HNoBrfeueYvO",
        "outputId": "a21dccbd-e580-40e1-afd7-147d37c160e0"
      },
      "execution_count": 206,
      "outputs": [
        {
          "output_type": "stream",
          "name": "stdout",
          "text": [
            "85.4 µs ± 26 µs per loop (mean ± std. dev. of 7 runs, 10000 loops each)\n"
          ]
        }
      ]
    },
    {
      "cell_type": "markdown",
      "source": [
        "### numba"
      ],
      "metadata": {
        "id": "rE7vVoq3ewKo"
      }
    },
    {
      "cell_type": "code",
      "source": [
        "import numba\n",
        "@numba.vectorize\n",
        "def v_avg_2_numba(x,y):\n",
        "    if (int(x)==20):\n",
        "        return(np.NaN)\n",
        "    else:\n",
        "        return (x+y)/2"
      ],
      "metadata": {
        "id": "XCk2N-byejL0"
      },
      "execution_count": 208,
      "outputs": []
    },
    {
      "cell_type": "code",
      "source": [
        "%%timeit\n",
        "v_avg_2_numba(df['a'].values,df['b'].values)"
      ],
      "metadata": {
        "colab": {
          "base_uri": "https://localhost:8080/"
        },
        "id": "tMyFBC8Oe_db",
        "outputId": "5096bfba-aa5f-4a22-8668-a7718bf0ec4c"
      },
      "execution_count": 209,
      "outputs": [
        {
          "output_type": "stream",
          "name": "stdout",
          "text": [
            "The slowest run took 6.20 times longer than the fastest. This could mean that an intermediate result is being cached.\n",
            "38.7 µs ± 36.7 µs per loop (mean ± std. dev. of 7 runs, 1 loop each)\n"
          ]
        }
      ]
    },
    {
      "cell_type": "markdown",
      "source": [
        "**반복 실행 횟수는 점점 늘어났지만 실행 시간은 획기적으로 줄어듦**"
      ],
      "metadata": {
        "id": "5Rq9cpJ0fPCc"
      }
    },
    {
      "cell_type": "markdown",
      "source": [
        "**즉, 함수를 최적화하면 프로그램의 성능은 향상됨**"
      ],
      "metadata": {
        "id": "pmdg2DOCfanE"
      }
    }
  ]
}